{
  "cells": [
    {
      "cell_type": "markdown",
      "metadata": {
        "id": "dfefa2e4"
      },
      "source": [
        "Advanced - Structural Learning <br>\n",
        "Mixture of expert and data"
      ],
      "id": "dfefa2e4"
    },
    {
      "cell_type": "code",
      "source": [
        "install.packages(\n",
        "  \"bnlearn\",\n",
        "  repos = \"https://cloud.r-project.org\",   # CRAN mirror\n",
        "  dependencies = TRUE                      # pulls in igraph, gRain, etc.\n",
        ")"
      ],
      "metadata": {
        "id": "QD424TJlxrAU"
      },
      "id": "QD424TJlxrAU",
      "execution_count": null,
      "outputs": []
    },
    {
      "cell_type": "code",
      "source": [
        "install.packages(\n",
        "  \"gRain\",\n",
        "  repos = \"https://cloud.r-project.org\",   # CRAN mirror\n",
        "  dependencies = TRUE                      # pulls in igraph, gRain, etc.\n",
        ")"
      ],
      "metadata": {
        "colab": {
          "base_uri": "https://localhost:8080/"
        },
        "id": "h385gNsf-NSR",
        "outputId": "5aef34db-d442-478a-8f22-78f7cf1acd49"
      },
      "id": "h385gNsf-NSR",
      "execution_count": null,
      "outputs": [
        {
          "output_type": "stream",
          "name": "stderr",
          "text": [
            "Installing package into ‘/usr/local/lib/R/site-library’\n",
            "(as ‘lib’ is unspecified)\n",
            "\n",
            "also installing the dependencies ‘cowplot’, ‘Deriv’, ‘doBy’, ‘litedown’, ‘gRim’, ‘markdown’, ‘microbenchmark’\n",
            "\n",
            "\n",
            "Loading required package: gRbase\n",
            "\n",
            "\n",
            "Attaching package: ‘gRbase’\n",
            "\n",
            "\n",
            "The following objects are masked from ‘package:bnlearn’:\n",
            "\n",
            "    ancestors, children, nodes, parents\n",
            "\n",
            "\n"
          ]
        }
      ]
    },
    {
      "cell_type": "code",
      "source": [
        "if (!require(\"BiocManager\", quietly = TRUE))\n",
        "    install.packages(\"BiocManager\")\n",
        "\n",
        "BiocManager::install(\"Rgraphviz\")"
      ],
      "metadata": {
        "colab": {
          "base_uri": "https://localhost:8080/"
        },
        "id": "-m9hpmZTdgKa",
        "outputId": "1719330f-a77a-4801-cf4b-df0b3c7ad6ba"
      },
      "id": "-m9hpmZTdgKa",
      "execution_count": 112,
      "outputs": [
        {
          "output_type": "stream",
          "name": "stderr",
          "text": [
            "Installing package into ‘/usr/local/lib/R/site-library’\n",
            "(as ‘lib’ is unspecified)\n",
            "\n",
            "'getOption(\"repos\")' replaces Bioconductor standard repositories, see\n",
            "'help(\"repositories\", package = \"BiocManager\")' for details.\n",
            "Replacement repositories:\n",
            "    CRAN: https://cran.rstudio.com\n",
            "\n",
            "Bioconductor version 3.21 (BiocManager 1.30.26), R 4.5.1 (2025-06-13)\n",
            "\n",
            "Installing package(s) 'BiocVersion', 'Rgraphviz'\n",
            "\n",
            "also installing the dependencies ‘BiocGenerics’, ‘graph’\n",
            "\n",
            "\n",
            "Old packages: 'data.table', 'purrr', 'waldo'\n",
            "\n"
          ]
        }
      ]
    },
    {
      "cell_type": "code",
      "source": [
        "install.packages(\n",
        "  \"lattice\",\n",
        "  repos = \"https://cloud.r-project.org\",   # CRAN mirror\n",
        "  dependencies = TRUE                      # pulls in igraph, gRain, etc.\n",
        ")"
      ],
      "metadata": {
        "colab": {
          "base_uri": "https://localhost:8080/"
        },
        "id": "OZU31MgNdn02",
        "outputId": "7d648a05-7599-4b95-c4b8-35548909d8d2"
      },
      "id": "OZU31MgNdn02",
      "execution_count": 113,
      "outputs": [
        {
          "output_type": "stream",
          "name": "stderr",
          "text": [
            "Installing package into ‘/usr/local/lib/R/site-library’\n",
            "(as ‘lib’ is unspecified)\n",
            "\n",
            "also installing the dependencies ‘deldir’, ‘png’, ‘jpeg’, ‘interp’, ‘latticeExtra’, ‘colorspace’\n",
            "\n",
            "\n"
          ]
        }
      ]
    },
    {
      "cell_type": "code",
      "source": [
        "install.packages(\n",
        "  \"penalized\",\n",
        "  repos = \"https://cloud.r-project.org\",   # CRAN mirror\n",
        "  dependencies = TRUE                      # pulls in igraph, gRain, etc.\n",
        ")"
      ],
      "metadata": {
        "colab": {
          "base_uri": "https://localhost:8080/"
        },
        "id": "FCXUPjwHrIAw",
        "outputId": "b6b4fc6f-c6d2-4545-9879-0fc968d510f3"
      },
      "id": "FCXUPjwHrIAw",
      "execution_count": 149,
      "outputs": [
        {
          "output_type": "stream",
          "name": "stderr",
          "text": [
            "Installing package into ‘/usr/local/lib/R/site-library’\n",
            "(as ‘lib’ is unspecified)\n",
            "\n",
            "Warning message:\n",
            "“dependency ‘globaltest’ is not available”\n"
          ]
        }
      ]
    },
    {
      "cell_type": "code",
      "source": [
        "library(bnlearn)\n",
        "library(gRain)\n",
        "library(penalized)\n",
        "\n",
        "library(lattice)\n",
        "library(Rgraphviz)\n",
        "library(rbmn)"
      ],
      "metadata": {
        "id": "eCqUvUFWRCg9"
      },
      "id": "eCqUvUFWRCg9",
      "execution_count": 169,
      "outputs": []
    },
    {
      "cell_type": "code",
      "execution_count": null,
      "metadata": {
        "id": "9fb246cc",
        "colab": {
          "base_uri": "https://localhost:8080/",
          "height": 191
        },
        "outputId": "eeac1127-f2df-4e66-f7b1-fe70736c04c9"
      },
      "outputs": [
        {
          "output_type": "display_data",
          "data": {
            "text/plain": [
              "\n",
              "  Parameters of node A (Gaussian distribution)\n",
              "\n",
              "Conditional density: A\n",
              "Coefficients:\n",
              "(Intercept)  \n",
              "   1.007493  \n",
              "Standard deviation of the residuals: 1.004233 "
            ]
          },
          "metadata": {}
        },
        {
          "output_type": "stream",
          "name": "stderr",
          "text": [
            "Warning message in full.spec.backend(fitted, dist):\n",
            "“different nodes have different number of residuals or fitted values, disregarding.”\n"
          ]
        }
      ],
      "source": [
        "# Gaussian Network\n",
        "net = model2network(\"[A][B][C|A:B]\")\n",
        "\n",
        "# Case 1\n",
        "# Expert Defined - local distributions\n",
        "distA = list(coef = c(\"(Intercept)\" = 2), sd = 1)\n",
        "distB = list(coef = c(\"(Intercept)\" = 1), sd = 1.5)\n",
        "distC = list(coef = c(\"(Intercept)\" = 0.5, \"A\" = 0.75, \"B\" = 1.32), sd = 0.4)\n",
        "\n",
        "cfit = custom.fit(net, dist = list(A = distA, B = distB, C = distC))\n",
        "\n",
        "#graphviz.plot(cfit)\n",
        "\n",
        "# Case 2 - data driven\n",
        "# Suppose - we want to fit \"all\" of the local distributions using data\n",
        "data(gaussian.test)\n",
        "#head(gaussian.test)\n",
        "\n",
        "#?lm\n",
        "# use lm to estimate the local regressions\n",
        "distA = lm(A ~ 1, data = gaussian.test)\n",
        "distB = lm(B ~ 1, data = gaussian.test)\n",
        "distC = lm(C~ A + B, data = gaussian.test)\n",
        "\n",
        "# take the new local paramaterizations and push them into the bn\n",
        "cfit =  custom.fit(net, dist = list(A = distA, B = distB, C = distC))\n",
        "cfit$A\n",
        "\n",
        "# Case 3 - a mixture\n",
        "# Suppose - we want to fit \"some\" of the local distributions using data\n",
        "distA = list(coef = c(\"(Intercept)\" = 2), sd = 1) #expert\n",
        "distB = list(coef = c(\"(Intercept)\" = 1), sd = 1.5) #expert\n",
        "distC = lm(C~ A + B, data = gaussian.test) # data driven\n",
        "#cfit =  custom.fit(net, dist = list(A = distA, B = distB, C = distC))\n",
        "#cfit$A\n",
        "#cfit$C\n",
        "\n",
        "# Shrinkage\n",
        "distC = penalized(C~A+B, data = gaussian.test, lambda1 = 0, lambda2 = .5, trace = FALSE)\n",
        "#distC\n",
        "cfit =  custom.fit(net, dist = list(A = distA, B = distB, C = distC))"
      ],
      "id": "9fb246cc"
    },
    {
      "cell_type": "code",
      "execution_count": null,
      "metadata": {
        "id": "f6f6e942",
        "colab": {
          "base_uri": "https://localhost:8080/",
          "height": 225
        },
        "outputId": "853a9a21-9381-449a-97fb-ec83efb76f9c"
      },
      "outputs": [
        {
          "output_type": "display_data",
          "data": {
            "text/plain": [
              "\n",
              "  Parameters of node C (multinomial distribution)\n",
              "\n",
              "Conditional probability table:\n",
              "      a      b      c \n",
              "0.7434 0.2048 0.0518 "
            ]
          },
          "metadata": {}
        },
        {
          "output_type": "display_data",
          "data": {
            "text/plain": [
              "\n",
              "  Parameters of node C (multinomial distribution)\n",
              "\n",
              "Conditional probability table:\n",
              "    a    b    c \n",
              "0.50 0.25 0.25 "
            ]
          },
          "metadata": {}
        }
      ],
      "source": [
        "# Multinomial BN\n",
        "data(learning.test)\n",
        "#head(learning.test)\n",
        "\n",
        "dag = model2network(\"[A][C][F][B|A][D|A:C][E|B:F]\")\n",
        "#graphviz.plot(dag)\n",
        "\n",
        "# Case 1\n",
        "# using the data to estimate the local distribution\n",
        "my.bn = bn.fit(dag, data = learning.test)\n",
        "my.bn$C\n",
        "\n",
        "# Case 2  - mixture of expert and data\n",
        "# new \"information\" from experts -- want to specify some of the local distributions\n",
        "cpt = coef(my.bn$C)\n",
        "cpt[1:3] = c(0.50, 0.25, 0.25)\n",
        "my.bn$C = cpt\n",
        "my.bn$C\n"
      ],
      "id": "f6f6e942"
    },
    {
      "cell_type": "code",
      "source": [],
      "metadata": {
        "id": "-D0UoIHksX43"
      },
      "execution_count": null,
      "outputs": [],
      "id": "-D0UoIHksX43"
    }
  ],
  "metadata": {
    "kernelspec": {
      "display_name": "R",
      "language": "R",
      "name": "ir"
    },
    "language_info": {
      "codemirror_mode": "r",
      "file_extension": ".r",
      "mimetype": "text/x-r-source",
      "name": "R",
      "pygments_lexer": "r",
      "version": "4.2.0"
    },
    "colab": {
      "provenance": []
    }
  },
  "nbformat": 4,
  "nbformat_minor": 5
}