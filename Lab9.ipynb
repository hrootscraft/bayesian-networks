{
  "cells": [
    {
      "cell_type": "markdown",
      "id": "6b032b67",
      "metadata": {
        "id": "6b032b67"
      },
      "source": [
        "Chapter 2 - Gaussian Bayesian Networks - structural learning from data\n",
        "\n",
        "The crop data <br>\n",
        "G = genetic potential <br>\n",
        "E = environmental potential <br>\n",
        "V = vegatative mass <br>\n",
        "N = number of seeds (@ flowering time) <br>\n",
        "W = average weight (later in plants life) <br>\n",
        "C = crop <br>\n",
        "\n",
        "$G\\sim N(50, 10^2)$ <br>\n",
        "$E \\sim N(50, 10^2)$ <br>\n",
        "$V \\mid G = g,E=e \\sim N(-10.35 + 0.5g+0.70e, 5^2)$ <br>\n",
        "$N \\mid V = v \\sim N(45 + 0.1v, 9.95^2)$<br>\n",
        "$W \\mid V = v \\sim N(15 + 0.7v, 7.14^2)$<br>\n",
        "$C \\mid N = n, W = w \\sim N(0.3n + 0.7w, 6.25^2)$<br>"
      ]
    },
    {
      "cell_type": "code",
      "source": [
        "install.packages(\n",
        "  \"bnlearn\",\n",
        "  repos = \"https://cloud.r-project.org\",   # CRAN mirror\n",
        "  dependencies = TRUE                      # pulls in igraph, gRain, etc.\n",
        ")\n",
        "library(bnlearn)"
      ],
      "metadata": {
        "id": "QD424TJlxrAU"
      },
      "id": "QD424TJlxrAU",
      "execution_count": null,
      "outputs": []
    },
    {
      "cell_type": "code",
      "source": [
        "install.packages(\n",
        "  \"rbmn\",\n",
        "  repos = \"https://cloud.r-project.org\",   # CRAN mirror\n",
        "  dependencies = TRUE                      # pulls in igraph, gRain, etc.\n",
        ")\n",
        "library(rbmn)"
      ],
      "metadata": {
        "colab": {
          "base_uri": "https://localhost:8080/"
        },
        "id": "nk6d0Pzj2zYy",
        "outputId": "bb853f65-4fd3-4ca1-f77f-cfa9a1450092"
      },
      "id": "nk6d0Pzj2zYy",
      "execution_count": 22,
      "outputs": [
        {
          "output_type": "stream",
          "name": "stderr",
          "text": [
            "Installing package into ‘/usr/local/lib/R/site-library’\n",
            "(as ‘lib’ is unspecified)\n",
            "\n"
          ]
        }
      ]
    },
    {
      "cell_type": "code",
      "source": [
        "install.packages(\n",
        "  \"corpcor\",\n",
        "  repos = \"https://cloud.r-project.org\",   # CRAN mirror\n",
        "  dependencies = TRUE                      # pulls in igraph, gRain, etc.\n",
        ")\n",
        "library(corpcor)"
      ],
      "metadata": {
        "colab": {
          "base_uri": "https://localhost:8080/"
        },
        "id": "h385gNsf-NSR",
        "outputId": "aeb1674e-8aaa-4102-c78e-86c3841b8478"
      },
      "id": "h385gNsf-NSR",
      "execution_count": 51,
      "outputs": [
        {
          "output_type": "stream",
          "name": "stderr",
          "text": [
            "Installing package into ‘/usr/local/lib/R/site-library’\n",
            "(as ‘lib’ is unspecified)\n",
            "\n"
          ]
        }
      ]
    },
    {
      "cell_type": "code",
      "execution_count": 52,
      "metadata": {
        "id": "e7cf81de"
      },
      "outputs": [],
      "source": [
        "# From Lab 7 -- the paramaterization\n",
        "# Specify the BN (from formula --> graph)\n",
        "dag.bnlearn <- model2network(\"[G][E][V|G:E][N|V][W|V][C|N:W]\")\n",
        "\n",
        "# Specify the distributions\n",
        "disE <- list(coef = c(\"(Intercept)\" = 50), sd = 10)\n",
        "disG <- list(coef = c(\"(Intercept)\" = 50), sd = 10)\n",
        "disV <- list(coef = c(\"(Intercept)\" = -10.35, E = .70, G = 0.5), sd = 5)\n",
        "disN <- list(coef = c(\"(Intercept)\" = 45, V = .1), sd = 9.95)\n",
        "disW <- list(coef = c(\"(Intercept)\" = 15, V = 0.7), sd = 7.14)\n",
        "disC <- list(coef = c(\"(Intercept)\" = 0, N = 0.3, W = 0.7), sd = 6.25)\n",
        "\n",
        "# put them together for bn parameterization\n",
        "dis.list <- list(E = disE, G = disG, V = disV, N = disN, W = disW, C = disC)\n",
        "\n",
        "gbn.bnlearn <- custom.fit(dag.bnlearn, dist = dis.list)"
      ],
      "id": "e7cf81de"
    },
    {
      "cell_type": "code",
      "execution_count": 53,
      "metadata": {
        "id": "83a77f5d"
      },
      "outputs": [],
      "source": [
        "# From Lab 8\n",
        "# convert my bn object over to rbmn (by the book)\n",
        "\n",
        "#class(gbn.bnlearn)\n",
        "gbn.rbmn <- bnfit2nbn(gbn.bnlearn)\n",
        "gema.rbmn <- nbn2gema(gbn.rbmn)\n",
        "mn.rbmn <- gema2mn(gema.rbmn)\n",
        "\n",
        "set.seed(123)\n",
        "cropdata0 <- rbn(gbn.bnlearn, n = 10) # very small sample size\n",
        "cropdata1 <- rbn(gbn.bnlearn, n = 500) # moderate size\n",
        "cropdata2 <- rbn(gbn.bnlearn, n = 5000) # larger (but not large)"
      ],
      "id": "83a77f5d"
    },
    {
      "cell_type": "markdown",
      "source": [
        "## Correlation and Partial Correlation"
      ],
      "metadata": {
        "id": "2680b1ff"
      },
      "id": "2680b1ff"
    },
    {
      "cell_type": "code",
      "source": [
        "cormat <- cor(cropdata1[ , c(\"C\", \"W\", \"N\")]) # get the correlation matrix\n",
        "cormat"
      ],
      "metadata": {
        "colab": {
          "base_uri": "https://localhost:8080/",
          "height": 161
        },
        "id": "mFybfFN1-uht",
        "outputId": "ebf4a5af-3fae-48cd-912b-7bdf9b7a795b"
      },
      "id": "mFybfFN1-uht",
      "execution_count": 54,
      "outputs": [
        {
          "output_type": "display_data",
          "data": {
            "text/html": [
              "<table class=\"dataframe\">\n",
              "<caption>A matrix: 3 × 3 of type dbl</caption>\n",
              "<thead>\n",
              "\t<tr><th></th><th scope=col>C</th><th scope=col>W</th><th scope=col>N</th></tr>\n",
              "</thead>\n",
              "<tbody>\n",
              "\t<tr><th scope=row>C</th><td>1.0000000</td><td>0.67601400</td><td>0.38112023</td></tr>\n",
              "\t<tr><th scope=row>W</th><td>0.6760140</td><td>1.00000000</td><td>0.04594724</td></tr>\n",
              "\t<tr><th scope=row>N</th><td>0.3811202</td><td>0.04594724</td><td>1.00000000</td></tr>\n",
              "</tbody>\n",
              "</table>\n"
            ],
            "text/markdown": "\nA matrix: 3 × 3 of type dbl\n\n| <!--/--> | C | W | N |\n|---|---|---|---|\n| C | 1.0000000 | 0.67601400 | 0.38112023 |\n| W | 0.6760140 | 1.00000000 | 0.04594724 |\n| N | 0.3811202 | 0.04594724 | 1.00000000 |\n\n",
            "text/latex": "A matrix: 3 × 3 of type dbl\n\\begin{tabular}{r|lll}\n  & C & W & N\\\\\n\\hline\n\tC & 1.0000000 & 0.67601400 & 0.38112023\\\\\n\tW & 0.6760140 & 1.00000000 & 0.04594724\\\\\n\tN & 0.3811202 & 0.04594724 & 1.00000000\\\\\n\\end{tabular}\n",
            "text/plain": [
              "  C         W          N         \n",
              "C 1.0000000 0.67601400 0.38112023\n",
              "W 0.6760140 1.00000000 0.04594724\n",
              "N 0.3811202 0.04594724 1.00000000"
            ]
          },
          "metadata": {}
        }
      ]
    },
    {
      "cell_type": "code",
      "source": [
        "?cor2pcor"
      ],
      "metadata": {
        "id": "IoXqNaG0-zE6"
      },
      "id": "IoXqNaG0-zE6",
      "execution_count": 57,
      "outputs": []
    },
    {
      "cell_type": "code",
      "source": [
        "invcor <- cor2pcor(cormat) # cor2pcor computes pairwise partial correlation from correlation/covariance matrix\n",
        "dimnames(invcor) <- dimnames(cormat)\n",
        "invcor"
      ],
      "metadata": {
        "colab": {
          "base_uri": "https://localhost:8080/",
          "height": 161
        },
        "id": "2hZOv5BI-yBS",
        "outputId": "456ecee3-fb47-4188-f08b-cfa9f7079a32"
      },
      "id": "2hZOv5BI-yBS",
      "execution_count": 56,
      "outputs": [
        {
          "output_type": "display_data",
          "data": {
            "text/html": [
              "<table class=\"dataframe\">\n",
              "<caption>A matrix: 3 × 3 of type dbl</caption>\n",
              "<thead>\n",
              "\t<tr><th></th><th scope=col>C</th><th scope=col>W</th><th scope=col>N</th></tr>\n",
              "</thead>\n",
              "<tbody>\n",
              "\t<tr><th scope=row>C</th><td>1.0000000</td><td> 0.7130131</td><td> 0.4755526</td></tr>\n",
              "\t<tr><th scope=row>W</th><td>0.7130131</td><td> 1.0000000</td><td>-0.3107353</td></tr>\n",
              "\t<tr><th scope=row>N</th><td>0.4755526</td><td>-0.3107353</td><td> 1.0000000</td></tr>\n",
              "</tbody>\n",
              "</table>\n"
            ],
            "text/markdown": "\nA matrix: 3 × 3 of type dbl\n\n| <!--/--> | C | W | N |\n|---|---|---|---|\n| C | 1.0000000 |  0.7130131 |  0.4755526 |\n| W | 0.7130131 |  1.0000000 | -0.3107353 |\n| N | 0.4755526 | -0.3107353 |  1.0000000 |\n\n",
            "text/latex": "A matrix: 3 × 3 of type dbl\n\\begin{tabular}{r|lll}\n  & C & W & N\\\\\n\\hline\n\tC & 1.0000000 &  0.7130131 &  0.4755526\\\\\n\tW & 0.7130131 &  1.0000000 & -0.3107353\\\\\n\tN & 0.4755526 & -0.3107353 &  1.0000000\\\\\n\\end{tabular}\n",
            "text/plain": [
              "  C         W          N         \n",
              "C 1.0000000  0.7130131  0.4755526\n",
              "W 0.7130131  1.0000000 -0.3107353\n",
              "N 0.4755526 -0.3107353  1.0000000"
            ]
          },
          "metadata": {}
        }
      ]
    },
    {
      "cell_type": "markdown",
      "source": [
        "## Correlation Tests"
      ],
      "metadata": {
        "id": "EVmUavSc_HWH"
      },
      "id": "EVmUavSc_HWH"
    },
    {
      "cell_type": "code",
      "source": [
        "# single conditional independence test\n",
        "#?ci.test\n",
        "ci.test(\"C\", \"W\", \"N\", test = \"cor\", data = cropdata1) # yes, dependence as we reject null hypothesis | test for partial correlation b/w C & W given N"
      ],
      "metadata": {
        "colab": {
          "base_uri": "https://localhost:8080/",
          "height": 121
        },
        "id": "phIMmySaE4tV",
        "outputId": "f9b0588e-dad3-48bb-c7cc-d62977af5041"
      },
      "id": "phIMmySaE4tV",
      "execution_count": 59,
      "outputs": [
        {
          "output_type": "display_data",
          "data": {
            "text/plain": [
              "\n",
              "\tPearson's Correlation\n",
              "\n",
              "data:  C ~ W | N\n",
              "cor = 0.71301, df = 497, p-value < 2.2e-16\n",
              "alternative hypothesis: true value is not equal to 0\n"
            ]
          },
          "metadata": {}
        }
      ]
    },
    {
      "cell_type": "code",
      "source": [
        "# now let's work on the entire dataset:\n",
        "# simultaneous testing between all pairs of variables\n",
        "stru1 <- iamb(cropdata1, test = \"cor\")\n",
        "stru1"
      ],
      "metadata": {
        "colab": {
          "base_uri": "https://localhost:8080/",
          "height": 312
        },
        "id": "cxxTY_8-FWJH",
        "outputId": "2e5b39d0-2aed-489a-8849-8d75cdda7699"
      },
      "id": "cxxTY_8-FWJH",
      "execution_count": 60,
      "outputs": [
        {
          "output_type": "display_data",
          "data": {
            "text/plain": [
              "\n",
              "  Bayesian network learned via Constraint-based methods\n",
              "\n",
              "  model:\n",
              "   [E][G][N][V|E:G][W|V][C|N:W] \n",
              "  nodes:                                 6 \n",
              "  arcs:                                  5 \n",
              "    undirected arcs:                     0 \n",
              "    directed arcs:                       5 \n",
              "  average markov blanket size:           2.33 \n",
              "  average neighbourhood size:            1.67 \n",
              "  average branching factor:              0.83 \n",
              "\n",
              "  learning algorithm:                    IAMB \n",
              "  conditional independence test:         Pearson's Correlation \n",
              "  alpha threshold:                       0.05 \n",
              "  tests used in the learning procedure:  155 \n"
            ]
          },
          "metadata": {}
        }
      ]
    },
    {
      "cell_type": "code",
      "source": [
        "plot(stru1) # this is the network that is inferred from the structure based on conditional independence tests"
      ],
      "metadata": {
        "colab": {
          "base_uri": "https://localhost:8080/",
          "height": 437
        },
        "id": "DHR_0XbYFX10",
        "outputId": "0706bb37-36e5-4a3b-c508-d3c1e8e4d03c"
      },
      "id": "DHR_0XbYFX10",
      "execution_count": 61,
      "outputs": [
        {
          "output_type": "display_data",
          "data": {
            "text/plain": [
              "plot without title"
            ],
            "image/png": "[encoded data removed]"
          },
          "metadata": {
            "image/png": {
              "width": 420,
              "height": 420
            }
          }
        }
      ]
    },
    {
      "cell_type": "code",
      "source": [
        "# If i were to use cropdata0 the structure would be a lot different because the evidence is going to be much weaker especially id we are talking about hypothesis testing"
      ],
      "metadata": {
        "id": "XjPwDH_cGIw6"
      },
      "id": "XjPwDH_cGIw6",
      "execution_count": 62,
      "outputs": []
    },
    {
      "cell_type": "code",
      "source": [
        "# Let's look at the structure when a larger sample size is used\n",
        "stru2 <- iamb(cropdata2, test = \"cor\")\n",
        "\n",
        "plot(stru2)"
      ],
      "metadata": {
        "colab": {
          "base_uri": "https://localhost:8080/",
          "height": 437
        },
        "id": "Kkd9bHvzGeQc",
        "outputId": "d6d5e51c-82fa-4193-c5ef-b47b5a5eb368"
      },
      "id": "Kkd9bHvzGeQc",
      "execution_count": 63,
      "outputs": [
        {
          "output_type": "display_data",
          "data": {
            "text/plain": [
              "plot without title"
            ],
            "image/png": "[encoded data removed]"
          },
          "metadata": {
            "image/png": {
              "width": 420,
              "height": 420
            }
          }
        }
      ]
    },
    {
      "cell_type": "code",
      "source": [
        "all.equal(stru1, stru2) # these are different"
      ],
      "metadata": {
        "colab": {
          "base_uri": "https://localhost:8080/",
          "height": 34
        },
        "id": "911FiPs5GjM7",
        "outputId": "7caa9461-31e8-4321-cf38-d2d8811191ff"
      },
      "id": "911FiPs5GjM7",
      "execution_count": 64,
      "outputs": [
        {
          "output_type": "display_data",
          "data": {
            "text/html": [
              "'Different number of directed/undirected arcs'"
            ],
            "text/markdown": "'Different number of directed/undirected arcs'",
            "text/latex": "'Different number of directed/undirected arcs'",
            "text/plain": [
              "[1] \"Different number of directed/undirected arcs\""
            ]
          },
          "metadata": {}
        }
      ]
    },
    {
      "cell_type": "code",
      "execution_count": 65,
      "metadata": {
        "id": "efa0fca1",
        "colab": {
          "base_uri": "https://localhost:8080/",
          "height": 34
        },
        "outputId": "2b8f1530-0561-4ac9-95ae-0d9e6cc2a22b"
      },
      "outputs": [
        {
          "output_type": "display_data",
          "data": {
            "text/html": [
              "TRUE"
            ],
            "text/markdown": "TRUE",
            "text/latex": "TRUE",
            "text/plain": [
              "[1] TRUE"
            ]
          },
          "metadata": {}
        }
      ],
      "source": [
        "# Question which one is closer to the \"true\" (true is dag that we made out of expert knowledge)\n",
        "all.equal(stru2, dag.bnlearn) # Answer: larger sample size is better!"
      ],
      "id": "efa0fca1"
    },
    {
      "cell_type": "code",
      "source": [
        "# But, what if we know that there is an edge going from V to N, we can enforce this using a whitelist"
      ],
      "metadata": {
        "id": "4lM9lT8JHJ15"
      },
      "id": "4lM9lT8JHJ15",
      "execution_count": null,
      "outputs": []
    },
    {
      "cell_type": "code",
      "execution_count": 67,
      "metadata": {
        "id": "30b4a2ec",
        "colab": {
          "base_uri": "https://localhost:8080/",
          "height": 555
        },
        "outputId": "c9266c56-18c3-45a7-cb62-34a323ad14aa"
      },
      "outputs": [
        {
          "output_type": "display_data",
          "data": {
            "text/html": [
              "<table class=\"dataframe\">\n",
              "<caption>A matrix: 1 × 2 of type chr</caption>\n",
              "<tbody>\n",
              "\t<tr><td>V</td><td>N</td></tr>\n",
              "</tbody>\n",
              "</table>\n"
            ],
            "text/markdown": "\nA matrix: 1 × 2 of type chr\n\n| V | N |\n\n",
            "text/latex": "A matrix: 1 × 2 of type chr\n\\begin{tabular}{ll}\n\t V & N\\\\\n\\end{tabular}\n",
            "text/plain": [
              "     [,1] [,2]\n",
              "[1,] V    N   "
            ]
          },
          "metadata": {}
        },
        {
          "output_type": "display_data",
          "data": {
            "text/plain": [
              "plot without title"
            ],
            "image/png": "[encoded data removed]"
          },
          "metadata": {
            "image/png": {
              "width": 420,
              "height": 420
            }
          }
        }
      ],
      "source": [
        "# White list - force edges -- it also can create a hierarchy\n",
        "w1 <- matrix(c(\"V\", \"N\"), ncol = 2)\n",
        "w1\n",
        "\n",
        "stru3 <- iamb(cropdata1, test = \"cor\", whitelist = w1)\n",
        "plot(stru3) # we did enforce V->N but now we have an extra E->N"
      ],
      "id": "30b4a2ec"
    },
    {
      "cell_type": "code",
      "execution_count": 68,
      "metadata": {
        "id": "74b18379",
        "colab": {
          "base_uri": "https://localhost:8080/",
          "height": 52
        },
        "outputId": "c55dcf68-1255-4967-eacc-c7c7157e4e12"
      },
      "outputs": [
        {
          "output_type": "display_data",
          "data": {
            "text/html": [
              "-104171.893204842"
            ],
            "text/markdown": "-104171.893204842",
            "text/latex": "-104171.893204842",
            "text/plain": [
              "[1] -104171.9"
            ]
          },
          "metadata": {}
        },
        {
          "output_type": "display_data",
          "data": {
            "text/html": [
              "-104245.22563956"
            ],
            "text/markdown": "-104245.22563956",
            "text/latex": "-104245.22563956",
            "text/plain": [
              "[1] -104245.2"
            ]
          },
          "metadata": {}
        }
      ],
      "source": [
        "# Compute 'scores' for Gaussian BNs\n",
        "score(dag.bnlearn, data = cropdata2, type = \"bic-g\")\n",
        "score(dag.bnlearn, data = cropdata2, type = \"bge\")"
      ],
      "id": "74b18379"
    },
    {
      "cell_type": "code",
      "execution_count": null,
      "metadata": {
        "id": "8097be8e"
      },
      "outputs": [],
      "source": [],
      "id": "8097be8e"
    }
  ],
  "metadata": {
    "kernelspec": {
      "display_name": "R",
      "language": "R",
      "name": "ir"
    },
    "language_info": {
      "codemirror_mode": "r",
      "file_extension": ".r",
      "mimetype": "text/x-r-source",
      "name": "R",
      "pygments_lexer": "r",
      "version": "4.2.0"
    },
    "colab": {
      "provenance": []
    }
  },
  "nbformat": 4,
  "nbformat_minor": 5
}