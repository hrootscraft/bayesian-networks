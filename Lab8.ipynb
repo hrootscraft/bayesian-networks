{
  "cells": [
    {
      "cell_type": "markdown",
      "id": "6b032b67",
      "metadata": {
        "id": "6b032b67"
      },
      "source": [
        "Chapter 2 - Gaussian Bayesian Networks - learning parameters from data\n",
        "\n",
        "The crop data <br>\n",
        "G = genetic potential <br>\n",
        "E = environmental potential <br>\n",
        "V = vegatative mass <br>\n",
        "N = number of seeds (@ flowering time) <br>\n",
        "W = average weight (later in plants life) <br>\n",
        "C = crop <br>\n",
        "\n",
        "$G\\sim N(50, 10^2)$ <br>\n",
        "$E \\sim N(50, 10^2)$ <br>\n",
        "$V \\mid G = g,E=e \\sim N(-10.35 + 0.5g+0.70e, 5^2)$ <br>\n",
        "$N \\mid V = v \\sim N(45 + 0.1v, 9.95^2)$<br>\n",
        "$W \\mid V = v \\sim N(15 + 0.7v, 7.14^2)$<br>\n",
        "$C \\mid N = n, W = w \\sim N(0.3n + 0.7w, 6.25^2)$<br>"
      ]
    },
    {
      "cell_type": "code",
      "source": [
        "install.packages(\n",
        "  \"bnlearn\",\n",
        "  repos = \"https://cloud.r-project.org\",   # CRAN mirror\n",
        "  dependencies = TRUE                      # pulls in igraph, gRain, etc.\n",
        ")\n",
        "library(bnlearn)"
      ],
      "metadata": {
        "id": "QD424TJlxrAU"
      },
      "id": "QD424TJlxrAU",
      "execution_count": null,
      "outputs": []
    },
    {
      "cell_type": "code",
      "source": [
        "install.packages(\n",
        "  \"rbmn\",\n",
        "  repos = \"https://cloud.r-project.org\",   # CRAN mirror\n",
        "  dependencies = TRUE                      # pulls in igraph, gRain, etc.\n",
        ")\n",
        "library(rbmn)"
      ],
      "metadata": {
        "colab": {
          "base_uri": "https://localhost:8080/"
        },
        "id": "nk6d0Pzj2zYy",
        "outputId": "bb853f65-4fd3-4ca1-f77f-cfa9a1450092"
      },
      "id": "nk6d0Pzj2zYy",
      "execution_count": 22,
      "outputs": [
        {
          "output_type": "stream",
          "name": "stderr",
          "text": [
            "Installing package into ‘/usr/local/lib/R/site-library’\n",
            "(as ‘lib’ is unspecified)\n",
            "\n"
          ]
        }
      ]
    },
    {
      "cell_type": "code",
      "execution_count": 27,
      "metadata": {
        "id": "3e91b1d0"
      },
      "outputs": [],
      "source": [
        "# From Lab 7 -- the paramaterization\n",
        "# Specify the BN (from formula --> graph)\n",
        "dag.bnlearn <- model2network(\"[G][E][V|G:E][N|V][W|V][C|N:W]\")\n",
        "\n",
        "# Specify the distributions\n",
        "disE <- list(coef = c(\"(Intercept)\" = 50), sd = 10)\n",
        "disG <- list(coef = c(\"(Intercept)\" = 50), sd = 10)\n",
        "disV <- list(coef = c(\"(Intercept)\" = -10.35, E = .70, G = 0.5), sd = 5)\n",
        "disN <- list(coef = c(\"(Intercept)\" = 45, V = .1), sd = 9.95)\n",
        "disW <- list(coef = c(\"(Intercept)\" = 15, V = 0.7), sd = 7.14)\n",
        "disC <- list(coef = c(\"(Intercept)\" = 0, N = 0.3, W = 0.7), sd = 6.25)\n",
        "\n",
        "# put them together for bn parameterization\n",
        "dis.list <- list(E = disE, G = disG, V = disV, N = disN, W = disW, C = disC)\n",
        "\n",
        "gbn.bnlearn <- custom.fit(dag.bnlearn, dist = dis.list)"
      ],
      "id": "3e91b1d0"
    },
    {
      "cell_type": "code",
      "execution_count": 24,
      "metadata": {
        "id": "2f7d2f63"
      },
      "outputs": [],
      "source": [
        "# convert my bn object over to rbmn (by the book)"
      ],
      "id": "2f7d2f63"
    },
    {
      "cell_type": "code",
      "source": [
        "class(gbn.bnlearn) # we are currently using bn lib, shift to rbmn"
      ],
      "metadata": {
        "colab": {
          "base_uri": "https://localhost:8080/",
          "height": 34
        },
        "id": "2gLTUlkG3RzO",
        "outputId": "707aa1b8-35a6-4d21-d33c-84da22d77a4a"
      },
      "id": "2gLTUlkG3RzO",
      "execution_count": 28,
      "outputs": [
        {
          "output_type": "display_data",
          "data": {
            "text/html": [
              "<style>\n",
              ".list-inline {list-style: none; margin:0; padding: 0}\n",
              ".list-inline>li {display: inline-block}\n",
              ".list-inline>li:not(:last-child)::after {content: \"\\00b7\"; padding: 0 .5ex}\n",
              "</style>\n",
              "<ol class=list-inline><li>'bn.fit'</li><li>'bn.fit.gnet'</li></ol>\n"
            ],
            "text/markdown": "1. 'bn.fit'\n2. 'bn.fit.gnet'\n\n\n",
            "text/latex": "\\begin{enumerate*}\n\\item 'bn.fit'\n\\item 'bn.fit.gnet'\n\\end{enumerate*}\n",
            "text/plain": [
              "[1] \"bn.fit\"      \"bn.fit.gnet\""
            ]
          },
          "metadata": {}
        }
      ]
    },
    {
      "cell_type": "code",
      "source": [
        "gbn.rbmn <- bnfit2nbn(gbn.bnlearn)\n",
        "gema.rbmn <- nbn2gema(gbn.rbmn)\n",
        "mn.rbmn <- gema2mn(gema.rbmn)"
      ],
      "metadata": {
        "id": "a3za_c3Y3YZ2"
      },
      "id": "a3za_c3Y3YZ2",
      "execution_count": 29,
      "outputs": []
    },
    {
      "cell_type": "code",
      "execution_count": 30,
      "metadata": {
        "id": "099b66c7"
      },
      "outputs": [],
      "source": [
        "# We have a BN that is paramaterized -- we should be able to simulate data from the distributions\n",
        "set.seed(123)\n",
        "cropdata0 <- rbn(gbn.bnlearn, n = 10) # very small sample size\n",
        "cropdata1 <- rbn(gbn.bnlearn, n = 100) # moderate size\n",
        "cropdata2 <- rbn(gbn.bnlearn, n = 500) # larger (but not large)"
      ],
      "id": "099b66c7"
    },
    {
      "cell_type": "code",
      "execution_count": 31,
      "metadata": {
        "id": "966c5565",
        "colab": {
          "base_uri": "https://localhost:8080/",
          "height": 885
        },
        "outputId": "98541ac1-c74e-4bcc-dce9-b5c989051044"
      },
      "outputs": [
        {
          "output_type": "display_data",
          "data": {
            "text/plain": [
              "\n",
              "  Bayesian network parameters\n",
              "\n",
              "  Parameters of node C (Gaussian distribution)\n",
              "\n",
              "Conditional density: C | N + W\n",
              "Coefficients:\n",
              "(Intercept)            N            W  \n",
              " -0.6732344    0.2644137    0.7301709  \n",
              "Standard deviation of the residuals: 6.317257 \n",
              "\n",
              "  Parameters of node E (Gaussian distribution)\n",
              "\n",
              "Conditional density: E\n",
              "Coefficients:\n",
              "(Intercept)  \n",
              "   50.06247  \n",
              "Standard deviation of the residuals: 9.514296 \n",
              "\n",
              "  Parameters of node G (Gaussian distribution)\n",
              "\n",
              "Conditional density: G\n",
              "Coefficients:\n",
              "(Intercept)  \n",
              "   49.36822  \n",
              "Standard deviation of the residuals: 9.47712 \n",
              "\n",
              "  Parameters of node N (Gaussian distribution)\n",
              "\n",
              "Conditional density: N | V\n",
              "Coefficients:\n",
              "(Intercept)            V  \n",
              "46.53808912   0.06281624  \n",
              "Standard deviation of the residuals: 10.09673 \n",
              "\n",
              "  Parameters of node V (Gaussian distribution)\n",
              "\n",
              "Conditional density: V | E + G\n",
              "Coefficients:\n",
              "(Intercept)            E            G  \n",
              " -9.2769899    0.7084482    0.4806641  \n",
              "Standard deviation of the residuals: 5.311925 \n",
              "\n",
              "  Parameters of node W (Gaussian distribution)\n",
              "\n",
              "Conditional density: W | V\n",
              "Coefficients:\n",
              "(Intercept)            V  \n",
              " 14.1468945    0.7356503  \n",
              "Standard deviation of the residuals: 6.381367 \n"
            ]
          },
          "metadata": {}
        }
      ],
      "source": [
        "# Estimate paramaters for the BN network: in this lab we show how size of sample size affects the parameterization\n",
        "est.para <- bn.fit(dag.bnlearn, data = cropdata1)\n",
        "est.para"
      ],
      "id": "966c5565"
    },
    {
      "cell_type": "code",
      "source": [
        "est.para$C"
      ],
      "metadata": {
        "colab": {
          "base_uri": "https://localhost:8080/",
          "height": 156
        },
        "id": "7W_KvRMb4UIG",
        "outputId": "8c8ec1a1-6e3f-48b7-9bb7-8571f93d6554"
      },
      "id": "7W_KvRMb4UIG",
      "execution_count": 32,
      "outputs": [
        {
          "output_type": "display_data",
          "data": {
            "text/plain": [
              "\n",
              "  Parameters of node C (Gaussian distribution)\n",
              "\n",
              "Conditional density: C | N + W\n",
              "Coefficients:\n",
              "(Intercept)            N            W  \n",
              " -0.6732344    0.2644137    0.7301709  \n",
              "Standard deviation of the residuals: 6.317257 "
            ]
          },
          "metadata": {}
        }
      ]
    },
    {
      "cell_type": "code",
      "source": [
        "# compare to the \"true paramaterization\"\n",
        "gbn.bnlearn$C"
      ],
      "metadata": {
        "colab": {
          "base_uri": "https://localhost:8080/",
          "height": 156
        },
        "id": "pH3s7s4U4Xwa",
        "outputId": "987e2862-6bea-48c7-dd96-127ee43d22a1"
      },
      "id": "pH3s7s4U4Xwa",
      "execution_count": 33,
      "outputs": [
        {
          "output_type": "display_data",
          "data": {
            "text/plain": [
              "\n",
              "  Parameters of node C (Gaussian distribution)\n",
              "\n",
              "Conditional density: C | N + W\n",
              "Coefficients:\n",
              "(Intercept)            N            W  \n",
              "        0.0          0.3          0.7  \n",
              "Standard deviation of the residuals: 6.25 "
            ]
          },
          "metadata": {}
        }
      ]
    },
    {
      "cell_type": "code",
      "source": [
        "# An aside -- look at the effect of sample size on the estimation\n",
        "est.para.small <- bn.fit(dag.bnlearn, data = cropdata0)\n",
        "est.para.large <- bn.fit(dag.bnlearn, data = cropdata2)"
      ],
      "metadata": {
        "id": "ZmSuGT084Sgr"
      },
      "id": "ZmSuGT084Sgr",
      "execution_count": 34,
      "outputs": []
    },
    {
      "cell_type": "code",
      "source": [
        "gbn.bnlearn$C\n",
        "est.para.small$C\n",
        "est.para$C\n",
        "est.para.large$C"
      ],
      "metadata": {
        "colab": {
          "base_uri": "https://localhost:8080/",
          "height": 572
        },
        "id": "1QCMW-D34hF6",
        "outputId": "86a79d7c-648a-48e9-fd73-e656af8cdd51"
      },
      "id": "1QCMW-D34hF6",
      "execution_count": 35,
      "outputs": [
        {
          "output_type": "display_data",
          "data": {
            "text/plain": [
              "\n",
              "  Parameters of node C (Gaussian distribution)\n",
              "\n",
              "Conditional density: C | N + W\n",
              "Coefficients:\n",
              "(Intercept)            N            W  \n",
              "        0.0          0.3          0.7  \n",
              "Standard deviation of the residuals: 6.25 "
            ]
          },
          "metadata": {}
        },
        {
          "output_type": "display_data",
          "data": {
            "text/plain": [
              "\n",
              "  Parameters of node C (Gaussian distribution)\n",
              "\n",
              "Conditional density: C | N + W\n",
              "Coefficients:\n",
              "(Intercept)            N            W  \n",
              " -2.5715080    0.3608379    0.7146310  \n",
              "Standard deviation of the residuals: 6.052314 "
            ]
          },
          "metadata": {}
        },
        {
          "output_type": "display_data",
          "data": {
            "text/plain": [
              "\n",
              "  Parameters of node C (Gaussian distribution)\n",
              "\n",
              "Conditional density: C | N + W\n",
              "Coefficients:\n",
              "(Intercept)            N            W  \n",
              " -0.6732344    0.2644137    0.7301709  \n",
              "Standard deviation of the residuals: 6.317257 "
            ]
          },
          "metadata": {}
        },
        {
          "output_type": "display_data",
          "data": {
            "text/plain": [
              "\n",
              "  Parameters of node C (Gaussian distribution)\n",
              "\n",
              "Conditional density: C | N + W\n",
              "Coefficients:\n",
              "(Intercept)            N            W  \n",
              " -1.7855116    0.3410371    0.6973984  \n",
              "Standard deviation of the residuals: 6.327551 "
            ]
          },
          "metadata": {}
        }
      ]
    },
    {
      "cell_type": "code",
      "execution_count": 36,
      "metadata": {
        "id": "819c3630",
        "colab": {
          "base_uri": "https://localhost:8080/",
          "height": 437
        },
        "outputId": "c4973b74-153c-4d72-d5c6-91aef553f824"
      },
      "outputs": [
        {
          "output_type": "display_data",
          "data": {
            "text/plain": [
              "plot without title"
            ],
            "image/png": "[encoded data removed]"
          },
          "metadata": {
            "image/png": {
              "width": 420,
              "height": 420
            }
          }
        }
      ],
      "source": [
        "plot(dag.bnlearn)"
      ],
      "id": "819c3630"
    },
    {
      "cell_type": "code",
      "execution_count": 41,
      "metadata": {
        "id": "478dc886"
      },
      "outputs": [],
      "source": [
        "# use regression to estimate the parameters: here we want to estimate parameters of C using its parents N & W, this is done with regression\n",
        "lmC <- lm(C ~ N + W, data = cropdata1[,c(\"N\", \"W\", \"C\")] ) #book"
      ],
      "id": "478dc886"
    },
    {
      "cell_type": "code",
      "source": [
        "lmC"
      ],
      "metadata": {
        "colab": {
          "base_uri": "https://localhost:8080/",
          "height": 138
        },
        "id": "Za8zka2A5f9Z",
        "outputId": "cc60af74-2081-4ff7-d8ad-40919052e5f8"
      },
      "id": "Za8zka2A5f9Z",
      "execution_count": 42,
      "outputs": [
        {
          "output_type": "display_data",
          "data": {
            "text/plain": [
              "\n",
              "Call:\n",
              "lm(formula = C ~ N + W, data = cropdata1[, c(\"N\", \"W\", \"C\")])\n",
              "\n",
              "Coefficients:\n",
              "(Intercept)            N            W  \n",
              "    -0.6732       0.2644       0.7302  \n"
            ]
          },
          "metadata": {}
        }
      ]
    },
    {
      "cell_type": "code",
      "source": [
        "est.para$C # the medium sample size was used and it matches our estimate lmC"
      ],
      "metadata": {
        "colab": {
          "base_uri": "https://localhost:8080/",
          "height": 156
        },
        "id": "FVKoh_5a5n7U",
        "outputId": "eb4aec0f-e2a5-4a7f-d5d8-058911240031"
      },
      "id": "FVKoh_5a5n7U",
      "execution_count": 43,
      "outputs": [
        {
          "output_type": "display_data",
          "data": {
            "text/plain": [
              "\n",
              "  Parameters of node C (Gaussian distribution)\n",
              "\n",
              "Conditional density: C | N + W\n",
              "Coefficients:\n",
              "(Intercept)            N            W  \n",
              " -0.6732344    0.2644137    0.7301709  \n",
              "Standard deviation of the residuals: 6.317257 "
            ]
          },
          "metadata": {}
        }
      ]
    },
    {
      "cell_type": "code",
      "source": [
        "# just out of curiosity, lets see if we dont give vector c\n",
        "lmC2 <- lm(C ~ N + W, data = cropdata1)\n",
        "lmC2 # its the same so we can choose to drop c as long as we are telling C~N+W"
      ],
      "metadata": {
        "colab": {
          "base_uri": "https://localhost:8080/",
          "height": 138
        },
        "id": "l6_u4oQ05eNM",
        "outputId": "7de0aae4-ba07-48f2-b499-88180ae31546"
      },
      "id": "l6_u4oQ05eNM",
      "execution_count": 44,
      "outputs": [
        {
          "output_type": "display_data",
          "data": {
            "text/plain": [
              "\n",
              "Call:\n",
              "lm(formula = C ~ N + W, data = cropdata1)\n",
              "\n",
              "Coefficients:\n",
              "(Intercept)            N            W  \n",
              "    -0.6732       0.2644       0.7302  \n"
            ]
          },
          "metadata": {}
        }
      ]
    },
    {
      "cell_type": "code",
      "source": [
        "lmV <- lm(V ~ E + G, data = cropdata1)\n",
        "lmV"
      ],
      "metadata": {
        "colab": {
          "base_uri": "https://localhost:8080/",
          "height": 138
        },
        "id": "u9MHz7bZ6ZKx",
        "outputId": "e2f01d2e-b9f7-4ef6-a02e-7c5e60f76766"
      },
      "id": "u9MHz7bZ6ZKx",
      "execution_count": 45,
      "outputs": [
        {
          "output_type": "display_data",
          "data": {
            "text/plain": [
              "\n",
              "Call:\n",
              "lm(formula = V ~ E + G, data = cropdata1)\n",
              "\n",
              "Coefficients:\n",
              "(Intercept)            E            G  \n",
              "    -9.2770       0.7084       0.4807  \n"
            ]
          },
          "metadata": {}
        }
      ]
    },
    {
      "cell_type": "code",
      "source": [
        "est.para$V # ours above is similar to below"
      ],
      "metadata": {
        "colab": {
          "base_uri": "https://localhost:8080/",
          "height": 156
        },
        "id": "hYtqBG636ccG",
        "outputId": "ac49196d-25f9-4bfa-fde0-16ce3cadd2dd"
      },
      "id": "hYtqBG636ccG",
      "execution_count": 46,
      "outputs": [
        {
          "output_type": "display_data",
          "data": {
            "text/plain": [
              "\n",
              "  Parameters of node V (Gaussian distribution)\n",
              "\n",
              "Conditional density: V | E + G\n",
              "Coefficients:\n",
              "(Intercept)            E            G  \n",
              " -9.2769899    0.7084482    0.4806641  \n",
              "Standard deviation of the residuals: 5.311925 "
            ]
          },
          "metadata": {}
        }
      ]
    },
    {
      "cell_type": "code",
      "execution_count": 47,
      "metadata": {
        "id": "0f2b9c64",
        "colab": {
          "base_uri": "https://localhost:8080/",
          "height": 34
        },
        "outputId": "356d3a5e-0546-4666-e5d3-a5e6ea103a06"
      },
      "outputs": [
        {
          "output_type": "display_data",
          "data": {
            "text/html": [
              "<style>\n",
              ".dl-inline {width: auto; margin:0; padding: 0}\n",
              ".dl-inline>dt, .dl-inline>dd {float: none; width: auto; display: inline-block}\n",
              ".dl-inline>dt::after {content: \":\\0020\"; padding-right: .5ex}\n",
              ".dl-inline>dt:not(:first-of-type) {padding-left: .5ex}\n",
              "</style><dl class=dl-inline><dt>(Intercept)</dt><dd>-0.673234414642624</dd><dt>N</dt><dd>0.264413690680926</dd><dt>W</dt><dd>0.730170850142445</dd></dl>\n"
            ],
            "text/markdown": "(Intercept)\n:   -0.673234414642624N\n:   0.264413690680926W\n:   0.730170850142445\n\n",
            "text/latex": "\\begin{description*}\n\\item[(Intercept)] -0.673234414642624\n\\item[N] 0.264413690680926\n\\item[W] 0.730170850142445\n\\end{description*}\n",
            "text/plain": [
              "(Intercept)           N           W \n",
              " -0.6732344   0.2644137   0.7301709 "
            ]
          },
          "metadata": {}
        }
      ],
      "source": [
        "# grab some of the information from the linear model\n",
        "lmC <- lm(C ~ N + W, data = cropdata1)\n",
        "coef(lmC) # we can see we don't get 0 for intercept of C as given by the expert but even below in CI we see that there is a C intercept"
      ],
      "id": "0f2b9c64"
    },
    {
      "cell_type": "markdown",
      "source": [
        "$C \\mid N = n, W = w \\sim N(0.3n + 0.7w, 6.25^2)$<br>"
      ],
      "metadata": {
        "id": "NPhPxs0r8vVM"
      },
      "id": "NPhPxs0r8vVM"
    },
    {
      "cell_type": "code",
      "source": [
        "confint(lmC) # confidence interval; see intercept"
      ],
      "metadata": {
        "colab": {
          "base_uri": "https://localhost:8080/",
          "height": 161
        },
        "id": "ltdyAhve8BIG",
        "outputId": "5f01b993-8756-4a20-d30b-03a0f70c50dd"
      },
      "id": "ltdyAhve8BIG",
      "execution_count": 48,
      "outputs": [
        {
          "output_type": "display_data",
          "data": {
            "text/html": [
              "<table class=\"dataframe\">\n",
              "<caption>A matrix: 3 × 2 of type dbl</caption>\n",
              "<thead>\n",
              "\t<tr><th></th><th scope=col>2.5 %</th><th scope=col>97.5 %</th></tr>\n",
              "</thead>\n",
              "<tbody>\n",
              "\t<tr><th scope=row>(Intercept)</th><td>-9.4996743</td><td>8.1532055</td></tr>\n",
              "\t<tr><th scope=row>N</th><td> 0.1384064</td><td>0.3904210</td></tr>\n",
              "\t<tr><th scope=row>W</th><td> 0.5958192</td><td>0.8645225</td></tr>\n",
              "</tbody>\n",
              "</table>\n"
            ],
            "text/markdown": "\nA matrix: 3 × 2 of type dbl\n\n| <!--/--> | 2.5 % | 97.5 % |\n|---|---|---|\n| (Intercept) | -9.4996743 | 8.1532055 |\n| N |  0.1384064 | 0.3904210 |\n| W |  0.5958192 | 0.8645225 |\n\n",
            "text/latex": "A matrix: 3 × 2 of type dbl\n\\begin{tabular}{r|ll}\n  & 2.5 \\% & 97.5 \\%\\\\\n\\hline\n\t(Intercept) & -9.4996743 & 8.1532055\\\\\n\tN &  0.1384064 & 0.3904210\\\\\n\tW &  0.5958192 & 0.8645225\\\\\n\\end{tabular}\n",
            "text/plain": [
              "            2.5 %      97.5 %   \n",
              "(Intercept) -9.4996743 8.1532055\n",
              "N            0.1384064 0.3904210\n",
              "W            0.5958192 0.8645225"
            ]
          },
          "metadata": {}
        }
      ]
    },
    {
      "cell_type": "code",
      "source": [
        "# an alternative layer to estimating C\n",
        "lm(C ~ N + W - 1, data = cropdata1)"
      ],
      "metadata": {
        "colab": {
          "base_uri": "https://localhost:8080/",
          "height": 138
        },
        "id": "n3aERGkU8BsO",
        "outputId": "83471089-d306-47c1-fdd3-c18d4e304a1f"
      },
      "id": "n3aERGkU8BsO",
      "execution_count": 50,
      "outputs": [
        {
          "output_type": "display_data",
          "data": {
            "text/plain": [
              "\n",
              "Call:\n",
              "lm(formula = C ~ N + W - 1, data = cropdata1)\n",
              "\n",
              "Coefficients:\n",
              "     N       W  \n",
              "0.2584  0.7230  \n"
            ]
          },
          "metadata": {}
        }
      ]
    },
    {
      "cell_type": "code",
      "source": [
        "# now we see N and W are closer to real values & there is no longer the intercept term"
      ],
      "metadata": {
        "id": "RkbB2ejf8EBB"
      },
      "id": "RkbB2ejf8EBB",
      "execution_count": null,
      "outputs": []
    }
  ],
  "metadata": {
    "kernelspec": {
      "display_name": "R",
      "language": "R",
      "name": "ir"
    },
    "language_info": {
      "codemirror_mode": "r",
      "file_extension": ".r",
      "mimetype": "text/x-r-source",
      "name": "R",
      "pygments_lexer": "r",
      "version": "4.2.0"
    },
    "colab": {
      "provenance": []
    }
  },
  "nbformat": 4,
  "nbformat_minor": 5
}