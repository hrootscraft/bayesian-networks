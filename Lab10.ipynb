{
  "cells": [
    {
      "cell_type": "markdown",
      "metadata": {
        "id": "b0f6b964"
      },
      "source": [
        "Chapter 1 - Multinomial BNs - Probabilistic Reasoning - Exact Reasoning\n",
        "\n",
        "Train Survey\n",
        "\n",
        "Age - young, adult, old <br>\n",
        "Sex - male, female <br>\n",
        "Education - high (high-school), university degree <br>\n",
        "Occupation - emp (employee), self-employed (self) <br>\n",
        "Residence - city  size: small, big <br>\n",
        "Transportation - car, train, other"
      ],
      "id": "b0f6b964"
    },
    {
      "cell_type": "code",
      "source": [
        "install.packages(\n",
        "  \"bnlearn\",\n",
        "  repos = \"https://cloud.r-project.org\",   # CRAN mirror\n",
        "  dependencies = TRUE                      # pulls in igraph, gRain, etc.\n",
        ")"
      ],
      "metadata": {
        "id": "QD424TJlxrAU"
      },
      "id": "QD424TJlxrAU",
      "execution_count": null,
      "outputs": []
    },
    {
      "cell_type": "code",
      "source": [
        "install.packages(\n",
        "  \"gRain\",\n",
        "  repos = \"https://cloud.r-project.org\",   # CRAN mirror\n",
        "  dependencies = TRUE                      # pulls in igraph, gRain, etc.\n",
        ")"
      ],
      "metadata": {
        "colab": {
          "base_uri": "https://localhost:8080/"
        },
        "id": "h385gNsf-NSR",
        "outputId": "5aef34db-d442-478a-8f22-78f7cf1acd49"
      },
      "id": "h385gNsf-NSR",
      "execution_count": null,
      "outputs": [
        {
          "output_type": "stream",
          "name": "stderr",
          "text": [
            "Installing package into ‘/usr/local/lib/R/site-library’\n",
            "(as ‘lib’ is unspecified)\n",
            "\n",
            "also installing the dependencies ‘cowplot’, ‘Deriv’, ‘doBy’, ‘litedown’, ‘gRim’, ‘markdown’, ‘microbenchmark’\n",
            "\n",
            "\n",
            "Loading required package: gRbase\n",
            "\n",
            "\n",
            "Attaching package: ‘gRbase’\n",
            "\n",
            "\n",
            "The following objects are masked from ‘package:bnlearn’:\n",
            "\n",
            "    ancestors, children, nodes, parents\n",
            "\n",
            "\n"
          ]
        }
      ]
    },
    {
      "cell_type": "code",
      "source": [
        "library(bnlearn)\n",
        "library(gRain)"
      ],
      "metadata": {
        "id": "ggNmsKzvL-GM"
      },
      "id": "ggNmsKzvL-GM",
      "execution_count": 76,
      "outputs": []
    },
    {
      "cell_type": "code",
      "execution_count": 72,
      "metadata": {
        "id": "a7950554",
        "outputId": "b7f8cdda-a8ee-40c1-dee1-85fc633d462d",
        "colab": {
          "base_uri": "https://localhost:8080/",
          "height": 437
        }
      },
      "outputs": [
        {
          "output_type": "display_data",
          "data": {
            "text/plain": [
              "plot without title"
            ],
            "image/png": "[encoded data removed]"
          },
          "metadata": {
            "image/png": {
              "width": 420,
              "height": 420
            }
          }
        }
      ],
      "source": [
        "rm(list = ls())\n",
        "setwd(\"/content\")\n",
        "\n",
        "# create an empty graph\n",
        "dag <- empty.graph(nodes = c(\"A\", \"S\", \"E\", \"O\", \"R\", \"T\"))\n",
        "\n",
        "# Add in the edges\n",
        "dag <- set.arc(dag, from = \"A\", to = \"E\") # age influences education\n",
        "dag <- set.arc(dag, from = \"S\", to = \"E\") # sex influences education\n",
        "dag <- set.arc(dag, from = \"E\", to = \"O\") # ....\n",
        "dag <- set.arc(dag, from = \"E\", to = \"R\") # ....\n",
        "dag <- set.arc(dag, from = \"O\", to = \"T\") # ....\n",
        "dag <- set.arc(dag, from = \"R\", to = \"T\") # ....\n",
        "\n",
        "plot(dag)\n",
        "\n",
        "# Read in the data\n",
        "survey <- read.table(\"survey.txt\", header = TRUE, colClasses = \"factor\")\n",
        "\n",
        "\n",
        "# define the states\n",
        "A.lv <- c(\"young\", \"adult\", \"old\")\n",
        "S.lv <- c(\"M\", \"F\")\n",
        "E.lv <- c(\"high\", \"uni\")\n",
        "O.lv <- c(\"emp\", \"self\")\n",
        "R.lv <- c(\"small\", \"big\")\n",
        "T.lv <- c(\"car\", \"train\", \"other\")\n",
        "\n",
        "# specify the CPT for every node (\"Expert Defined\")\n",
        "A.prob <- array(c(0.30, 0.50, 0.20), dim = 3, dimnames = list(A = A.lv))\n",
        "\n",
        "S.prob <- array(c(0.60, 0.4), dim = 2, dimnames = list(S=S.lv))\n",
        "\n",
        "O.prob <- array(c(0.96, 0.04, 0.92, 0.08), dim = c(2,2),\n",
        "                dimnames = list(O=O.lv, E=E.lv))\n",
        "\n",
        "R.prob <- array(c(0.25, 0.75, 0.20, 0.80), dim = c(2,2),\n",
        "               dimnames = list(R = R.lv, E = E.lv))\n",
        "\n",
        "E.prob <- array(c(0.75, 0.25, 0.72, 0.28, 0.88, 0.12, 0.64,\n",
        "                  0.36, 0.70, 0.30, 0.90, 0.10), dim = c(2,3,2), dimnames = list(E=E.lv, A = A.lv, S = S.lv))\n",
        "\n",
        "T.prob <- array(c(0.48, 0.42, 0.10, 0.56, 0.36, 0.08, 0.58,\n",
        "                 0.24, 0.18, 0.70, 0.21, 0.09), dim = c(3,2,2),\n",
        "                dimnames = list(T=T.lv, O = O.lv, R = R.lv))\n",
        "\n",
        "cpt <- list(A = A.prob, S = S.prob, E = E.prob, O = O.prob, R = R.prob,\n",
        "           T = T.prob)\n",
        "bn <- custom.fit(dag, dist = cpt)"
      ],
      "id": "a7950554"
    },
    {
      "cell_type": "code",
      "source": [
        "# now let's think about entering information in this graph, but before that we need to\n",
        "# set up and compile a junction tree; a junction tree takes the DAG and creates from it a Clique Graph\n",
        "# and in a BN this Clique Graph happens to be in a Tree Structure"
      ],
      "metadata": {
        "id": "9a88SzAuKAp6"
      },
      "id": "9a88SzAuKAp6",
      "execution_count": null,
      "outputs": []
    },
    {
      "cell_type": "code",
      "source": [
        "class(bn)\n"
      ],
      "metadata": {
        "colab": {
          "base_uri": "https://localhost:8080/",
          "height": 34
        },
        "id": "AjrlNxNGLp0h",
        "outputId": "e26eba0d-9465-4f08-da1b-38b9c591640a"
      },
      "id": "AjrlNxNGLp0h",
      "execution_count": 74,
      "outputs": [
        {
          "output_type": "display_data",
          "data": {
            "text/html": [
              "<style>\n",
              ".list-inline {list-style: none; margin:0; padding: 0}\n",
              ".list-inline>li {display: inline-block}\n",
              ".list-inline>li:not(:last-child)::after {content: \"\\00b7\"; padding: 0 .5ex}\n",
              "</style>\n",
              "<ol class=list-inline><li>'bn.fit'</li><li>'bn.fit.dnet'</li></ol>\n"
            ],
            "text/markdown": "1. 'bn.fit'\n2. 'bn.fit.dnet'\n\n\n",
            "text/latex": "\\begin{enumerate*}\n\\item 'bn.fit'\n\\item 'bn.fit.dnet'\n\\end{enumerate*}\n",
            "text/plain": [
              "[1] \"bn.fit\"      \"bn.fit.dnet\""
            ]
          },
          "metadata": {}
        }
      ]
    },
    {
      "cell_type": "code",
      "source": [
        "junction <- compile(as.grain(bn))\n",
        "junction"
      ],
      "metadata": {
        "id": "GHFn_ToGLB-s",
        "colab": {
          "base_uri": "https://localhost:8080/",
          "height": 34
        },
        "outputId": "8b012d74-efcb-494e-e46c-179ef305e71d"
      },
      "id": "GHFn_ToGLB-s",
      "execution_count": 77,
      "outputs": [
        {
          "output_type": "display_data",
          "data": {
            "text/plain": [
              "Independence network: Compiled: TRUE Propagated: FALSE Evidence: FALSE "
            ]
          },
          "metadata": {}
        }
      ]
    },
    {
      "cell_type": "code",
      "execution_count": 78,
      "metadata": {
        "id": "7579842f",
        "outputId": "16f30f91-69df-4c0a-e773-0c3e4e57598b",
        "colab": {
          "base_uri": "https://localhost:8080/",
          "height": 52
        }
      },
      "outputs": [
        {
          "output_type": "display_data",
          "data": {
            "text/html": [
              "<strong>$T</strong> = <style>\n",
              ".dl-inline {width: auto; margin:0; padding: 0}\n",
              ".dl-inline>dt, .dl-inline>dd {float: none; width: auto; display: inline-block}\n",
              ".dl-inline>dt::after {content: \":\\0020\"; padding-right: .5ex}\n",
              ".dl-inline>dt:not(:first-of-type) {padding-left: .5ex}\n",
              "</style><dl class=dl-inline><dt>car</dt><dd>0.561833976</dd><dt>train</dt><dd>0.280857252</dd><dt>other</dt><dd>0.157308772</dd></dl>\n"
            ],
            "text/markdown": "**$T** = car\n:   0.561833976train\n:   0.280857252other\n:   0.157308772\n\n",
            "text/latex": "\\textbf{\\$T} = \\begin{description*}\n\\item[car] 0.561833976\n\\item[train] 0.280857252\n\\item[other] 0.157308772\n\\end{description*}\n",
            "text/plain": [
              "$T\n",
              "T\n",
              "      car     train     other \n",
              "0.5618340 0.2808573 0.1573088 \n"
            ]
          },
          "metadata": {}
        }
      ],
      "source": [
        "# probabilistic query - no information taken into account, raw data\n",
        "# what is the probability of the different transportations\n",
        "querygrain(junction, nodes = \"T\")"
      ],
      "id": "7579842f"
    },
    {
      "cell_type": "code",
      "source": [
        "querygrain(junction, nodes = \"T\")$T # a cleaner output"
      ],
      "metadata": {
        "colab": {
          "base_uri": "https://localhost:8080/",
          "height": 34
        },
        "id": "zDHVzBdzMyZB",
        "outputId": "50ba448e-0c28-42ae-a5f9-74ad93ab1acc"
      },
      "id": "zDHVzBdzMyZB",
      "execution_count": 79,
      "outputs": [
        {
          "output_type": "display_data",
          "data": {
            "text/html": [
              "<style>\n",
              ".dl-inline {width: auto; margin:0; padding: 0}\n",
              ".dl-inline>dt, .dl-inline>dd {float: none; width: auto; display: inline-block}\n",
              ".dl-inline>dt::after {content: \":\\0020\"; padding-right: .5ex}\n",
              ".dl-inline>dt:not(:first-of-type) {padding-left: .5ex}\n",
              "</style><dl class=dl-inline><dt>car</dt><dd>0.561833976</dd><dt>train</dt><dd>0.280857252</dd><dt>other</dt><dd>0.157308772</dd></dl>\n"
            ],
            "text/markdown": "car\n:   0.561833976train\n:   0.280857252other\n:   0.157308772\n\n",
            "text/latex": "\\begin{description*}\n\\item[car] 0.561833976\n\\item[train] 0.280857252\n\\item[other] 0.157308772\n\\end{description*}\n",
            "text/plain": [
              "T\n",
              "      car     train     other \n",
              "0.5618340 0.2808573 0.1573088 "
            ]
          },
          "metadata": {}
        }
      ]
    },
    {
      "cell_type": "code",
      "source": [
        "bn$T"
      ],
      "metadata": {
        "colab": {
          "base_uri": "https://localhost:8080/",
          "height": 364
        },
        "id": "FVa6SEW4ND4J",
        "outputId": "d7b2e53b-3a73-46e2-e8d3-fd8f267550b9"
      },
      "id": "FVa6SEW4ND4J",
      "execution_count": 81,
      "outputs": [
        {
          "output_type": "display_data",
          "data": {
            "text/plain": [
              "\n",
              "  Parameters of node T (multinomial distribution)\n",
              "\n",
              "Conditional probability table:\n",
              " \n",
              ", , R = small\n",
              "\n",
              "       O\n",
              "T        emp self\n",
              "  car   0.48 0.56\n",
              "  train 0.42 0.36\n",
              "  other 0.10 0.08\n",
              "\n",
              ", , R = big\n",
              "\n",
              "       O\n",
              "T        emp self\n",
              "  car   0.58 0.70\n",
              "  train 0.24 0.21\n",
              "  other 0.18 0.09\n"
            ]
          },
          "metadata": {}
        }
      ]
    },
    {
      "cell_type": "code",
      "execution_count": 82,
      "metadata": {
        "id": "8a739ab5",
        "outputId": "4d15f6fa-e6fe-45e2-bde0-a17fd8e7a1f6",
        "colab": {
          "base_uri": "https://localhost:8080/",
          "height": 34
        }
      },
      "outputs": [
        {
          "output_type": "display_data",
          "data": {
            "text/plain": [
              "Independence network: Compiled: TRUE Propagated: TRUE Evidence: TRUE "
            ]
          },
          "metadata": {}
        }
      ],
      "source": [
        "# What if, we want to know what is the probability of transportation when we know the passenger is female\n",
        "# so now, we take this info into account and propagate it\n",
        "# remember if S is d-separated from T then it's not gonna make any difference as information would not flow, but\n",
        "# here we can see there is definitely a path b/w S & T\n",
        "jsex <- setEvidence(junction, nodes = \"S\", states = \"F\")\n",
        "jsex"
      ],
      "id": "8a739ab5"
    },
    {
      "cell_type": "code",
      "source": [
        "# Now that the info has been propagated, what is the probability of the different transportations\n",
        "querygrain(junction, nodes = \"T\")$T # before evidence\n",
        "querygrain(jsex, nodes = \"T\")$T # after evidence"
      ],
      "metadata": {
        "colab": {
          "base_uri": "https://localhost:8080/",
          "height": 52
        },
        "id": "EV4Qu7LfOU2_",
        "outputId": "cd616985-b938-4421-cd43-d19300c4b8cd"
      },
      "id": "EV4Qu7LfOU2_",
      "execution_count": 83,
      "outputs": [
        {
          "output_type": "display_data",
          "data": {
            "text/html": [
              "<style>\n",
              ".dl-inline {width: auto; margin:0; padding: 0}\n",
              ".dl-inline>dt, .dl-inline>dd {float: none; width: auto; display: inline-block}\n",
              ".dl-inline>dt::after {content: \":\\0020\"; padding-right: .5ex}\n",
              ".dl-inline>dt:not(:first-of-type) {padding-left: .5ex}\n",
              "</style><dl class=dl-inline><dt>car</dt><dd>0.561833976</dd><dt>train</dt><dd>0.280857252</dd><dt>other</dt><dd>0.157308772</dd></dl>\n"
            ],
            "text/markdown": "car\n:   0.561833976train\n:   0.280857252other\n:   0.157308772\n\n",
            "text/latex": "\\begin{description*}\n\\item[car] 0.561833976\n\\item[train] 0.280857252\n\\item[other] 0.157308772\n\\end{description*}\n",
            "text/plain": [
              "T\n",
              "      car     train     other \n",
              "0.5618340 0.2808573 0.1573088 "
            ]
          },
          "metadata": {}
        },
        {
          "output_type": "display_data",
          "data": {
            "text/html": [
              "<style>\n",
              ".dl-inline {width: auto; margin:0; padding: 0}\n",
              ".dl-inline>dt, .dl-inline>dd {float: none; width: auto; display: inline-block}\n",
              ".dl-inline>dt::after {content: \":\\0020\"; padding-right: .5ex}\n",
              ".dl-inline>dt:not(:first-of-type) {padding-left: .5ex}\n",
              "</style><dl class=dl-inline><dt>car</dt><dd>0.56205768</dd><dt>train</dt><dd>0.28061436</dd><dt>other</dt><dd>0.15732796</dd></dl>\n"
            ],
            "text/markdown": "car\n:   0.56205768train\n:   0.28061436other\n:   0.15732796\n\n",
            "text/latex": "\\begin{description*}\n\\item[car] 0.56205768\n\\item[train] 0.28061436\n\\item[other] 0.15732796\n\\end{description*}\n",
            "text/plain": [
              "T\n",
              "      car     train     other \n",
              "0.5620577 0.2806144 0.1573280 "
            ]
          },
          "metadata": {}
        }
      ]
    },
    {
      "cell_type": "code",
      "source": [
        "# we can see that there's not much change, so being a female doesn't really make a difference in transportation"
      ],
      "metadata": {
        "id": "nDgrCNoCO4YL"
      },
      "id": "nDgrCNoCO4YL",
      "execution_count": 86,
      "outputs": []
    },
    {
      "cell_type": "code",
      "source": [
        "# Lets look at one more query.... R = small\n",
        "jres <- setEvidence(junction, nodes = \"R\", states = \"small\")"
      ],
      "metadata": {
        "id": "IbbO1myPMxfP"
      },
      "id": "IbbO1myPMxfP",
      "execution_count": 85,
      "outputs": []
    },
    {
      "cell_type": "code",
      "execution_count": 87,
      "metadata": {
        "id": "b70d74e3",
        "colab": {
          "base_uri": "https://localhost:8080/",
          "height": 34
        },
        "outputId": "d2de8272-1c87-4bdb-98fa-2d2784779a95"
      },
      "outputs": [
        {
          "output_type": "display_data",
          "data": {
            "text/html": [
              "<style>\n",
              ".dl-inline {width: auto; margin:0; padding: 0}\n",
              ".dl-inline>dt, .dl-inline>dd {float: none; width: auto; display: inline-block}\n",
              ".dl-inline>dt::after {content: \":\\0020\"; padding-right: .5ex}\n",
              ".dl-inline>dt:not(:first-of-type) {padding-left: .5ex}\n",
              "</style><dl class=dl-inline><dt>car</dt><dd>0.483886745058372</dd><dt>train</dt><dd>0.417084941206221</dd><dt>other</dt><dd>0.0990283137354069</dd></dl>\n"
            ],
            "text/markdown": "car\n:   0.483886745058372train\n:   0.417084941206221other\n:   0.0990283137354069\n\n",
            "text/latex": "\\begin{description*}\n\\item[car] 0.483886745058372\n\\item[train] 0.417084941206221\n\\item[other] 0.0990283137354069\n\\end{description*}\n",
            "text/plain": [
              "T\n",
              "       car      train      other \n",
              "0.48388675 0.41708494 0.09902831 "
            ]
          },
          "metadata": {}
        }
      ],
      "source": [
        "querygrain(jres, nodes = \"T\")$T # residence really has a say in transport"
      ],
      "id": "b70d74e3"
    },
    {
      "cell_type": "code",
      "execution_count": 88,
      "metadata": {
        "id": "358a2181",
        "colab": {
          "base_uri": "https://localhost:8080/",
          "height": 34
        },
        "outputId": "b039df79-f139-4e5a-987f-d6344d768e3f"
      },
      "outputs": [
        {
          "output_type": "display_data",
          "data": {
            "text/html": [
              "<style>\n",
              ".dl-inline {width: auto; margin:0; padding: 0}\n",
              ".dl-inline>dt, .dl-inline>dd {float: none; width: auto; display: inline-block}\n",
              ".dl-inline>dt::after {content: \":\\0020\"; padding-right: .5ex}\n",
              ".dl-inline>dt:not(:first-of-type) {padding-left: .5ex}\n",
              "</style><dl class=dl-inline><dt>car</dt><dd>0.483953578991953</dd><dt>train</dt><dd>0.417034815756036</dd><dt>other</dt><dd>0.0990116052520118</dd></dl>\n"
            ],
            "text/markdown": "car\n:   0.483953578991953train\n:   0.417034815756036other\n:   0.0990116052520118\n\n",
            "text/latex": "\\begin{description*}\n\\item[car] 0.483953578991953\n\\item[train] 0.417034815756036\n\\item[other] 0.0990116052520118\n\\end{description*}\n",
            "text/plain": [
              "T\n",
              "       car      train      other \n",
              "0.48395358 0.41703482 0.09901161 "
            ]
          },
          "metadata": {}
        }
      ],
      "source": [
        "# lets take into account info on two nodes\n",
        "jres_sex <- setEvidence(junction, nodes = c(\"R\", \"S\"), states = c(\"small\", \"F\"))\n",
        "querygrain(jres_sex, nodes = \"T\")$T"
      ],
      "id": "358a2181"
    },
    {
      "cell_type": "code",
      "source": [
        "# lets set evidence and query for two nodes\n",
        "jedu <- setEvidence(junction, nodes = \"E\", states = \"high\") # junction tree for education\n",
        "SxT <- querygrain(jedu, nodes = c(\"S\", \"T\"), type = \"joint\") # we want to see how sex & mode of transport fare when highly educated come into picture; default type is marginal so we change to joint\n",
        "SxT"
      ],
      "metadata": {
        "colab": {
          "base_uri": "https://localhost:8080/",
          "height": 130
        },
        "id": "6AwyczE2PsXI",
        "outputId": "36aef1bb-ad89-4fcb-c50f-c0bd5d1c9e1f"
      },
      "id": "6AwyczE2PsXI",
      "execution_count": 90,
      "outputs": [
        {
          "output_type": "display_data",
          "data": {
            "text/html": [
              "<table class=\"dataframe\">\n",
              "<caption>A matrix: 2 × 3 of type dbl</caption>\n",
              "<thead>\n",
              "\t<tr><th></th><th scope=col>car</th><th scope=col>train</th><th scope=col>other</th></tr>\n",
              "</thead>\n",
              "<tbody>\n",
              "\t<tr><th scope=row>M</th><td>0.3426644</td><td>0.1736599</td><td>0.09623271</td></tr>\n",
              "\t<tr><th scope=row>F</th><td>0.2167356</td><td>0.1098401</td><td>0.06086729</td></tr>\n",
              "</tbody>\n",
              "</table>\n"
            ],
            "text/markdown": "\nA matrix: 2 × 3 of type dbl\n\n| <!--/--> | car | train | other |\n|---|---|---|---|\n| M | 0.3426644 | 0.1736599 | 0.09623271 |\n| F | 0.2167356 | 0.1098401 | 0.06086729 |\n\n",
            "text/latex": "A matrix: 2 × 3 of type dbl\n\\begin{tabular}{r|lll}\n  & car & train & other\\\\\n\\hline\n\tM & 0.3426644 & 0.1736599 & 0.09623271\\\\\n\tF & 0.2167356 & 0.1098401 & 0.06086729\\\\\n\\end{tabular}\n",
            "text/plain": [
              "   T\n",
              "S   car       train     other     \n",
              "  M 0.3426644 0.1736599 0.09623271\n",
              "  F 0.2167356 0.1098401 0.06086729"
            ]
          },
          "metadata": {}
        }
      ]
    },
    {
      "cell_type": "code",
      "execution_count": 91,
      "metadata": {
        "id": "c859b5e4",
        "colab": {
          "base_uri": "https://localhost:8080/",
          "height": 114
        },
        "outputId": "5dff11d9-b313-4108-acc2-be008cba671d"
      },
      "outputs": [
        {
          "output_type": "display_data",
          "data": {
            "text/html": [
              "<dl>\n",
              "\t<dt>$S</dt>\n",
              "\t\t<dd><style>\n",
              ".dl-inline {width: auto; margin:0; padding: 0}\n",
              ".dl-inline>dt, .dl-inline>dd {float: none; width: auto; display: inline-block}\n",
              ".dl-inline>dt::after {content: \":\\0020\"; padding-right: .5ex}\n",
              ".dl-inline>dt:not(:first-of-type) {padding-left: .5ex}\n",
              "</style><dl class=dl-inline><dt>M</dt><dd>0.612557016367051</dd><dt>F</dt><dd>0.387442983632949</dd></dl>\n",
              "</dd>\n",
              "\t<dt>$T</dt>\n",
              "\t\t<dd><style>\n",
              ".dl-inline {width: auto; margin:0; padding: 0}\n",
              ".dl-inline>dt, .dl-inline>dd {float: none; width: auto; display: inline-block}\n",
              ".dl-inline>dt::after {content: \":\\0020\"; padding-right: .5ex}\n",
              ".dl-inline>dt:not(:first-of-type) {padding-left: .5ex}\n",
              "</style><dl class=dl-inline><dt>car</dt><dd>0.5594</dd><dt>train</dt><dd>0.2835</dd><dt>other</dt><dd>0.1571</dd></dl>\n",
              "</dd>\n",
              "</dl>\n"
            ],
            "text/markdown": "$S\n:   M\n:   0.612557016367051F\n:   0.387442983632949\n\n\n$T\n:   car\n:   0.5594train\n:   0.2835other\n:   0.1571\n\n\n\n\n",
            "text/latex": "\\begin{description}\n\\item[\\$S] \\begin{description*}\n\\item[M] 0.612557016367051\n\\item[F] 0.387442983632949\n\\end{description*}\n\n\\item[\\$T] \\begin{description*}\n\\item[car] 0.5594\n\\item[train] 0.2835\n\\item[other] 0.1571\n\\end{description*}\n\n\\end{description}\n",
            "text/plain": [
              "$S\n",
              "S\n",
              "       M        F \n",
              "0.612557 0.387443 \n",
              "\n",
              "$T\n",
              "T\n",
              "   car  train  other \n",
              "0.5594 0.2835 0.1571 \n"
            ]
          },
          "metadata": {}
        }
      ],
      "source": [
        "# check marginal probs\n",
        "querygrain(jedu, nodes = c(\"S\", \"T\"), type = \"marginal\")"
      ],
      "id": "c859b5e4"
    },
    {
      "cell_type": "code",
      "execution_count": 92,
      "metadata": {
        "id": "f732c705",
        "colab": {
          "base_uri": "https://localhost:8080/",
          "height": 130
        },
        "outputId": "ced20bdb-2c4b-43e0-efa0-ce9e37fcc03a"
      },
      "outputs": [
        {
          "output_type": "display_data",
          "data": {
            "text/html": [
              "<table class=\"dataframe\">\n",
              "<caption>A matrix: 2 × 3 of type dbl</caption>\n",
              "<thead>\n",
              "\t<tr><th></th><th scope=col>car</th><th scope=col>train</th><th scope=col>other</th></tr>\n",
              "</thead>\n",
              "<tbody>\n",
              "\t<tr><th scope=row>M</th><td>0.612557</td><td>0.612557</td><td>0.612557</td></tr>\n",
              "\t<tr><th scope=row>F</th><td>0.387443</td><td>0.387443</td><td>0.387443</td></tr>\n",
              "</tbody>\n",
              "</table>\n"
            ],
            "text/markdown": "\nA matrix: 2 × 3 of type dbl\n\n| <!--/--> | car | train | other |\n|---|---|---|---|\n| M | 0.612557 | 0.612557 | 0.612557 |\n| F | 0.387443 | 0.387443 | 0.387443 |\n\n",
            "text/latex": "A matrix: 2 × 3 of type dbl\n\\begin{tabular}{r|lll}\n  & car & train & other\\\\\n\\hline\n\tM & 0.612557 & 0.612557 & 0.612557\\\\\n\tF & 0.387443 & 0.387443 & 0.387443\\\\\n\\end{tabular}\n",
            "text/plain": [
              "   T\n",
              "S   car      train    other   \n",
              "  M 0.612557 0.612557 0.612557\n",
              "  F 0.387443 0.387443 0.387443"
            ]
          },
          "metadata": {}
        }
      ],
      "source": [
        "# check the conditional probabilities\n",
        "querygrain(jedu, nodes = c(\"S\", \"T\"), type = \"conditional\")"
      ],
      "id": "f732c705"
    },
    {
      "cell_type": "code",
      "source": [],
      "metadata": {
        "id": "QacEza8uQgNQ"
      },
      "id": "QacEza8uQgNQ",
      "execution_count": null,
      "outputs": []
    }
  ],
  "metadata": {
    "kernelspec": {
      "display_name": "R",
      "language": "R",
      "name": "ir"
    },
    "language_info": {
      "codemirror_mode": "r",
      "file_extension": ".r",
      "mimetype": "text/x-r-source",
      "name": "R",
      "pygments_lexer": "r",
      "version": "4.2.0"
    },
    "colab": {
      "provenance": []
    }
  },
  "nbformat": 4,
  "nbformat_minor": 5
}