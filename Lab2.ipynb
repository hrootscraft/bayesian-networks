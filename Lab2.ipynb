{
  "cells": [
    {
      "cell_type": "markdown",
      "id": "69925524",
      "metadata": {
        "id": "69925524"
      },
      "source": [
        "Chapter 1 - Multinomial BNs - Paramaterize BNs from Data\n",
        "\n",
        "Train Survey\n",
        "\n",
        "- Age - young, adult, old\n",
        "- Sex - male, female\n",
        "- Education - high (high-school), university degree\n",
        "- Occupation - emp (employee), self-employed (self)\n",
        "- Residence - city size: small, big\n",
        "- Transportation - car, train, other"
      ]
    },
    {
      "cell_type": "markdown",
      "source": [
        "This time we're going to parameters the BN but we don't know what the paramters are. Although we do have data (and the relations structure). So, we're going to parameterize based on data."
      ],
      "metadata": {
        "id": "ViRVbSPKL-hj"
      },
      "id": "ViRVbSPKL-hj"
    },
    {
      "cell_type": "code",
      "source": [
        "install.packages(\n",
        "  \"bnlearn\",\n",
        "  repos = \"https://cloud.r-project.org\",   # CRAN mirror\n",
        "  dependencies = TRUE                      # pulls in igraph, gRain, etc.\n",
        ")\n",
        "library(bnlearn)"
      ],
      "metadata": {
        "colab": {
          "base_uri": "https://localhost:8080/"
        },
        "id": "ed_brqoPM2hN",
        "outputId": "9b24eaee-c463-4348-8d9e-152e95d85b3d"
      },
      "id": "ed_brqoPM2hN",
      "execution_count": 3,
      "outputs": [
        {
          "output_type": "stream",
          "name": "stderr",
          "text": [
            "Installing package into ‘/usr/local/lib/R/site-library’\n",
            "(as ‘lib’ is unspecified)\n",
            "\n",
            "Warning message:\n",
            "“dependencies ‘graph’, ‘Rgraphviz’ are not available”\n",
            "also installing the dependencies ‘RcppEigen’, ‘RcppArmadillo’, ‘igraph’, ‘gRbase’, ‘gRain’, ‘Rmpfr’, ‘gmp’\n",
            "\n",
            "\n",
            "Warning message in install.packages(\"bnlearn\", repos = \"https://cloud.r-project.org\", :\n",
            "“installation of package ‘gmp’ had non-zero exit status”\n",
            "Warning message in install.packages(\"bnlearn\", repos = \"https://cloud.r-project.org\", :\n",
            "“installation of package ‘Rmpfr’ had non-zero exit status”\n"
          ]
        }
      ]
    },
    {
      "cell_type": "markdown",
      "source": [
        "### create DAG"
      ],
      "metadata": {
        "id": "lYsGymL0PCjl"
      },
      "id": "lYsGymL0PCjl"
    },
    {
      "cell_type": "code",
      "execution_count": 19,
      "id": "1a7b4ea6",
      "metadata": {
        "colab": {
          "base_uri": "https://localhost:8080/",
          "height": 437
        },
        "id": "1a7b4ea6",
        "outputId": "2851efae-dd6c-434a-a021-ae09eaba6bc7"
      },
      "outputs": [
        {
          "output_type": "display_data",
          "data": {
            "text/plain": [
              "plot without title"
            ],
            "image/png": "[encoded data removed]"
          },
          "metadata": {
            "image/png": {
              "width": 420,
              "height": 420
            }
          }
        }
      ],
      "source": [
        "# clear the memory\n",
        "rm(list = ls())\n",
        "library(bnlearn)\n",
        "\n",
        "# set the directory\n",
        "setwd(\"/content/\")\n",
        "\n",
        "# create an empty graph\n",
        "dag <- empty.graph(nodes = c(\"A\", \"S\", \"E\", \"O\", \"R\", \"T\"))\n",
        "\n",
        "# Add in the edges\n",
        "dag <- set.arc(dag, from = \"A\", to = \"E\") # age influences education\n",
        "dag <- set.arc(dag, from = \"S\", to = \"E\") # sex influences education\n",
        "dag <- set.arc(dag, from = \"E\", to = \"O\") # ....\n",
        "dag <- set.arc(dag, from = \"E\", to = \"R\") # ....\n",
        "dag <- set.arc(dag, from = \"O\", to = \"T\") # ....\n",
        "dag <- set.arc(dag, from = \"R\", to = \"T\") # ....\n",
        "\n",
        "plot(dag)"
      ]
    },
    {
      "cell_type": "code",
      "execution_count": 20,
      "id": "b864f4df",
      "metadata": {
        "colab": {
          "base_uri": "https://localhost:8080/",
          "height": 304
        },
        "id": "b864f4df",
        "outputId": "5340b6fb-923b-490e-df52-d82ebe78ac25"
      },
      "outputs": [
        {
          "output_type": "display_data",
          "data": {
            "text/html": [
              "<table class=\"dataframe\">\n",
              "<caption>A data.frame: 6 × 6</caption>\n",
              "<thead>\n",
              "\t<tr><th></th><th scope=col>A</th><th scope=col>R</th><th scope=col>E</th><th scope=col>O</th><th scope=col>S</th><th scope=col>T</th></tr>\n",
              "\t<tr><th></th><th scope=col>&lt;fct&gt;</th><th scope=col>&lt;fct&gt;</th><th scope=col>&lt;fct&gt;</th><th scope=col>&lt;fct&gt;</th><th scope=col>&lt;fct&gt;</th><th scope=col>&lt;fct&gt;</th></tr>\n",
              "</thead>\n",
              "<tbody>\n",
              "\t<tr><th scope=row>1</th><td>adult</td><td>big  </td><td>high</td><td>emp</td><td>F</td><td>car  </td></tr>\n",
              "\t<tr><th scope=row>2</th><td>adult</td><td>small</td><td>uni </td><td>emp</td><td>M</td><td>car  </td></tr>\n",
              "\t<tr><th scope=row>3</th><td>adult</td><td>big  </td><td>uni </td><td>emp</td><td>F</td><td>train</td></tr>\n",
              "\t<tr><th scope=row>4</th><td>adult</td><td>big  </td><td>high</td><td>emp</td><td>M</td><td>car  </td></tr>\n",
              "\t<tr><th scope=row>5</th><td>adult</td><td>big  </td><td>high</td><td>emp</td><td>M</td><td>car  </td></tr>\n",
              "\t<tr><th scope=row>6</th><td>adult</td><td>small</td><td>high</td><td>emp</td><td>F</td><td>train</td></tr>\n",
              "</tbody>\n",
              "</table>\n"
            ],
            "text/markdown": "\nA data.frame: 6 × 6\n\n| <!--/--> | A &lt;fct&gt; | R &lt;fct&gt; | E &lt;fct&gt; | O &lt;fct&gt; | S &lt;fct&gt; | T &lt;fct&gt; |\n|---|---|---|---|---|---|---|\n| 1 | adult | big   | high | emp | F | car   |\n| 2 | adult | small | uni  | emp | M | car   |\n| 3 | adult | big   | uni  | emp | F | train |\n| 4 | adult | big   | high | emp | M | car   |\n| 5 | adult | big   | high | emp | M | car   |\n| 6 | adult | small | high | emp | F | train |\n\n",
            "text/latex": "A data.frame: 6 × 6\n\\begin{tabular}{r|llllll}\n  & A & R & E & O & S & T\\\\\n  & <fct> & <fct> & <fct> & <fct> & <fct> & <fct>\\\\\n\\hline\n\t1 & adult & big   & high & emp & F & car  \\\\\n\t2 & adult & small & uni  & emp & M & car  \\\\\n\t3 & adult & big   & uni  & emp & F & train\\\\\n\t4 & adult & big   & high & emp & M & car  \\\\\n\t5 & adult & big   & high & emp & M & car  \\\\\n\t6 & adult & small & high & emp & F & train\\\\\n\\end{tabular}\n",
            "text/plain": [
              "  A     R     E    O   S T    \n",
              "1 adult big   high emp F car  \n",
              "2 adult small uni  emp M car  \n",
              "3 adult big   uni  emp F train\n",
              "4 adult big   high emp M car  \n",
              "5 adult big   high emp M car  \n",
              "6 adult small high emp F train"
            ]
          },
          "metadata": {}
        },
        {
          "output_type": "display_data",
          "data": {
            "text/html": [
              "<style>\n",
              ".list-inline {list-style: none; margin:0; padding: 0}\n",
              ".list-inline>li {display: inline-block}\n",
              ".list-inline>li:not(:last-child)::after {content: \"\\00b7\"; padding: 0 .5ex}\n",
              "</style>\n",
              "<ol class=list-inline><li>500</li><li>6</li></ol>\n"
            ],
            "text/markdown": "1. 500\n2. 6\n\n\n",
            "text/latex": "\\begin{enumerate*}\n\\item 500\n\\item 6\n\\end{enumerate*}\n",
            "text/plain": [
              "[1] 500   6"
            ]
          },
          "metadata": {}
        }
      ],
      "source": [
        "# Read in the data\n",
        "survey <- read.table(\"survey.txt\", header = TRUE, colClasses = \"factor\") # Without this argument colClasses R would guess the class of each column (numeric, character, factor, …) from its contents; forcing factors is useful when you know the variables are discrete (e.g. for Bayesian-network packages like bnlearn, which expect categorical nodes).\n",
        "head(survey)\n",
        "dim(survey)"
      ]
    },
    {
      "cell_type": "markdown",
      "source": [
        "### Fit the DAG (MLE)"
      ],
      "metadata": {
        "id": "dd1QY7ZcPJNi"
      },
      "id": "dd1QY7ZcPJNi"
    },
    {
      "cell_type": "code",
      "source": [
        "?bn.fit # helper '?' to learn about bn.fit"
      ],
      "metadata": {
        "id": "ETy6xXOhPNcQ"
      },
      "id": "ETy6xXOhPNcQ",
      "execution_count": 6,
      "outputs": []
    },
    {
      "cell_type": "code",
      "source": [
        "# Use of the Data only\n",
        "bn.mle <- bn.fit(dag, data = survey, method = \"mle\")"
      ],
      "metadata": {
        "id": "DgG6Wn4SO9mc"
      },
      "id": "DgG6Wn4SO9mc",
      "execution_count": 21,
      "outputs": []
    },
    {
      "cell_type": "code",
      "source": [
        "table(survey$S)/500"
      ],
      "metadata": {
        "colab": {
          "base_uri": "https://localhost:8080/",
          "height": 69
        },
        "id": "QzCfrEmhP1qz",
        "outputId": "438d613e-06b2-4fd0-d512-b681527c5e22"
      },
      "id": "QzCfrEmhP1qz",
      "execution_count": 22,
      "outputs": [
        {
          "output_type": "display_data",
          "data": {
            "text/plain": [
              "\n",
              "    F     M \n",
              "0.402 0.598 "
            ]
          },
          "metadata": {}
        }
      ]
    },
    {
      "cell_type": "code",
      "source": [
        "bn.mle"
      ],
      "metadata": {
        "colab": {
          "base_uri": "https://localhost:8080/",
          "height": 1000
        },
        "id": "RDOIyg-2P3Rg",
        "outputId": "e9e26d36-6657-478e-ed62-c56ea6888f3a"
      },
      "id": "RDOIyg-2P3Rg",
      "execution_count": 23,
      "outputs": [
        {
          "output_type": "display_data",
          "data": {
            "text/plain": [
              "\n",
              "  Bayesian network parameters\n",
              "\n",
              "  Parameters of node A (multinomial distribution)\n",
              "\n",
              "Conditional probability table:\n",
              " adult   old young \n",
              "0.472 0.208 0.320 \n",
              "\n",
              "  Parameters of node S (multinomial distribution)\n",
              "\n",
              "Conditional probability table:\n",
              "     F     M \n",
              "0.402 0.598 \n",
              "\n",
              "  Parameters of node E (multinomial distribution)\n",
              "\n",
              "Conditional probability table:\n",
              " \n",
              ", , S = F\n",
              "\n",
              "      A\n",
              "E          adult       old     young\n",
              "  high 0.6391753 0.8461538 0.5384615\n",
              "  uni  0.3608247 0.1538462 0.4615385\n",
              "\n",
              ", , S = M\n",
              "\n",
              "      A\n",
              "E          adult       old     young\n",
              "  high 0.7194245 0.8923077 0.8105263\n",
              "  uni  0.2805755 0.1076923 0.1894737\n",
              "\n",
              "\n",
              "  Parameters of node O (multinomial distribution)\n",
              "\n",
              "Conditional probability table:\n",
              " \n",
              "      E\n",
              "O            high        uni\n",
              "  emp  0.98082192 0.92592593\n",
              "  self 0.01917808 0.07407407\n",
              "\n",
              "  Parameters of node R (multinomial distribution)\n",
              "\n",
              "Conditional probability table:\n",
              " \n",
              "       E\n",
              "R            high       uni\n",
              "  big   0.7178082 0.8666667\n",
              "  small 0.2821918 0.1333333\n",
              "\n",
              "  Parameters of node T (multinomial distribution)\n",
              "\n",
              "Conditional probability table:\n",
              " \n",
              ", , R = big\n",
              "\n",
              "       O\n",
              "T              emp       self\n",
              "  car   0.58469945 0.69230769\n",
              "  other 0.19945355 0.15384615\n",
              "  train 0.21584699 0.15384615\n",
              "\n",
              ", , R = small\n",
              "\n",
              "       O\n",
              "T              emp       self\n",
              "  car   0.54700855 0.75000000\n",
              "  other 0.07692308 0.25000000\n",
              "  train 0.37606838 0.00000000\n",
              "\n"
            ]
          },
          "metadata": {}
        }
      ]
    },
    {
      "cell_type": "code",
      "execution_count": 24,
      "id": "5526d966",
      "metadata": {
        "colab": {
          "base_uri": "https://localhost:8080/",
          "height": 121
        },
        "id": "5526d966",
        "outputId": "5d2d7477-9589-4899-b1f6-58f0ecb0f016"
      },
      "outputs": [
        {
          "output_type": "display_data",
          "data": {
            "text/plain": [
              "\n",
              "  Parameters of node S (multinomial distribution)\n",
              "\n",
              "Conditional probability table:\n",
              "     F     M \n",
              "0.402 0.598 "
            ]
          },
          "metadata": {}
        }
      ],
      "source": [
        "bn.mle$S # look at the CPT for S"
      ]
    },
    {
      "cell_type": "markdown",
      "source": [
        "### bayesian fit (with a prior, sample size of prior = 10)"
      ],
      "metadata": {
        "id": "DIKdzEnHRVhU"
      },
      "id": "DIKdzEnHRVhU"
    },
    {
      "cell_type": "code",
      "source": [
        "?bn.fit"
      ],
      "metadata": {
        "id": "6j40f3bNRIdt"
      },
      "id": "6j40f3bNRIdt",
      "execution_count": 11,
      "outputs": []
    },
    {
      "cell_type": "code",
      "execution_count": 25,
      "id": "e0ebc58d",
      "metadata": {
        "colab": {
          "base_uri": "https://localhost:8080/",
          "height": 121
        },
        "id": "e0ebc58d",
        "outputId": "53a4359f-8bd3-4ec6-99ad-6d01ca99f515"
      },
      "outputs": [
        {
          "output_type": "display_data",
          "data": {
            "text/plain": [
              "\n",
              "  Parameters of node S (multinomial distribution)\n",
              "\n",
              "Conditional probability table:\n",
              "         F         M \n",
              "0.4039216 0.5960784 "
            ]
          },
          "metadata": {}
        }
      ],
      "source": [
        "bn.bayes <- bn.fit(dag, data = survey, method = \"bayes\", iss = 10)\n",
        "bn.bayes$S # This will show smoothed probabilities of S (say, M/F):"
      ]
    },
    {
      "cell_type": "markdown",
      "source": [
        "#### Quick Note"
      ],
      "metadata": {
        "id": "aHkwYL_eV7Dy"
      },
      "id": "aHkwYL_eV7Dy"
    },
    {
      "cell_type": "markdown",
      "source": [
        "1. What is `iss`?\n",
        "\n",
        "`iss` stands for **imaginary sample size**. It controls **how strong the prior belief is** in the Bayesian estimation.\n",
        "\n",
        "When you use `method = \"bayes\"` in `bn.fit()`, you are saying:\n",
        "\n",
        "> “I don’t just want to count frequencies from the data (MLE); I want to *smooth* them with a prior belief, as if I had seen some imaginary data already.”\n",
        "\n",
        "That imaginary data has size = `iss`.\n",
        "\n",
        "\n",
        "2. What is the **prior**?\n",
        "\n",
        "The prior is assumed to be a **uniform Dirichlet distribution** unless you specify otherwise. That means:\n",
        "\n",
        "* For each conditional distribution $P(X \\mid \\text{Parents}(X))$, the prior assumes **all categories of $X$** are equally likely **before seeing the real data**.\n",
        "* `iss = 10` means: we act as if we had **10 fake observations**, equally distributed among the categories of $X$.\n",
        "\n",
        "So for a binary node (like `S` = M/F):\n",
        "\n",
        "* Prior counts = (5, 5)\n",
        "* If observed data counts = (80, 20)\n",
        "* Posterior counts = (80 + 5, 20 + 5) = (85, 25)\n",
        "* Posterior probabilities = (85/110, 25/110)\n",
        "\n",
        "This is a **Bayesian smoothing** technique — it **avoids zero probabilities** and **reduces overfitting** when data is sparse.\n",
        "\n",
        "\n",
        "3. What does `bn.fit(..., method = \"bayes\", iss = 10)` do exactly?\n",
        "\n",
        "For each node:\n",
        "\n",
        "1. Identify its **parents** from the `dag`.\n",
        "2. For each combination of parent values:\n",
        "\n",
        "   * Get the **observed counts** of the node’s levels in the data.\n",
        "   * Add **uniform pseudo-counts** from a Dirichlet prior (proportional to `iss`).\n",
        "3. Compute the **posterior probabilities**:\n",
        "\n",
        "   $$\n",
        "   P(X = x \\mid \\text{Parents}) = \\frac{n_x + \\alpha_x}{N + \\sum \\alpha}\n",
        "   $$\n",
        "\n",
        "   where:\n",
        "\n",
        "   * $n_x$: observed count for level $x$\n",
        "   * $\\alpha_x$: prior count (e.g. for uniform: $\\text{iss}/k$, where $k$ is the number of levels)\n",
        "   * $N$: total observed count for that parent config\n",
        "\n",
        "\n",
        "4. Example: Gender node (`S`)\n",
        "\n",
        "```r\n",
        "bn.bayes$S\n",
        "```\n",
        "\n",
        "This will show smoothed probabilities of `S` (say, M/F):\n",
        "\n",
        "If the data had:\n",
        "\n",
        "```\n",
        "S = M: 300\n",
        "S = F: 200\n",
        "```\n",
        "\n",
        "Then with `iss = 10` and 2 levels:\n",
        "\n",
        "* Prior counts = (5, 5)\n",
        "* Posterior counts = (305, 205)\n",
        "* Posterior probs = (305 / 510, 205 / 510)\n",
        "\n",
        "Compare that to `bn.mle$S`, which would give (300 / 500, 200 / 500) — notice the smoothing."
      ],
      "metadata": {
        "id": "5S_2NCFBTRRr"
      },
      "id": "5S_2NCFBTRRr"
    },
    {
      "cell_type": "markdown",
      "source": [
        "### bayesian fit (with a prior, sample size of prior = 250)"
      ],
      "metadata": {
        "id": "CBIq4uJ3WLqT"
      },
      "id": "CBIq4uJ3WLqT"
    },
    {
      "cell_type": "code",
      "source": [
        "bn.bayes2 <- bn.fit(dag, data = survey, method = \"bayes\", iss = 250)\n",
        "bn.bayes2$S"
      ],
      "metadata": {
        "colab": {
          "base_uri": "https://localhost:8080/",
          "height": 121
        },
        "id": "BYGxKUg3R3yN",
        "outputId": "de0b7841-53e6-4124-dca5-dd7a6089b1be"
      },
      "id": "BYGxKUg3R3yN",
      "execution_count": 26,
      "outputs": [
        {
          "output_type": "display_data",
          "data": {
            "text/plain": [
              "\n",
              "  Parameters of node S (multinomial distribution)\n",
              "\n",
              "Conditional probability table:\n",
              "         F         M \n",
              "0.4346667 0.5653333 "
            ]
          },
          "metadata": {}
        }
      ]
    },
    {
      "cell_type": "markdown",
      "source": [
        "### compare occupation cpt for mle and bayes fits"
      ],
      "metadata": {
        "id": "Tfurpi0YSGKd"
      },
      "id": "Tfurpi0YSGKd"
    },
    {
      "cell_type": "code",
      "execution_count": 27,
      "id": "21e8361b",
      "metadata": {
        "colab": {
          "base_uri": "https://localhost:8080/",
          "height": 173
        },
        "id": "21e8361b",
        "outputId": "43194d94-f62b-4426-d0a7-b79f44815bdc"
      },
      "outputs": [
        {
          "output_type": "display_data",
          "data": {
            "text/plain": [
              "\n",
              "  Parameters of node O (multinomial distribution)\n",
              "\n",
              "Conditional probability table:\n",
              " \n",
              "      E\n",
              "O            high        uni\n",
              "  emp  0.98082192 0.92592593\n",
              "  self 0.01917808 0.07407407"
            ]
          },
          "metadata": {}
        }
      ],
      "source": [
        "bn.mle$O"
      ]
    },
    {
      "cell_type": "code",
      "source": [
        "bn.bayes$O"
      ],
      "metadata": {
        "colab": {
          "base_uri": "https://localhost:8080/",
          "height": 173
        },
        "id": "dUw-5zfAR7th",
        "outputId": "8f9a2044-30f3-4502-c957-e6aa7560d89b"
      },
      "id": "dUw-5zfAR7th",
      "execution_count": 28,
      "outputs": [
        {
          "output_type": "display_data",
          "data": {
            "text/plain": [
              "\n",
              "  Parameters of node O (multinomial distribution)\n",
              "\n",
              "Conditional probability table:\n",
              " \n",
              "      E\n",
              "O            high        uni\n",
              "  emp  0.97432432 0.91071429\n",
              "  self 0.02567568 0.08928571"
            ]
          },
          "metadata": {}
        }
      ]
    },
    {
      "cell_type": "code",
      "source": [
        "bn.bayes2$O"
      ],
      "metadata": {
        "colab": {
          "base_uri": "https://localhost:8080/",
          "height": 173
        },
        "id": "L70v31A7R853",
        "outputId": "96496c05-78ab-4ef4-9559-1bd1ad17a2b8"
      },
      "id": "L70v31A7R853",
      "execution_count": 29,
      "outputs": [
        {
          "output_type": "display_data",
          "data": {
            "text/plain": [
              "\n",
              "  Parameters of node O (multinomial distribution)\n",
              "\n",
              "Conditional probability table:\n",
              " \n",
              "      E\n",
              "O           high       uni\n",
              "  emp  0.8581633 0.7211538\n",
              "  self 0.1418367 0.2788462"
            ]
          },
          "metadata": {}
        }
      ]
    },
    {
      "cell_type": "markdown",
      "source": [
        "### Notes"
      ],
      "metadata": {
        "id": "CPGpsMa5UZbK"
      },
      "id": "CPGpsMa5UZbK"
    },
    {
      "cell_type": "markdown",
      "source": [
        "1. “Prior” in Bayesian statistics – the big picture\n",
        "\n",
        "| Ingredient                                 | What it encodes                                                           | Where it comes from                                                                                 |\n",
        "| ------------------------------------------ | ------------------------------------------------------------------------- | --------------------------------------------------------------------------------------------------- |\n",
        "| **Prior** $P(\\theta)$                      | What you believe about the parameters **before** seeing the current data. | Earlier studies, expert judgment, or simply “I have no reason to prefer one category over another.” |\n",
        "| **Likelihood** $P(\\text{data}\\mid \\theta)$ | The information supplied by the **new data** you just collected.          | Your sample, survey, experiment, …                                                                  |\n",
        "| **Posterior** $P(\\theta\\mid \\text{data})$  | Updated belief **after** combining prior information with the data.       | Computed via Bayes’ rule.                                                                           |\n",
        "\n",
        "$$\n",
        "\\text{Posterior} \\;=\\; \\frac{\\text{Likelihood}\\;\\times\\;\\text{Prior}}{\\text{Evidence}}\n",
        "$$\n",
        "\n",
        "\n",
        "2. In a Bayesian network\n",
        "\n",
        "For every conditional‐probability table (CPT) we put a **Dirichlet prior** on the probabilities of the child node given its parent configuration.\n",
        "\n",
        "* If a node $X$ has $k$ categories, the Dirichlet has $k$ hyper-parameters $\\alpha_1,\\dots,\\alpha_k$.\n",
        "* Those $\\alpha$’s can be interpreted as “pseudo-counts” or **imaginary observations** that you pretend to have seen before collecting the real data.\n",
        "\n",
        "Example for a binary node (`high`, `uni`) with a *uniform prior* and `iss = 10`:\n",
        "\n",
        "| Level | Prior pseudo-count ($\\alpha$) | Comment                         |\n",
        "| ----- | ----------------------------- | ------------------------------- |\n",
        "| high  | 5                             | “I imagine having seen 5 highs” |\n",
        "| uni   | 5                             | “I imagine having seen 5 unis”  |\n",
        "\n",
        "When real data contribute counts $(n_\\text{high}, n_\\text{uni})$, the **posterior** Dirichlet has parameters $(n_\\text{high}+5,\\, n_\\text{uni}+5)$.  The resulting posterior mean (what `bn.fit()` reports) is\n",
        "\n",
        "$$\n",
        "\\hat P(\\text{high}) \\;=\\; \\frac{n_\\text{high}+5}{n_\\text{high}+n_\\text{uni}+10},\n",
        "\\qquad\n",
        "\\hat P(\\text{uni})  \\;=\\; \\frac{n_\\text{uni}+5}{n_\\text{high}+n_\\text{uni}+10}.\n",
        "$$\n",
        "\n",
        "\n",
        "3. Why bother with a prior?\n",
        "\n",
        "* **Smoothing / avoiding zeros** – If a category never appears in a small data set, MLE would assign probability 0, which breaks later inference. A mild prior keeps every probability positive.\n",
        "* **Regularisation** – Prevents overfitting in sparse parts of the network by nudging extreme empirical proportions toward more reasonable values.\n",
        "* **Domain knowledge** – If you actually know that one category is usually twice as common as another, you can encode that asymmetry in the prior instead of assuming uniformity.\n",
        "\n",
        "\n",
        "4. Recap\n",
        "\n",
        "*The prior is simply your starting belief about the parameters before looking at the current data.*\n",
        "In `bn.fit(method = \"bayes\", iss = 10)` you tell R:\n",
        "\n",
        "> “Pretend I had already seen a tiny, uniformly distributed data set of size 10 for **every** parent configuration, then update those beliefs with the real survey I just loaded.”\n",
        "\n",
        "That blending of “imaginary” and “real” counts yields the posterior probabilities you saw in `bn.bayes`.\n"
      ],
      "metadata": {
        "id": "Hqa8EddVVv36"
      },
      "id": "Hqa8EddVVv36"
    },
    {
      "cell_type": "code",
      "source": [],
      "metadata": {
        "id": "dNeqJR8WWZcm"
      },
      "id": "dNeqJR8WWZcm",
      "execution_count": null,
      "outputs": []
    }
  ],
  "metadata": {
    "kernelspec": {
      "display_name": "R",
      "language": "R",
      "name": "ir"
    },
    "language_info": {
      "codemirror_mode": "r",
      "file_extension": ".r",
      "mimetype": "text/x-r-source",
      "name": "R",
      "pygments_lexer": "r",
      "version": "4.2.0"
    },
    "colab": {
      "provenance": [],
      "toc_visible": true
    }
  },
  "nbformat": 4,
  "nbformat_minor": 5
}