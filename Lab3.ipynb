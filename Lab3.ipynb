{
  "cells": [
    {
      "cell_type": "markdown",
      "id": "3020265e",
      "metadata": {
        "id": "3020265e"
      },
      "source": [
        "Chapter 1 - Multinomial BNs - Learning BNs from Data\n",
        "\n",
        "Train Survey\n",
        "\n",
        "- Age - young, adult, old \n",
        "- Sex - male, female \n",
        "- Education - high (high-school), university degree \n",
        "- Occupation - emp (employee), self-employed (self) \n",
        "- Residence - city size: small, big \n",
        "- Transportation - car, train, other"
      ]
    },
    {
      "cell_type": "code",
      "execution_count": 2,
      "id": "EoUDohvAQkRI",
      "metadata": {
        "colab": {
          "base_uri": "https://localhost:8080/"
        },
        "id": "EoUDohvAQkRI",
        "outputId": "f9541c71-0ecf-49e5-c2f4-4bb47a823557",
        "vscode": {
          "languageId": "r"
        }
      },
      "outputs": [
        {
          "name": "stderr",
          "output_type": "stream",
          "text": [
            "Installing package into ‘/usr/local/lib/R/site-library’\n",
            "(as ‘lib’ is unspecified)\n",
            "\n",
            "Warning message:\n",
            "“dependencies ‘graph’, ‘Rgraphviz’ are not available”\n",
            "also installing the dependencies ‘RcppEigen’, ‘RcppArmadillo’, ‘igraph’, ‘gRbase’, ‘gRain’, ‘Rmpfr’, ‘gmp’\n",
            "\n",
            "\n",
            "Warning message in install.packages(\"bnlearn\", repos = \"https://cloud.r-project.org\", :\n",
            "“installation of package ‘gmp’ had non-zero exit status”\n",
            "Warning message in install.packages(\"bnlearn\", repos = \"https://cloud.r-project.org\", :\n",
            "“installation of package ‘Rmpfr’ had non-zero exit status”\n"
          ]
        }
      ],
      "source": [
        "install.packages(\n",
        "  \"bnlearn\",\n",
        "  repos = \"https://cloud.r-project.org\",   # CRAN mirror\n",
        "  dependencies = TRUE                      # pulls in igraph, gRain, etc.\n",
        ")\n",
        "library(bnlearn)"
      ]
    },
    {
      "cell_type": "code",
      "execution_count": 4,
      "id": "92b34c57",
      "metadata": {
        "colab": {
          "base_uri": "https://localhost:8080/",
          "height": 437
        },
        "id": "92b34c57",
        "outputId": "b4407ded-4564-4f81-9cda-25c7e7cb5a66",
        "vscode": {
          "languageId": "r"
        }
      },
      "outputs": [
        {
          "data": {
            "image/png": "[encoded data removed]",
            "text/plain": [
              "plot without title"
            ]
          },
          "metadata": {
            "image/png": {
              "height": 420,
              "width": 420
            }
          },
          "output_type": "display_data"
        }
      ],
      "source": [
        "# clear the memory\n",
        "rm(list = ls())\n",
        "\n",
        "# set the directory\n",
        "setwd(\"/content\")\n",
        "\n",
        "# create an empty graph\n",
        "dag <- empty.graph(nodes = c(\"A\", \"S\", \"E\", \"O\", \"R\", \"T\"))\n",
        "\n",
        "# Add in the edges\n",
        "dag <- set.arc(dag, from = \"A\", to = \"E\") # age influences education\n",
        "dag <- set.arc(dag, from = \"S\", to = \"E\") # sex influences education\n",
        "dag <- set.arc(dag, from = \"E\", to = \"O\") # ....\n",
        "dag <- set.arc(dag, from = \"E\", to = \"R\") # ....\n",
        "dag <- set.arc(dag, from = \"O\", to = \"T\") # ....\n",
        "dag <- set.arc(dag, from = \"R\", to = \"T\") # ....\n",
        "\n",
        "plot(dag)\n",
        "\n",
        "# Read in the data\n",
        "survey <- read.table(\"survey.txt\", header = TRUE, colClasses = \"factor\")"
      ]
    },
    {
      "cell_type": "markdown",
      "id": "SnAsoGOGTCHF",
      "metadata": {
        "id": "SnAsoGOGTCHF"
      },
      "source": [
        "## Tests for conditional independence"
      ]
    },
    {
      "cell_type": "code",
      "execution_count": 5,
      "id": "crICunoCTEmm",
      "metadata": {
        "id": "crICunoCTEmm",
        "vscode": {
          "languageId": "r"
        }
      },
      "outputs": [],
      "source": [
        "?ci.test"
      ]
    },
    {
      "cell_type": "code",
      "execution_count": 6,
      "id": "9913321e",
      "metadata": {
        "colab": {
          "base_uri": "https://localhost:8080/",
          "height": 121
        },
        "id": "9913321e",
        "outputId": "c9b9b480-fd5f-4a52-9bea-9cabf40a165a",
        "vscode": {
          "languageId": "r"
        }
      },
      "outputs": [
        {
          "data": {
            "text/plain": [
              "\n",
              "\tMutual Information (disc.)\n",
              "\n",
              "data:  T ~ E | O + R\n",
              "mi = 9.8836, df = 8, p-value = 0.2733\n",
              "alternative hypothesis: true value is greater than 0\n"
            ]
          },
          "metadata": {},
          "output_type": "display_data"
        }
      ],
      "source": [
        "# H0 (null hypothesis): T and E are conditionally independent given (\"O\", \"R\") --> NO edge\n",
        "# HA (alternative hypothesis): T and E are not independent given (\"O\", \"R\") --> edge\n",
        "\n",
        "# Test 1 -- see if an edge should be there (E->T): check if T & E are conditionally indeppendent given O & R (T's parents)\n",
        "# Mutual Independence - test\n",
        "ci.test(\"T\", \"E\", c(\"O\", \"R\"), test = \"mi\", data = survey)"
      ]
    },
    {
      "cell_type": "code",
      "execution_count": 7,
      "id": "_QC5lDlCTKAo",
      "metadata": {
        "colab": {
          "base_uri": "https://localhost:8080/",
          "height": 121
        },
        "id": "_QC5lDlCTKAo",
        "outputId": "ce46a71b-4dfe-4670-abc3-8970b01dd41a",
        "vscode": {
          "languageId": "r"
        }
      },
      "outputs": [
        {
          "data": {
            "text/plain": [
              "\n",
              "\tPearson's X^2\n",
              "\n",
              "data:  T ~ E | O + R\n",
              "x2 = 8.2375, df = 8, p-value = 0.4106\n",
              "alternative hypothesis: true value is greater than 0\n"
            ]
          },
          "metadata": {},
          "output_type": "display_data"
        }
      ],
      "source": [
        "# Another way to do above is use Chi-Squared - test\n",
        "ci.test(\"T\", \"E\", c(\"O\", \"R\"), test = \"x2\", data = survey)\n",
        "\n",
        "# overall, there is no evidence for an edge. and that's right 'cause in our original network we don't have one as per the real world knowledge of experts"
      ]
    },
    {
      "cell_type": "markdown",
      "id": "s1yvALqJTtEn",
      "metadata": {
        "id": "s1yvALqJTtEn"
      },
      "source": [
        "We can also use the same paradigm to see if an edge should be removed. Here, let's check if the edge from O->T should be removed (given R)."
      ]
    },
    {
      "cell_type": "code",
      "execution_count": 8,
      "id": "03237365",
      "metadata": {
        "colab": {
          "base_uri": "https://localhost:8080/",
          "height": 121
        },
        "id": "03237365",
        "outputId": "3f325ecd-d90e-4d8c-b5a8-a2e30432d744",
        "vscode": {
          "languageId": "r"
        }
      },
      "outputs": [
        {
          "data": {
            "text/plain": [
              "\n",
              "\tPearson's X^2\n",
              "\n",
              "data:  T ~ O | R\n",
              "x2 = 3.7988, df = 4, p-value = 0.4339\n",
              "alternative hypothesis: true value is greater than 0\n"
            ]
          },
          "metadata": {},
          "output_type": "display_data"
        }
      ],
      "source": [
        "# Conditional Independence Tests -- arc should stay\n",
        "# (O -> T) not much evidence for an edge\n",
        "ci.test(\"T\", \"O\", \"R\", test = \"x2\", data = survey)"
      ]
    },
    {
      "cell_type": "markdown",
      "id": "JzAN-iwxXEIn",
      "metadata": {
        "id": "JzAN-iwxXEIn"
      },
      "source": [
        "| Test (code line)                                                 | Conditioning set | **H0 (null)**                                                  | **HA (alt.)**                                                  | *p*-value (≈) | Decision at α = 0.05                                    | Graphical implication                                                                                         |\n",
        "| ---------------------------------------------------------------- | ---------------- | -------------------------------------------------------------- | -------------------------------------------------------------- | ------------- | ------------------------------------------------------- | ------------------------------------------------------------------------------------------------------------- |\n",
        "| `ci.test(\"T\",\"E\", c(\"O\",\"R\"), test=\"mi\")` <br>Mutual-Information | {O,R}            | T ⫫ E \\| {O,R} <br>(T and E are **conditionally independent**) | T \\¬⫫ E \\| {O,R} <br>(T and E are **conditionally dependent**) | 0.273         | **Fail to reject H0** (no evidence of dependence)       | **NO direct edge** between T and E (when O and R are parents of T)                                            |\n",
        "| `ci.test(\"T\",\"E\", c(\"O\",\"R\"), test=\"x2\")` <br>χ² version         | {O,R}            | same as above                                                  | same as above                                                  | 0.411         | **Fail to reject H0**                                   | Confirms: still **no T — E edge**                                                                             |\n",
        "| `ci.test(\"T\",\"O\", \"R\", test=\"x2\")` <br>Checking arc O → T        | {R}              | T ⫫ O \\| R                                                     | T \\¬⫫ O \\| R                                                   | 0.434         | **Fail to reject H0** (data do **not** show dependence) | **Statistically, the edge O → T is not supported**; one could remove it unless prior knowledge says otherwise |\n"
      ]
    },
    {
      "cell_type": "code",
      "execution_count": 9,
      "id": "3726af42",
      "metadata": {
        "colab": {
          "base_uri": "https://localhost:8080/",
          "height": 287
        },
        "id": "3726af42",
        "outputId": "b10bdc65-3dde-4b12-cceb-24a3c435db2c",
        "vscode": {
          "languageId": "r"
        }
      },
      "outputs": [
        {
          "data": {
            "text/html": [
              "<table class=\"dataframe\">\n",
              "<caption>A bn.strength: 6 × 3</caption>\n",
              "<thead>\n",
              "\t<tr><th></th><th scope=col>from</th><th scope=col>to</th><th scope=col>strength</th></tr>\n",
              "\t<tr><th></th><th scope=col>&lt;chr&gt;</th><th scope=col>&lt;chr&gt;</th><th scope=col>&lt;dbl&gt;</th></tr>\n",
              "</thead>\n",
              "<tbody>\n",
              "\t<tr><th scope=row>1</th><td>A</td><td>E</td><td>0.0009777168</td></tr>\n",
              "\t<tr><th scope=row>2</th><td>S</td><td>E</td><td>0.0012537013</td></tr>\n",
              "\t<tr><th scope=row>3</th><td>E</td><td>O</td><td>0.0026379469</td></tr>\n",
              "\t<tr><th scope=row>4</th><td>E</td><td>R</td><td>0.0005599201</td></tr>\n",
              "\t<tr><th scope=row>5</th><td>O</td><td>T</td><td>0.4339127237</td></tr>\n",
              "\t<tr><th scope=row>6</th><td>R</td><td>T</td><td>0.0013584250</td></tr>\n",
              "</tbody>\n",
              "</table>\n"
            ],
            "text/latex": [
              "A bn.strength: 6 × 3\n",
              "\\begin{tabular}{r|lll}\n",
              "  & from & to & strength\\\\\n",
              "  & <chr> & <chr> & <dbl>\\\\\n",
              "\\hline\n",
              "\t1 & A & E & 0.0009777168\\\\\n",
              "\t2 & S & E & 0.0012537013\\\\\n",
              "\t3 & E & O & 0.0026379469\\\\\n",
              "\t4 & E & R & 0.0005599201\\\\\n",
              "\t5 & O & T & 0.4339127237\\\\\n",
              "\t6 & R & T & 0.0013584250\\\\\n",
              "\\end{tabular}\n"
            ],
            "text/markdown": [
              "\n",
              "A bn.strength: 6 × 3\n",
              "\n",
              "| <!--/--> | from &lt;chr&gt; | to &lt;chr&gt; | strength &lt;dbl&gt; |\n",
              "|---|---|---|---|\n",
              "| 1 | A | E | 0.0009777168 |\n",
              "| 2 | S | E | 0.0012537013 |\n",
              "| 3 | E | O | 0.0026379469 |\n",
              "| 4 | E | R | 0.0005599201 |\n",
              "| 5 | O | T | 0.4339127237 |\n",
              "| 6 | R | T | 0.0013584250 |\n",
              "\n"
            ],
            "text/plain": [
              "  from to strength    \n",
              "1 A    E  0.0009777168\n",
              "2 S    E  0.0012537013\n",
              "3 E    O  0.0026379469\n",
              "4 E    R  0.0005599201\n",
              "5 O    T  0.4339127237\n",
              "6 R    T  0.0013584250"
            ]
          },
          "metadata": {},
          "output_type": "display_data"
        }
      ],
      "source": [
        "# Use a DAG to determine arc strength over all edges\n",
        "arc.strength(dag, data = survey, criterion = \"x2\") # criterion is chi squared"
      ]
    },
    {
      "cell_type": "markdown",
      "id": "fwIcxdIGV1k6",
      "metadata": {
        "id": "fwIcxdIGV1k6"
      },
      "source": [
        "All of these edges have p-values lesser than 0.05 so pretty good evidence that we have support for those edges with the exception of O->T(: not a super strong edge, we might consider removing it)"
      ]
    },
    {
      "cell_type": "markdown",
      "id": "3MR1BLoNWcNB",
      "metadata": {
        "id": "3MR1BLoNWcNB"
      },
      "source": [
        "## Learn the Full Network Structure from Data"
      ]
    },
    {
      "cell_type": "code",
      "execution_count": 10,
      "id": "voBXDX1KmWvB",
      "metadata": {
        "colab": {
          "base_uri": "https://localhost:8080/",
          "height": 69
        },
        "id": "voBXDX1KmWvB",
        "outputId": "dda1776b-d37e-4227-980a-90b0cc56b251",
        "vscode": {
          "languageId": "r"
        }
      },
      "outputs": [
        {
          "data": {
            "text/html": [
              "-2012.68674837292"
            ],
            "text/latex": [
              "-2012.68674837292"
            ],
            "text/markdown": [
              "-2012.68674837292"
            ],
            "text/plain": [
              "[1] -2012.687"
            ]
          },
          "metadata": {},
          "output_type": "display_data"
        },
        {
          "data": {
            "text/html": [
              "-1998.28448583529"
            ],
            "text/latex": [
              "-1998.28448583529"
            ],
            "text/markdown": [
              "-1998.28448583529"
            ],
            "text/plain": [
              "[1] -1998.284"
            ]
          },
          "metadata": {},
          "output_type": "display_data"
        },
        {
          "data": {
            "text/html": [
              "-2015.64664109131"
            ],
            "text/latex": [
              "-2015.64664109131"
            ],
            "text/markdown": [
              "-2015.64664109131"
            ],
            "text/plain": [
              "[1] -2015.647"
            ]
          },
          "metadata": {},
          "output_type": "display_data"
        }
      ],
      "source": [
        "# examine scores\n",
        "set.seed(123) # reproducing our output\n",
        "score(dag, data = survey, type = \"bic\") # BIC-Bayesian Information Criteria\n",
        "score(dag, data = survey, type = \"bde\", iss = 10) # BDE-Bayesian Dirichlet Equivalent\n",
        "score(dag, data = survey, type = \"bde\", iss = 1) # BDE"
      ]
    },
    {
      "cell_type": "code",
      "execution_count": 11,
      "id": "LTJcC6NymhP5",
      "metadata": {
        "colab": {
          "base_uri": "https://localhost:8080/",
          "height": 34
        },
        "id": "LTJcC6NymhP5",
        "outputId": "d63494c3-6911-45a4-d9bf-72f60b6efb71",
        "vscode": {
          "languageId": "r"
        }
      },
      "outputs": [
        {
          "data": {
            "text/html": [
              "-2032.60336305978"
            ],
            "text/latex": [
              "-2032.60336305978"
            ],
            "text/markdown": [
              "-2032.60336305978"
            ],
            "text/plain": [
              "[1] -2032.603"
            ]
          },
          "metadata": {},
          "output_type": "display_data"
        }
      ],
      "source": [
        "# make a change in the network and re-examine the scores\n",
        "dag4 <- set.arc(dag, from = \"E\", to = \"T\")\n",
        "score(dag4, data = survey, type = \"bic\") # no improvement - as expected"
      ]
    },
    {
      "cell_type": "code",
      "execution_count": 21,
      "id": "U-qDJUupnBhu",
      "metadata": {
        "id": "U-qDJUupnBhu",
        "vscode": {
          "languageId": "r"
        }
      },
      "outputs": [],
      "source": [
        "# examine the score of a random graph - just for comparison\n",
        "# (no informatoin in the graph)\n",
        "rnd <- random.graph(nodes = c(\"A\", \"S\", \"E\", \"O\", \"R\", \"T\"))"
      ]
    },
    {
      "cell_type": "code",
      "execution_count": 19,
      "id": "E1bxK6WwnD8r",
      "metadata": {
        "colab": {
          "base_uri": "https://localhost:8080/",
          "height": 34
        },
        "id": "E1bxK6WwnD8r",
        "outputId": "4a9698e4-daf3-4f05-fa62-7c0ff833ba42",
        "vscode": {
          "languageId": "r"
        }
      },
      "outputs": [
        {
          "data": {
            "text/html": [
              "'[A][S][E|A][O|E][R|S:E:O][T|S:O:R]'"
            ],
            "text/latex": [
              "'{[}A{]}{[}S{]}{[}E\\textbar{}A{]}{[}O\\textbar{}E{]}{[}R\\textbar{}S:E:O{]}{[}T\\textbar{}S:O:R{]}'"
            ],
            "text/markdown": [
              "'[A][S][E|A][O|E][R|S:E:O][T|S:O:R]'"
            ],
            "text/plain": [
              "[1] \"[A][S][E|A][O|E][R|S:E:O][T|S:O:R]\""
            ]
          },
          "metadata": {},
          "output_type": "display_data"
        }
      ],
      "source": [
        "modelstring(rnd) # it is a BN but not in support of the data, unless it happens by chance"
      ]
    },
    {
      "cell_type": "code",
      "execution_count": 22,
      "id": "BqZw1W7wnkY6",
      "metadata": {
        "colab": {
          "base_uri": "https://localhost:8080/",
          "height": 34
        },
        "id": "BqZw1W7wnkY6",
        "outputId": "f4549113-808e-4efb-cef0-78e0911d5c7c",
        "vscode": {
          "languageId": "r"
        }
      },
      "outputs": [
        {
          "data": {
            "text/html": [
              "'[A][S][E|A:S][O|E][R|E][T|O:R]'"
            ],
            "text/latex": [
              "'{[}A{]}{[}S{]}{[}E\\textbar{}A:S{]}{[}O\\textbar{}E{]}{[}R\\textbar{}E{]}{[}T\\textbar{}O:R{]}'"
            ],
            "text/markdown": [
              "'[A][S][E|A:S][O|E][R|E][T|O:R]'"
            ],
            "text/plain": [
              "[1] \"[A][S][E|A:S][O|E][R|E][T|O:R]\""
            ]
          },
          "metadata": {},
          "output_type": "display_data"
        }
      ],
      "source": [
        "modelstring(dag)"
      ]
    },
    {
      "cell_type": "code",
      "execution_count": 20,
      "id": "iP_4v1VNnG7O",
      "metadata": {
        "colab": {
          "base_uri": "https://localhost:8080/",
          "height": 34
        },
        "id": "iP_4v1VNnG7O",
        "outputId": "e7d4b6fa-82b8-4246-86a5-2317f7148dbd",
        "vscode": {
          "languageId": "r"
        }
      },
      "outputs": [
        {
          "data": {
            "text/html": [
              "-2044.92433872908"
            ],
            "text/latex": [
              "-2044.92433872908"
            ],
            "text/markdown": [
              "-2044.92433872908"
            ],
            "text/plain": [
              "[1] -2044.924"
            ]
          },
          "metadata": {},
          "output_type": "display_data"
        }
      ],
      "source": [
        "score(rnd, data = survey, type = \"bic\")"
      ]
    },
    {
      "cell_type": "code",
      "execution_count": 15,
      "id": "d8234dab",
      "metadata": {
        "colab": {
          "base_uri": "https://localhost:8080/",
          "height": 329
        },
        "id": "d8234dab",
        "outputId": "6aecba8b-c58d-4255-d0f4-e898295d4053",
        "scrolled": true,
        "vscode": {
          "languageId": "r"
        }
      },
      "outputs": [
        {
          "data": {
            "text/plain": [
              "\n",
              "  Bayesian network learned via Score-based methods\n",
              "\n",
              "  model:\n",
              "   [R][E|R][T|R][A|E][O|E][S|E] \n",
              "  nodes:                                 6 \n",
              "  arcs:                                  5 \n",
              "    undirected arcs:                     0 \n",
              "    directed arcs:                       5 \n",
              "  average markov blanket size:           1.67 \n",
              "  average neighbourhood size:            1.67 \n",
              "  average branching factor:              0.83 \n",
              "\n",
              "  learning algorithm:                    Hill-Climbing \n",
              "  score:                                 BIC (disc.) \n",
              "  penalization coefficient:              3.107304 \n",
              "  tests used in the learning procedure:  40 \n",
              "  optimized:                             TRUE \n"
            ]
          },
          "metadata": {},
          "output_type": "display_data"
        }
      ],
      "source": [
        "# With the hill-climbing algorithm, we can build the score based graph\n",
        "learned <- hc(survey)\n",
        "learned"
      ]
    },
    {
      "cell_type": "code",
      "execution_count": 23,
      "id": "227fa665",
      "metadata": {
        "colab": {
          "base_uri": "https://localhost:8080/",
          "height": 52
        },
        "id": "227fa665",
        "outputId": "515c78de-0009-4a3e-ebd5-23d4cf1eefd6",
        "vscode": {
          "languageId": "r"
        }
      },
      "outputs": [
        {
          "data": {
            "text/html": [
              "'[R][E|R][T|R][A|E][O|E][S|E]'"
            ],
            "text/latex": [
              "'{[}R{]}{[}E\\textbar{}R{]}{[}T\\textbar{}R{]}{[}A\\textbar{}E{]}{[}O\\textbar{}E{]}{[}S\\textbar{}E{]}'"
            ],
            "text/markdown": [
              "'[R][E|R][T|R][A|E][O|E][S|E]'"
            ],
            "text/plain": [
              "[1] \"[R][E|R][T|R][A|E][O|E][S|E]\""
            ]
          },
          "metadata": {},
          "output_type": "display_data"
        },
        {
          "data": {
            "text/html": [
              "'[A][S][E|A:S][O|E][R|E][T|O:R]'"
            ],
            "text/latex": [
              "'{[}A{]}{[}S{]}{[}E\\textbar{}A:S{]}{[}O\\textbar{}E{]}{[}R\\textbar{}E{]}{[}T\\textbar{}O:R{]}'"
            ],
            "text/markdown": [
              "'[A][S][E|A:S][O|E][R|E][T|O:R]'"
            ],
            "text/plain": [
              "[1] \"[A][S][E|A:S][O|E][R|E][T|O:R]\""
            ]
          },
          "metadata": {},
          "output_type": "display_data"
        }
      ],
      "source": [
        "# Examine closer - the network\n",
        "modelstring(learned)\n",
        "modelstring(dag)"
      ]
    },
    {
      "cell_type": "code",
      "execution_count": 24,
      "id": "8vvCZXqRn67H",
      "metadata": {
        "colab": {
          "base_uri": "https://localhost:8080/",
          "height": 437
        },
        "id": "8vvCZXqRn67H",
        "outputId": "09eeac5a-ecec-414a-f52a-274c6da2fc20",
        "vscode": {
          "languageId": "r"
        }
      },
      "outputs": [
        {
          "data": {
            "image/png": "[encoded data removed]",
            "text/plain": [
              "plot without title"
            ]
          },
          "metadata": {
            "image/png": {
              "height": 420,
              "width": 420
            }
          },
          "output_type": "display_data"
        }
      ],
      "source": [
        "plot(learned)"
      ]
    },
    {
      "cell_type": "code",
      "execution_count": 25,
      "id": "XVH_GaVtn9OT",
      "metadata": {
        "colab": {
          "base_uri": "https://localhost:8080/",
          "height": 437
        },
        "id": "XVH_GaVtn9OT",
        "outputId": "2513f2e3-eb87-4f48-a78d-26f27eb4d5df",
        "vscode": {
          "languageId": "r"
        }
      },
      "outputs": [
        {
          "data": {
            "image/png": "[encoded data removed]",
            "text/plain": [
              "plot without title"
            ]
          },
          "metadata": {
            "image/png": {
              "height": 420,
              "width": 420
            }
          },
          "output_type": "display_data"
        }
      ],
      "source": [
        "plot(dag)"
      ]
    },
    {
      "cell_type": "code",
      "execution_count": 26,
      "id": "10cfe798",
      "metadata": {
        "colab": {
          "base_uri": "https://localhost:8080/",
          "height": 52
        },
        "id": "10cfe798",
        "outputId": "cd4dc3e3-8cfb-4161-a151-48d495204e4c",
        "vscode": {
          "languageId": "r"
        }
      },
      "outputs": [
        {
          "data": {
            "text/html": [
              "-1998.4324786367"
            ],
            "text/latex": [
              "-1998.4324786367"
            ],
            "text/markdown": [
              "-1998.4324786367"
            ],
            "text/plain": [
              "[1] -1998.432"
            ]
          },
          "metadata": {},
          "output_type": "display_data"
        },
        {
          "data": {
            "text/html": [
              "-2012.68674837292"
            ],
            "text/latex": [
              "-2012.68674837292"
            ],
            "text/markdown": [
              "-2012.68674837292"
            ],
            "text/plain": [
              "[1] -2012.687"
            ]
          },
          "metadata": {},
          "output_type": "display_data"
        }
      ],
      "source": [
        "score(learned, data = survey, type = \"bic\")\n",
        "score(dag, data = survey, type = \"bic\")"
      ]
    },
    {
      "cell_type": "code",
      "execution_count": 27,
      "id": "b3dccd19",
      "metadata": {
        "colab": {
          "base_uri": "https://localhost:8080/",
          "height": 255
        },
        "id": "b3dccd19",
        "outputId": "780ab25b-a596-4d23-cd61-6a356829f7a3",
        "vscode": {
          "languageId": "r"
        }
      },
      "outputs": [
        {
          "data": {
            "text/html": [
              "<table class=\"dataframe\">\n",
              "<caption>A bn.strength: 5 × 3</caption>\n",
              "<thead>\n",
              "\t<tr><th></th><th scope=col>from</th><th scope=col>to</th><th scope=col>strength</th></tr>\n",
              "\t<tr><th></th><th scope=col>&lt;chr&gt;</th><th scope=col>&lt;chr&gt;</th><th scope=col>&lt;dbl&gt;</th></tr>\n",
              "</thead>\n",
              "<tbody>\n",
              "\t<tr><th scope=row>1</th><td>R</td><td>E</td><td>-3.3896261</td></tr>\n",
              "\t<tr><th scope=row>2</th><td>E</td><td>S</td><td>-2.7260640</td></tr>\n",
              "\t<tr><th scope=row>3</th><td>R</td><td>T</td><td>-1.8484171</td></tr>\n",
              "\t<tr><th scope=row>4</th><td>E</td><td>A</td><td>-1.7195441</td></tr>\n",
              "\t<tr><th scope=row>5</th><td>E</td><td>O</td><td>-0.8266937</td></tr>\n",
              "</tbody>\n",
              "</table>\n"
            ],
            "text/latex": [
              "A bn.strength: 5 × 3\n",
              "\\begin{tabular}{r|lll}\n",
              "  & from & to & strength\\\\\n",
              "  & <chr> & <chr> & <dbl>\\\\\n",
              "\\hline\n",
              "\t1 & R & E & -3.3896261\\\\\n",
              "\t2 & E & S & -2.7260640\\\\\n",
              "\t3 & R & T & -1.8484171\\\\\n",
              "\t4 & E & A & -1.7195441\\\\\n",
              "\t5 & E & O & -0.8266937\\\\\n",
              "\\end{tabular}\n"
            ],
            "text/markdown": [
              "\n",
              "A bn.strength: 5 × 3\n",
              "\n",
              "| <!--/--> | from &lt;chr&gt; | to &lt;chr&gt; | strength &lt;dbl&gt; |\n",
              "|---|---|---|---|\n",
              "| 1 | R | E | -3.3896261 |\n",
              "| 2 | E | S | -2.7260640 |\n",
              "| 3 | R | T | -1.8484171 |\n",
              "| 4 | E | A | -1.7195441 |\n",
              "| 5 | E | O | -0.8266937 |\n",
              "\n"
            ],
            "text/plain": [
              "  from to strength  \n",
              "1 R    E  -3.3896261\n",
              "2 E    S  -2.7260640\n",
              "3 R    T  -1.8484171\n",
              "4 E    A  -1.7195441\n",
              "5 E    O  -0.8266937"
            ]
          },
          "metadata": {},
          "output_type": "display_data"
        }
      ],
      "source": [
        "# deeper look at the networks and strengths\n",
        "arc.strength(learned, data = survey, criterion = \"bic\")"
      ]
    },
    {
      "cell_type": "code",
      "execution_count": 28,
      "id": "6b33675b",
      "metadata": {
        "colab": {
          "base_uri": "https://localhost:8080/",
          "height": 287
        },
        "id": "6b33675b",
        "outputId": "97dc92a9-4b20-40ed-ad8a-458c05aee382",
        "vscode": {
          "languageId": "r"
        }
      },
      "outputs": [
        {
          "data": {
            "text/html": [
              "<table class=\"dataframe\">\n",
              "<caption>A bn.strength: 6 × 3</caption>\n",
              "<thead>\n",
              "\t<tr><th></th><th scope=col>from</th><th scope=col>to</th><th scope=col>strength</th></tr>\n",
              "\t<tr><th></th><th scope=col>&lt;chr&gt;</th><th scope=col>&lt;chr&gt;</th><th scope=col>&lt;dbl&gt;</th></tr>\n",
              "</thead>\n",
              "<tbody>\n",
              "\t<tr><th scope=row>1</th><td>A</td><td>E</td><td> 2.4889383</td></tr>\n",
              "\t<tr><th scope=row>2</th><td>S</td><td>E</td><td> 1.4824183</td></tr>\n",
              "\t<tr><th scope=row>3</th><td>E</td><td>O</td><td>-0.8266937</td></tr>\n",
              "\t<tr><th scope=row>4</th><td>E</td><td>R</td><td>-3.3896261</td></tr>\n",
              "\t<tr><th scope=row>5</th><td>O</td><td>T</td><td>10.0457874</td></tr>\n",
              "\t<tr><th scope=row>6</th><td>R</td><td>T</td><td> 2.9734338</td></tr>\n",
              "</tbody>\n",
              "</table>\n"
            ],
            "text/latex": [
              "A bn.strength: 6 × 3\n",
              "\\begin{tabular}{r|lll}\n",
              "  & from & to & strength\\\\\n",
              "  & <chr> & <chr> & <dbl>\\\\\n",
              "\\hline\n",
              "\t1 & A & E &  2.4889383\\\\\n",
              "\t2 & S & E &  1.4824183\\\\\n",
              "\t3 & E & O & -0.8266937\\\\\n",
              "\t4 & E & R & -3.3896261\\\\\n",
              "\t5 & O & T & 10.0457874\\\\\n",
              "\t6 & R & T &  2.9734338\\\\\n",
              "\\end{tabular}\n"
            ],
            "text/markdown": [
              "\n",
              "A bn.strength: 6 × 3\n",
              "\n",
              "| <!--/--> | from &lt;chr&gt; | to &lt;chr&gt; | strength &lt;dbl&gt; |\n",
              "|---|---|---|---|\n",
              "| 1 | A | E |  2.4889383 |\n",
              "| 2 | S | E |  1.4824183 |\n",
              "| 3 | E | O | -0.8266937 |\n",
              "| 4 | E | R | -3.3896261 |\n",
              "| 5 | O | T | 10.0457874 |\n",
              "| 6 | R | T |  2.9734338 |\n",
              "\n"
            ],
            "text/plain": [
              "  from to strength  \n",
              "1 A    E   2.4889383\n",
              "2 S    E   1.4824183\n",
              "3 E    O  -0.8266937\n",
              "4 E    R  -3.3896261\n",
              "5 O    T  10.0457874\n",
              "6 R    T   2.9734338"
            ]
          },
          "metadata": {},
          "output_type": "display_data"
        }
      ],
      "source": [
        "arc.strength(dag, data = survey, criterion = \"bic\")"
      ]
    },
    {
      "cell_type": "code",
      "execution_count": null,
      "id": "Vuku-s_qoGWa",
      "metadata": {
        "id": "Vuku-s_qoGWa",
        "vscode": {
          "languageId": "r"
        }
      },
      "outputs": [],
      "source": []
    }
  ],
  "metadata": {
    "colab": {
      "provenance": []
    },
    "kernelspec": {
      "display_name": "R",
      "language": "R",
      "name": "ir"
    },
    "language_info": {
      "codemirror_mode": "r",
      "file_extension": ".r",
      "mimetype": "text/x-r-source",
      "name": "R",
      "pygments_lexer": "r",
      "version": "4.2.0"
    }
  },
  "nbformat": 4,
  "nbformat_minor": 5
}
