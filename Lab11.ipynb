{
  "cells": [
    {
      "cell_type": "markdown",
      "metadata": {
        "id": "d51f7c2c"
      },
      "source": [
        "Chapter 1 - Multinomial BNs - Probabilistic Reasoning - approximate inference\n",
        "\n",
        "Train Survey\n",
        "\n",
        "- Age - young, adult, old <br>\n",
        "- Sex - male, female <br>\n",
        "- Education - high (high-school), university degree <br>\n",
        "- Occupation - emp (employee), self-employed (self) <br>\n",
        "- Residence - city  size: small, big <br>\n",
        "- Transportation - car, train, other"
      ],
      "id": "d51f7c2c"
    },
    {
      "cell_type": "code",
      "source": [
        "install.packages(\n",
        "  \"bnlearn\",\n",
        "  repos = \"https://cloud.r-project.org\",   # CRAN mirror\n",
        "  dependencies = TRUE                      # pulls in igraph, gRain, etc.\n",
        ")"
      ],
      "metadata": {
        "id": "QD424TJlxrAU"
      },
      "id": "QD424TJlxrAU",
      "execution_count": null,
      "outputs": []
    },
    {
      "cell_type": "code",
      "source": [
        "install.packages(\n",
        "  \"gRain\",\n",
        "  repos = \"https://cloud.r-project.org\",   # CRAN mirror\n",
        "  dependencies = TRUE                      # pulls in igraph, gRain, etc.\n",
        ")"
      ],
      "metadata": {
        "colab": {
          "base_uri": "https://localhost:8080/"
        },
        "id": "h385gNsf-NSR",
        "outputId": "5aef34db-d442-478a-8f22-78f7cf1acd49"
      },
      "id": "h385gNsf-NSR",
      "execution_count": null,
      "outputs": [
        {
          "output_type": "stream",
          "name": "stderr",
          "text": [
            "Installing package into ‘/usr/local/lib/R/site-library’\n",
            "(as ‘lib’ is unspecified)\n",
            "\n",
            "also installing the dependencies ‘cowplot’, ‘Deriv’, ‘doBy’, ‘litedown’, ‘gRim’, ‘markdown’, ‘microbenchmark’\n",
            "\n",
            "\n",
            "Loading required package: gRbase\n",
            "\n",
            "\n",
            "Attaching package: ‘gRbase’\n",
            "\n",
            "\n",
            "The following objects are masked from ‘package:bnlearn’:\n",
            "\n",
            "    ancestors, children, nodes, parents\n",
            "\n",
            "\n"
          ]
        }
      ]
    },
    {
      "cell_type": "code",
      "source": [
        "library(bnlearn)\n",
        "library(gRain)"
      ],
      "metadata": {
        "id": "eCqUvUFWRCg9"
      },
      "id": "eCqUvUFWRCg9",
      "execution_count": 93,
      "outputs": []
    },
    {
      "cell_type": "code",
      "execution_count": 94,
      "metadata": {
        "id": "19965b19",
        "colab": {
          "base_uri": "https://localhost:8080/",
          "height": 437
        },
        "outputId": "2f4e3039-cef7-4aad-b94e-cef422de4e70"
      },
      "outputs": [
        {
          "output_type": "display_data",
          "data": {
            "text/plain": [
              "plot without title"
            ],
            "image/png": "[encoded data removed]"
          },
          "metadata": {
            "image/png": {
              "width": 420,
              "height": 420
            }
          }
        }
      ],
      "source": [
        "rm(list = ls())\n",
        "setwd(\"/content\")\n",
        "\n",
        "# create an empty graph\n",
        "dag <- empty.graph(nodes = c(\"A\", \"S\", \"E\", \"O\", \"R\", \"T\"))\n",
        "\n",
        "# Add in the edges\n",
        "dag <- set.arc(dag, from = \"A\", to = \"E\") # age influences education\n",
        "dag <- set.arc(dag, from = \"S\", to = \"E\") # sex influences education\n",
        "dag <- set.arc(dag, from = \"E\", to = \"O\") # ....\n",
        "dag <- set.arc(dag, from = \"E\", to = \"R\") # ....\n",
        "dag <- set.arc(dag, from = \"O\", to = \"T\") # ....\n",
        "dag <- set.arc(dag, from = \"R\", to = \"T\") # ....\n",
        "\n",
        "plot(dag)\n",
        "\n",
        "# Read in the data\n",
        "survey <- read.table(\"survey.txt\", header = TRUE, colClasses = \"factor\")\n",
        "\n",
        "# define the states\n",
        "A.lv <- c(\"young\", \"adult\", \"old\")\n",
        "S.lv <- c(\"M\", \"F\")\n",
        "E.lv <- c(\"high\", \"uni\")\n",
        "O.lv <- c(\"emp\", \"self\")\n",
        "R.lv <- c(\"small\", \"big\")\n",
        "T.lv <- c(\"car\", \"train\", \"other\")\n",
        "\n",
        "# specify the CPT for every node (\"Expert Defined\")\n",
        "A.prob <- array(c(0.30, 0.50, 0.20), dim = 3, dimnames = list(A = A.lv))\n",
        "\n",
        "S.prob <- array(c(0.60, 0.4), dim = 2, dimnames = list(S=S.lv))\n",
        "\n",
        "O.prob <- array(c(0.96, 0.04, 0.92, 0.08), dim = c(2,2),\n",
        "                dimnames = list(O=O.lv, E=E.lv))\n",
        "\n",
        "R.prob <- array(c(0.25, 0.75, 0.20, 0.80), dim = c(2,2),\n",
        "               dimnames = list(R = R.lv, E = E.lv))\n",
        "\n",
        "E.prob <- array(c(0.75, 0.25, 0.72, 0.28, 0.88, 0.12, 0.64,\n",
        "                  0.36, 0.70, 0.30, 0.90, 0.10), dim = c(2,3,2), dimnames = list(E=E.lv, A = A.lv, S = S.lv))\n",
        "\n",
        "T.prob <- array(c(0.48, 0.42, 0.10, 0.56, 0.36, 0.08, 0.58,\n",
        "                 0.24, 0.18, 0.70, 0.21, 0.09), dim = c(3,2,2),\n",
        "                dimnames = list(T=T.lv, O = O.lv, R = R.lv))\n",
        "\n",
        "cpt <- list(A = A.prob, S = S.prob, E = E.prob, O = O.prob, R = R.prob,\n",
        "           T = T.prob)\n",
        "bn <- custom.fit(dag, dist = cpt)"
      ],
      "id": "19965b19"
    },
    {
      "cell_type": "code",
      "execution_count": 95,
      "metadata": {
        "id": "83569fbc",
        "colab": {
          "base_uri": "https://localhost:8080/",
          "height": 454
        },
        "outputId": "8a108cee-612f-4465-a37e-94a0e576dc33"
      },
      "outputs": [
        {
          "output_type": "display_data",
          "data": {
            "text/html": [
              "<style>\n",
              ".list-inline {list-style: none; margin:0; padding: 0}\n",
              ".list-inline>li {display: inline-block}\n",
              ".list-inline>li:not(:last-child)::after {content: \"\\00b7\"; padding: 0 .5ex}\n",
              "</style>\n",
              "<ol class=list-inline><li>'bn.fit'</li><li>'bn.fit.dnet'</li></ol>\n"
            ],
            "text/markdown": "1. 'bn.fit'\n2. 'bn.fit.dnet'\n\n\n",
            "text/latex": "\\begin{enumerate*}\n\\item 'bn.fit'\n\\item 'bn.fit.dnet'\n\\end{enumerate*}\n",
            "text/plain": [
              "[1] \"bn.fit\"      \"bn.fit.dnet\""
            ]
          },
          "metadata": {}
        },
        {
          "output_type": "display_data",
          "data": {
            "text/plain": [
              "Plot with title “”"
            ],
            "image/png": "[encoded data removed]"
          },
          "metadata": {
            "image/png": {
              "width": 420,
              "height": 420
            }
          }
        }
      ],
      "source": [
        "class(bn)\n",
        "junction <- compile(as.grain(bn))\n",
        "plot(junction)"
      ],
      "id": "83569fbc"
    },
    {
      "cell_type": "code",
      "source": [
        "# Exact inference\n",
        "jedu <- setEvidence(junction, nodes = \"E\", states = \"high\")\n",
        "SxT <- querygrain(jedu, nodes = c(\"S\", \"T\"), type = \"joint\")\n",
        "SxT"
      ],
      "metadata": {
        "colab": {
          "base_uri": "https://localhost:8080/",
          "height": 130
        },
        "id": "lA31zLCfUDay",
        "outputId": "f1a8a8ab-a68a-45f8-e2c3-82edca5c9105"
      },
      "id": "lA31zLCfUDay",
      "execution_count": 96,
      "outputs": [
        {
          "output_type": "display_data",
          "data": {
            "text/html": [
              "<table class=\"dataframe\">\n",
              "<caption>A matrix: 2 × 3 of type dbl</caption>\n",
              "<thead>\n",
              "\t<tr><th></th><th scope=col>car</th><th scope=col>train</th><th scope=col>other</th></tr>\n",
              "</thead>\n",
              "<tbody>\n",
              "\t<tr><th scope=row>M</th><td>0.3426644</td><td>0.1736599</td><td>0.09623271</td></tr>\n",
              "\t<tr><th scope=row>F</th><td>0.2167356</td><td>0.1098401</td><td>0.06086729</td></tr>\n",
              "</tbody>\n",
              "</table>\n"
            ],
            "text/markdown": "\nA matrix: 2 × 3 of type dbl\n\n| <!--/--> | car | train | other |\n|---|---|---|---|\n| M | 0.3426644 | 0.1736599 | 0.09623271 |\n| F | 0.2167356 | 0.1098401 | 0.06086729 |\n\n",
            "text/latex": "A matrix: 2 × 3 of type dbl\n\\begin{tabular}{r|lll}\n  & car & train & other\\\\\n\\hline\n\tM & 0.3426644 & 0.1736599 & 0.09623271\\\\\n\tF & 0.2167356 & 0.1098401 & 0.06086729\\\\\n\\end{tabular}\n",
            "text/plain": [
              "   T\n",
              "S   car       train     other     \n",
              "  M 0.3426644 0.1736599 0.09623271\n",
              "  F 0.2167356 0.1098401 0.06086729"
            ]
          },
          "metadata": {}
        }
      ]
    },
    {
      "cell_type": "code",
      "source": [
        "# Approximate Inference - via Monte Carlo Simulation\n",
        "# ?cpquery\n",
        "my_query1 <- cpquery(bn, event = (S == \"M\") & (T == \"car\"), evidence = (E == \"high\"))\n",
        "my_query1"
      ],
      "metadata": {
        "colab": {
          "base_uri": "https://localhost:8080/",
          "height": 34
        },
        "id": "YpdXcGfYUIyB",
        "outputId": "b9f355aa-e994-4f35-f38a-0291bc19dcc2"
      },
      "id": "YpdXcGfYUIyB",
      "execution_count": 97,
      "outputs": [
        {
          "output_type": "display_data",
          "data": {
            "text/html": [
              "0.341734417344173"
            ],
            "text/markdown": "0.341734417344173",
            "text/latex": "0.341734417344173",
            "text/plain": [
              "[1] 0.3417344"
            ]
          },
          "metadata": {}
        }
      ]
    },
    {
      "cell_type": "code",
      "execution_count": 98,
      "metadata": {
        "id": "f6c62228",
        "colab": {
          "base_uri": "https://localhost:8080/",
          "height": 52
        },
        "outputId": "064e17c9-1f1b-48a7-cab2-17ab187e8d7a"
      },
      "outputs": [
        {
          "output_type": "display_data",
          "data": {
            "text/html": [
              "0.285714285714286"
            ],
            "text/markdown": "0.285714285714286",
            "text/latex": "0.285714285714286",
            "text/plain": [
              "[1] 0.2857143"
            ]
          },
          "metadata": {}
        },
        {
          "output_type": "display_data",
          "data": {
            "text/html": [
              "0.341595940786137"
            ],
            "text/markdown": "0.341595940786137",
            "text/latex": "0.341595940786137",
            "text/plain": [
              "[1] 0.3415959"
            ]
          },
          "metadata": {}
        }
      ],
      "source": [
        "# small sample size\n",
        "my_query2 <- cpquery(bn, event = (S == \"M\") & (T == \"car\"), evidence = (E == \"high\"), n = 10)\n",
        "my_query2\n",
        "\n",
        "# large sample size\n",
        "my_query3 <- cpquery(bn, event = (S == \"M\") & (T == \"car\"), evidence = (E == \"high\"), n = 10^6)\n",
        "my_query3"
      ],
      "id": "f6c62228"
    },
    {
      "cell_type": "code",
      "source": [
        "# Approximate Inference - via Likelihood Weighting\n",
        "my_query4 <- cpquery(bn, event = (S == \"M\") & (T == \"car\"), evidence = list(E = \"high\"), method = \"lw\")\n",
        "my_query4"
      ],
      "metadata": {
        "colab": {
          "base_uri": "https://localhost:8080/",
          "height": 34
        },
        "id": "bWltMOquUYNa",
        "outputId": "7861e940-03d1-4de3-c425-46af07c4a63f"
      },
      "id": "bWltMOquUYNa",
      "execution_count": 99,
      "outputs": [
        {
          "output_type": "display_data",
          "data": {
            "text/html": [
              "0.337580216416508"
            ],
            "text/markdown": "0.337580216416508",
            "text/latex": "0.337580216416508",
            "text/plain": [
              "[1] 0.3375802"
            ]
          },
          "metadata": {}
        }
      ]
    },
    {
      "cell_type": "markdown",
      "metadata": {
        "id": "7cf6a78b"
      },
      "source": [
        "Lets look at a more complicated query that we wouldn't get with exact inference<br>\n",
        "$\\Pr(S=M, T= car \\mid \\{A=young, E = uni\\} \\cup \\{A = adult\\})$"
      ],
      "id": "7cf6a78b"
    },
    {
      "cell_type": "code",
      "execution_count": 100,
      "metadata": {
        "id": "ab00a350",
        "colab": {
          "base_uri": "https://localhost:8080/",
          "height": 34
        },
        "outputId": "b812008a-30d6-48fd-c129-84d4d23458be"
      },
      "outputs": [
        {
          "output_type": "display_data",
          "data": {
            "text/html": [
              "0.32993734399674"
            ],
            "text/markdown": "0.32993734399674",
            "text/latex": "0.32993734399674",
            "text/plain": [
              "[1] 0.3299373"
            ]
          },
          "metadata": {}
        }
      ],
      "source": [
        "cpquery(bn, event = (S == \"M\") & (T == \"car\"), evidence = ((A == \"young\") & (E == \"uni\")) | (A == \"adult\"), n = 100000)"
      ],
      "id": "ab00a350"
    },
    {
      "cell_type": "code",
      "execution_count": 101,
      "metadata": {
        "id": "65a2aa2f",
        "colab": {
          "base_uri": "https://localhost:8080/",
          "height": 287
        },
        "outputId": "a5857e17-5df8-46f0-85f9-9b302dcc29fe"
      },
      "outputs": [
        {
          "output_type": "display_data",
          "data": {
            "text/html": [
              "<table class=\"dataframe\">\n",
              "<caption>A bn.cpdist: 6 × 2</caption>\n",
              "<thead>\n",
              "\t<tr><th></th><th scope=col>S</th><th scope=col>T</th></tr>\n",
              "\t<tr><th></th><th scope=col>&lt;fct&gt;</th><th scope=col>&lt;fct&gt;</th></tr>\n",
              "</thead>\n",
              "<tbody>\n",
              "\t<tr><th scope=row>1</th><td>M</td><td>other</td></tr>\n",
              "\t<tr><th scope=row>2</th><td>M</td><td>other</td></tr>\n",
              "\t<tr><th scope=row>3</th><td>F</td><td>car  </td></tr>\n",
              "\t<tr><th scope=row>4</th><td>M</td><td>train</td></tr>\n",
              "\t<tr><th scope=row>5</th><td>F</td><td>train</td></tr>\n",
              "\t<tr><th scope=row>6</th><td>F</td><td>car  </td></tr>\n",
              "</tbody>\n",
              "</table>\n"
            ],
            "text/markdown": "\nA bn.cpdist: 6 × 2\n\n| <!--/--> | S &lt;fct&gt; | T &lt;fct&gt; |\n|---|---|---|\n| 1 | M | other |\n| 2 | M | other |\n| 3 | F | car   |\n| 4 | M | train |\n| 5 | F | train |\n| 6 | F | car   |\n\n",
            "text/latex": "A bn.cpdist: 6 × 2\n\\begin{tabular}{r|ll}\n  & S & T\\\\\n  & <fct> & <fct>\\\\\n\\hline\n\t1 & M & other\\\\\n\t2 & M & other\\\\\n\t3 & F & car  \\\\\n\t4 & M & train\\\\\n\t5 & F & train\\\\\n\t6 & F & car  \\\\\n\\end{tabular}\n",
            "text/plain": [
              "  S T    \n",
              "1 M other\n",
              "2 M other\n",
              "3 F car  \n",
              "4 M train\n",
              "5 F train\n",
              "6 F car  "
            ]
          },
          "metadata": {}
        }
      ],
      "source": [
        "# extract the monte carlo data ie random observations for the variables in \"nodes\" that match the evidence\n",
        "SxT <- cpdist(bn, nodes = c(\"S\", \"T\"), evidence = (E == \"high\"))\n",
        "head(SxT)"
      ],
      "id": "65a2aa2f"
    },
    {
      "cell_type": "code",
      "source": [
        "dim(SxT)"
      ],
      "metadata": {
        "colab": {
          "base_uri": "https://localhost:8080/",
          "height": 34
        },
        "id": "c5TvmGLLVx1P",
        "outputId": "70454169-2065-468a-8715-ec5215dad339"
      },
      "id": "c5TvmGLLVx1P",
      "execution_count": 102,
      "outputs": [
        {
          "output_type": "display_data",
          "data": {
            "text/html": [
              "<style>\n",
              ".list-inline {list-style: none; margin:0; padding: 0}\n",
              ".list-inline>li {display: inline-block}\n",
              ".list-inline>li:not(:last-child)::after {content: \"\\00b7\"; padding: 0 .5ex}\n",
              "</style>\n",
              "<ol class=list-inline><li>3704</li><li>2</li></ol>\n"
            ],
            "text/markdown": "1. 3704\n2. 2\n\n\n",
            "text/latex": "\\begin{enumerate*}\n\\item 3704\n\\item 2\n\\end{enumerate*}\n",
            "text/plain": [
              "[1] 3704    2"
            ]
          },
          "metadata": {}
        }
      ]
    },
    {
      "cell_type": "code",
      "source": [
        "# lots of flexibility to do other things because now we have the data under fixed evidence\n",
        "summ <- table(SxT)\n",
        "prop.table(summ) # summary table of probability"
      ],
      "metadata": {
        "colab": {
          "base_uri": "https://localhost:8080/",
          "height": 86
        },
        "id": "PCNjxCkGVzUt",
        "outputId": "8a72a8e5-1c9d-4544-fc43-a2d9b6998404"
      },
      "id": "PCNjxCkGVzUt",
      "execution_count": 103,
      "outputs": [
        {
          "output_type": "display_data",
          "data": {
            "text/plain": [
              "   T\n",
              "S          car      train      other\n",
              "  M 0.35394168 0.17575594 0.08639309\n",
              "  F 0.20626350 0.11366091 0.06398488"
            ]
          },
          "metadata": {}
        }
      ]
    },
    {
      "cell_type": "code",
      "source": [],
      "metadata": {
        "id": "twwKe6kxV2MN"
      },
      "id": "twwKe6kxV2MN",
      "execution_count": null,
      "outputs": []
    }
  ],
  "metadata": {
    "kernelspec": {
      "display_name": "R",
      "language": "R",
      "name": "ir"
    },
    "language_info": {
      "codemirror_mode": "r",
      "file_extension": ".r",
      "mimetype": "text/x-r-source",
      "name": "R",
      "pygments_lexer": "r",
      "version": "4.2.0"
    },
    "colab": {
      "provenance": []
    }
  },
  "nbformat": 4,
  "nbformat_minor": 5
}