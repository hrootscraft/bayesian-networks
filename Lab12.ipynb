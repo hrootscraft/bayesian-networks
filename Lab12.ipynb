{
  "cells": [
    {
      "cell_type": "markdown",
      "metadata": {
        "id": "dfefa2e4"
      },
      "source": [
        "Chapter 2 - Gaussian Bayesian Networks - probabilistic reasoning\n",
        "\n",
        "The crop data <br>\n",
        "G = genetic potential <br>\n",
        "E = environmental potential <br>\n",
        "V = vegatative mass <br>\n",
        "N = number of seeds (@ flowering time) <br>\n",
        "W = average weight (later in plants life) <br>\n",
        "C = crop <br>\n",
        "\n",
        "$G\\sim N(50, 10^2)$ <br>\n",
        "$E \\sim N(50, 10^2)$ <br>\n",
        "$V \\mid G = g,E=e \\sim N(-10.35 + 0.5g+0.70e, 5^2)$ <br>\n",
        "$N \\mid V = v \\sim N(45 + 0.1v, 9.95^2)$<br>\n",
        "$W \\mid V = v \\sim N(15 + 0.7v, 7.14^2)$<br>\n",
        "$C \\mid N = n, W = w \\sim N(0.3n + 0.7w, 6.25^2)$<br>"
      ],
      "id": "dfefa2e4"
    },
    {
      "cell_type": "code",
      "source": [
        "install.packages(\n",
        "  \"bnlearn\",\n",
        "  repos = \"https://cloud.r-project.org\",   # CRAN mirror\n",
        "  dependencies = TRUE                      # pulls in igraph, gRain, etc.\n",
        ")"
      ],
      "metadata": {
        "id": "QD424TJlxrAU"
      },
      "id": "QD424TJlxrAU",
      "execution_count": null,
      "outputs": []
    },
    {
      "cell_type": "code",
      "source": [
        "install.packages(\n",
        "  \"rbmn\",\n",
        "  repos = \"https://cloud.r-project.org\",   # CRAN mirror\n",
        "  dependencies = TRUE                      # pulls in igraph, gRain, etc.\n",
        ")"
      ],
      "metadata": {
        "id": "x4VfFwatWvQn"
      },
      "id": "x4VfFwatWvQn",
      "execution_count": null,
      "outputs": []
    },
    {
      "cell_type": "code",
      "source": [
        "install.packages(\n",
        "  \"gRain\",\n",
        "  repos = \"https://cloud.r-project.org\",   # CRAN mirror\n",
        "  dependencies = TRUE                      # pulls in igraph, gRain, etc.\n",
        ")"
      ],
      "metadata": {
        "colab": {
          "base_uri": "https://localhost:8080/"
        },
        "id": "h385gNsf-NSR",
        "outputId": "5aef34db-d442-478a-8f22-78f7cf1acd49"
      },
      "id": "h385gNsf-NSR",
      "execution_count": null,
      "outputs": [
        {
          "output_type": "stream",
          "name": "stderr",
          "text": [
            "Installing package into ‘/usr/local/lib/R/site-library’\n",
            "(as ‘lib’ is unspecified)\n",
            "\n",
            "also installing the dependencies ‘cowplot’, ‘Deriv’, ‘doBy’, ‘litedown’, ‘gRim’, ‘markdown’, ‘microbenchmark’\n",
            "\n",
            "\n",
            "Loading required package: gRbase\n",
            "\n",
            "\n",
            "Attaching package: ‘gRbase’\n",
            "\n",
            "\n",
            "The following objects are masked from ‘package:bnlearn’:\n",
            "\n",
            "    ancestors, children, nodes, parents\n",
            "\n",
            "\n"
          ]
        }
      ]
    },
    {
      "cell_type": "code",
      "source": [
        "library(bnlearn)\n",
        "library(gRain)\n",
        "library(rbmn)"
      ],
      "metadata": {
        "id": "eCqUvUFWRCg9"
      },
      "id": "eCqUvUFWRCg9",
      "execution_count": 104,
      "outputs": []
    },
    {
      "cell_type": "code",
      "execution_count": 105,
      "metadata": {
        "id": "ffa8be1e"
      },
      "outputs": [],
      "source": [
        "# From Lab 7 -- the paramaterization\n",
        "# Specify the BN (from formula --> graph)\n",
        "dag.bnlearn <- model2network(\"[G][E][V|G:E][N|V][W|V][C|N:W]\")\n",
        "\n",
        "# Specify the distributions\n",
        "disE <- list(coef = c(\"(Intercept)\" = 50), sd = 10)\n",
        "disG <- list(coef = c(\"(Intercept)\" = 50), sd = 10)\n",
        "disV <- list(coef = c(\"(Intercept)\" = -10.35, E = .70, G = 0.5), sd = 5)\n",
        "disN <- list(coef = c(\"(Intercept)\" = 45, V = .1), sd = 9.95)\n",
        "disW <- list(coef = c(\"(Intercept)\" = 15, V = 0.7), sd = 7.14)\n",
        "disC <- list(coef = c(\"(Intercept)\" = 0, N = 0.3, W = 0.7), sd = 6.25)\n",
        "\n",
        "# put them together for bn parameterization\n",
        "dis.list <- list(E = disE, G = disG, V = disV, N = disN, W = disW, C = disC)\n",
        "\n",
        "gbn.bnlearn <- custom.fit(dag.bnlearn, dist = dis.list)"
      ],
      "id": "ffa8be1e"
    },
    {
      "cell_type": "markdown",
      "source": [
        "### Here, we'll only focus on Approximate Inference so we rely on Simulation"
      ],
      "metadata": {
        "id": "pYvdB2cPXP6P"
      },
      "id": "pYvdB2cPXP6P"
    },
    {
      "cell_type": "code",
      "execution_count": 106,
      "metadata": {
        "id": "946df0fd",
        "outputId": "991cb579-88df-4c24-d2c2-e38157f052ac",
        "colab": {
          "base_uri": "https://localhost:8080/",
          "height": 255
        }
      },
      "outputs": [
        {
          "output_type": "display_data",
          "data": {
            "text/html": [
              "<table class=\"dataframe\">\n",
              "<caption>A data.frame: 5 × 6</caption>\n",
              "<thead>\n",
              "\t<tr><th></th><th scope=col>C</th><th scope=col>E</th><th scope=col>G</th><th scope=col>N</th><th scope=col>V</th><th scope=col>W</th></tr>\n",
              "\t<tr><th></th><th scope=col>&lt;dbl&gt;</th><th scope=col>&lt;dbl&gt;</th><th scope=col>&lt;dbl&gt;</th><th scope=col>&lt;dbl&gt;</th><th scope=col>&lt;dbl&gt;</th><th scope=col>&lt;dbl&gt;</th></tr>\n",
              "</thead>\n",
              "<tbody>\n",
              "\t<tr><th scope=row>1</th><td>47.24133</td><td>67.15065</td><td>44.39524</td><td>69.27713</td><td>64.97349</td><td>52.85718</td></tr>\n",
              "\t<tr><th scope=row>2</th><td>57.46560</td><td>54.60916</td><td>47.69823</td><td>55.30607</td><td>53.52460</td><td>50.91088</td></tr>\n",
              "\t<tr><th scope=row>3</th><td>40.26808</td><td>37.34939</td><td>65.58708</td><td>30.49136</td><td>50.59197</td><td>43.08871</td></tr>\n",
              "\t<tr><th scope=row>4</th><td>39.12615</td><td>43.13147</td><td>50.70508</td><td>56.55329</td><td>45.74799</td><td>41.81931</td></tr>\n",
              "\t<tr><th scope=row>5</th><td>50.38787</td><td>45.54338</td><td>51.29288</td><td>44.73549</td><td>44.39760</td><td>41.61554</td></tr>\n",
              "</tbody>\n",
              "</table>\n"
            ],
            "text/markdown": "\nA data.frame: 5 × 6\n\n| <!--/--> | C &lt;dbl&gt; | E &lt;dbl&gt; | G &lt;dbl&gt; | N &lt;dbl&gt; | V &lt;dbl&gt; | W &lt;dbl&gt; |\n|---|---|---|---|---|---|---|\n| 1 | 47.24133 | 67.15065 | 44.39524 | 69.27713 | 64.97349 | 52.85718 |\n| 2 | 57.46560 | 54.60916 | 47.69823 | 55.30607 | 53.52460 | 50.91088 |\n| 3 | 40.26808 | 37.34939 | 65.58708 | 30.49136 | 50.59197 | 43.08871 |\n| 4 | 39.12615 | 43.13147 | 50.70508 | 56.55329 | 45.74799 | 41.81931 |\n| 5 | 50.38787 | 45.54338 | 51.29288 | 44.73549 | 44.39760 | 41.61554 |\n\n",
            "text/latex": "A data.frame: 5 × 6\n\\begin{tabular}{r|llllll}\n  & C & E & G & N & V & W\\\\\n  & <dbl> & <dbl> & <dbl> & <dbl> & <dbl> & <dbl>\\\\\n\\hline\n\t1 & 47.24133 & 67.15065 & 44.39524 & 69.27713 & 64.97349 & 52.85718\\\\\n\t2 & 57.46560 & 54.60916 & 47.69823 & 55.30607 & 53.52460 & 50.91088\\\\\n\t3 & 40.26808 & 37.34939 & 65.58708 & 30.49136 & 50.59197 & 43.08871\\\\\n\t4 & 39.12615 & 43.13147 & 50.70508 & 56.55329 & 45.74799 & 41.81931\\\\\n\t5 & 50.38787 & 45.54338 & 51.29288 & 44.73549 & 44.39760 & 41.61554\\\\\n\\end{tabular}\n",
            "text/plain": [
              "  C        E        G        N        V        W       \n",
              "1 47.24133 67.15065 44.39524 69.27713 64.97349 52.85718\n",
              "2 57.46560 54.60916 47.69823 55.30607 53.52460 50.91088\n",
              "3 40.26808 37.34939 65.58708 30.49136 50.59197 43.08871\n",
              "4 39.12615 43.13147 50.70508 56.55329 45.74799 41.81931\n",
              "5 50.38787 45.54338 51.29288 44.73549 44.39760 41.61554"
            ]
          },
          "metadata": {}
        }
      ],
      "source": [
        "# Basic Simulation\n",
        "set.seed(123)\n",
        "sim <- rbn(gbn.bnlearn, n = 5) # as before, a basic simulation\n",
        "head(sim)"
      ],
      "id": "946df0fd"
    },
    {
      "cell_type": "code",
      "source": [
        "sim[ , c(\"V\", \"N\", \"C\")]"
      ],
      "metadata": {
        "colab": {
          "base_uri": "https://localhost:8080/",
          "height": 255
        },
        "id": "RMm2xMzYXpft",
        "outputId": "d3c501e4-2447-4167-cbb9-0cfc4f0cf9fd"
      },
      "id": "RMm2xMzYXpft",
      "execution_count": 107,
      "outputs": [
        {
          "output_type": "display_data",
          "data": {
            "text/html": [
              "<table class=\"dataframe\">\n",
              "<caption>A data.frame: 5 × 3</caption>\n",
              "<thead>\n",
              "\t<tr><th scope=col>V</th><th scope=col>N</th><th scope=col>C</th></tr>\n",
              "\t<tr><th scope=col>&lt;dbl&gt;</th><th scope=col>&lt;dbl&gt;</th><th scope=col>&lt;dbl&gt;</th></tr>\n",
              "</thead>\n",
              "<tbody>\n",
              "\t<tr><td>64.97349</td><td>69.27713</td><td>47.24133</td></tr>\n",
              "\t<tr><td>53.52460</td><td>55.30607</td><td>57.46560</td></tr>\n",
              "\t<tr><td>50.59197</td><td>30.49136</td><td>40.26808</td></tr>\n",
              "\t<tr><td>45.74799</td><td>56.55329</td><td>39.12615</td></tr>\n",
              "\t<tr><td>44.39760</td><td>44.73549</td><td>50.38787</td></tr>\n",
              "</tbody>\n",
              "</table>\n"
            ],
            "text/markdown": "\nA data.frame: 5 × 3\n\n| V &lt;dbl&gt; | N &lt;dbl&gt; | C &lt;dbl&gt; |\n|---|---|---|\n| 64.97349 | 69.27713 | 47.24133 |\n| 53.52460 | 55.30607 | 57.46560 |\n| 50.59197 | 30.49136 | 40.26808 |\n| 45.74799 | 56.55329 | 39.12615 |\n| 44.39760 | 44.73549 | 50.38787 |\n\n",
            "text/latex": "A data.frame: 5 × 3\n\\begin{tabular}{lll}\n V & N & C\\\\\n <dbl> & <dbl> & <dbl>\\\\\n\\hline\n\t 64.97349 & 69.27713 & 47.24133\\\\\n\t 53.52460 & 55.30607 & 57.46560\\\\\n\t 50.59197 & 30.49136 & 40.26808\\\\\n\t 45.74799 & 56.55329 & 39.12615\\\\\n\t 44.39760 & 44.73549 & 50.38787\\\\\n\\end{tabular}\n",
            "text/plain": [
              "  V        N        C       \n",
              "1 64.97349 69.27713 47.24133\n",
              "2 53.52460 55.30607 57.46560\n",
              "3 50.59197 30.49136 40.26808\n",
              "4 45.74799 56.55329 39.12615\n",
              "5 44.39760 44.73549 50.38787"
            ]
          },
          "metadata": {}
        }
      ]
    },
    {
      "cell_type": "code",
      "source": [
        "cropdata1 <- rbn(gbn.bnlearn, n = 200)\n",
        "cropdata2 <- rbn(gbn.bnlearn, n = 2000) # nothing new, simulating from a BN"
      ],
      "metadata": {
        "id": "UzgUv9DyXwVX"
      },
      "id": "UzgUv9DyXwVX",
      "execution_count": 108,
      "outputs": []
    },
    {
      "cell_type": "code",
      "source": [
        "# create some simulations that mimic questions/queries of interest\n",
        "# N, C | V = \"small\" --- > N, C | V = 35\n",
        "#?cpdist\n",
        "query1 <- cpdist(gbn.bnlearn, nodes = c(\"N\", \"C\", \"V\"), evidence = (V < 35), n = 1000)\n",
        "head(query1)\n",
        "dim(query1)"
      ],
      "metadata": {
        "colab": {
          "base_uri": "https://localhost:8080/",
          "height": 304
        },
        "id": "grtiYCwjXweS",
        "outputId": "c821db20-958e-4e8f-c873-7f2597964673"
      },
      "id": "grtiYCwjXweS",
      "execution_count": 109,
      "outputs": [
        {
          "output_type": "display_data",
          "data": {
            "text/html": [
              "<table class=\"dataframe\">\n",
              "<caption>A bn.cpdist: 6 × 3</caption>\n",
              "<thead>\n",
              "\t<tr><th></th><th scope=col>N</th><th scope=col>C</th><th scope=col>V</th></tr>\n",
              "\t<tr><th></th><th scope=col>&lt;dbl&gt;</th><th scope=col>&lt;dbl&gt;</th><th scope=col>&lt;dbl&gt;</th></tr>\n",
              "</thead>\n",
              "<tbody>\n",
              "\t<tr><th scope=row>1</th><td>40.99868</td><td>32.75259</td><td>23.57420</td></tr>\n",
              "\t<tr><th scope=row>2</th><td>28.87883</td><td>35.63964</td><td>34.73576</td></tr>\n",
              "\t<tr><th scope=row>3</th><td>44.57809</td><td>43.18525</td><td>33.94617</td></tr>\n",
              "\t<tr><th scope=row>4</th><td>54.32541</td><td>52.12159</td><td>32.99630</td></tr>\n",
              "\t<tr><th scope=row>5</th><td>54.01725</td><td>51.72006</td><td>34.68447</td></tr>\n",
              "\t<tr><th scope=row>6</th><td>56.31346</td><td>38.14457</td><td>30.29418</td></tr>\n",
              "</tbody>\n",
              "</table>\n"
            ],
            "text/markdown": "\nA bn.cpdist: 6 × 3\n\n| <!--/--> | N &lt;dbl&gt; | C &lt;dbl&gt; | V &lt;dbl&gt; |\n|---|---|---|---|\n| 1 | 40.99868 | 32.75259 | 23.57420 |\n| 2 | 28.87883 | 35.63964 | 34.73576 |\n| 3 | 44.57809 | 43.18525 | 33.94617 |\n| 4 | 54.32541 | 52.12159 | 32.99630 |\n| 5 | 54.01725 | 51.72006 | 34.68447 |\n| 6 | 56.31346 | 38.14457 | 30.29418 |\n\n",
            "text/latex": "A bn.cpdist: 6 × 3\n\\begin{tabular}{r|lll}\n  & N & C & V\\\\\n  & <dbl> & <dbl> & <dbl>\\\\\n\\hline\n\t1 & 40.99868 & 32.75259 & 23.57420\\\\\n\t2 & 28.87883 & 35.63964 & 34.73576\\\\\n\t3 & 44.57809 & 43.18525 & 33.94617\\\\\n\t4 & 54.32541 & 52.12159 & 32.99630\\\\\n\t5 & 54.01725 & 51.72006 & 34.68447\\\\\n\t6 & 56.31346 & 38.14457 & 30.29418\\\\\n\\end{tabular}\n",
            "text/plain": [
              "  N        C        V       \n",
              "1 40.99868 32.75259 23.57420\n",
              "2 28.87883 35.63964 34.73576\n",
              "3 44.57809 43.18525 33.94617\n",
              "4 54.32541 52.12159 32.99630\n",
              "5 54.01725 51.72006 34.68447\n",
              "6 56.31346 38.14457 30.29418"
            ]
          },
          "metadata": {}
        },
        {
          "output_type": "display_data",
          "data": {
            "text/html": [
              "<style>\n",
              ".list-inline {list-style: none; margin:0; padding: 0}\n",
              ".list-inline>li {display: inline-block}\n",
              ".list-inline>li:not(:last-child)::after {content: \"\\00b7\"; padding: 0 .5ex}\n",
              "</style>\n",
              "<ol class=list-inline><li>63</li><li>3</li></ol>\n"
            ],
            "text/markdown": "1. 63\n2. 3\n\n\n",
            "text/latex": "\\begin{enumerate*}\n\\item 63\n\\item 3\n\\end{enumerate*}\n",
            "text/plain": [
              "[1] 63  3"
            ]
          },
          "metadata": {}
        }
      ]
    },
    {
      "cell_type": "code",
      "source": [
        "# Consider a different example, V|G=10, E=90. here, for exact events we have to use likelihood weighting\n",
        "query2 <- cpdist(gbn.bnlearn, nodes = c(\"V\"), evidence = list(G=10, E=90), method = \"lw\", n = 100)\n",
        "head(query2)\n",
        "dim(query2)"
      ],
      "metadata": {
        "colab": {
          "base_uri": "https://localhost:8080/",
          "height": 321
        },
        "id": "qxZ9HJZvX626",
        "outputId": "94be66e7-912d-42a5-e86e-59bc467ddf41"
      },
      "id": "qxZ9HJZvX626",
      "execution_count": 110,
      "outputs": [
        {
          "output_type": "display_data",
          "data": {
            "text/html": [
              "<table class=\"dataframe\">\n",
              "<caption>A bn.cpdist: 6 × 1</caption>\n",
              "<thead>\n",
              "\t<tr><th></th><th scope=col>V</th></tr>\n",
              "\t<tr><th></th><th scope=col>&lt;dbl&gt;</th></tr>\n",
              "</thead>\n",
              "<tbody>\n",
              "\t<tr><th scope=row>1</th><td>55.89894</td></tr>\n",
              "\t<tr><th scope=row>2</th><td>59.27849</td></tr>\n",
              "\t<tr><th scope=row>3</th><td>54.48378</td></tr>\n",
              "\t<tr><th scope=row>4</th><td>51.84093</td></tr>\n",
              "\t<tr><th scope=row>5</th><td>59.35543</td></tr>\n",
              "\t<tr><th scope=row>6</th><td>65.11452</td></tr>\n",
              "</tbody>\n",
              "</table>\n"
            ],
            "text/markdown": "\nA bn.cpdist: 6 × 1\n\n| <!--/--> | V &lt;dbl&gt; |\n|---|---|\n| 1 | 55.89894 |\n| 2 | 59.27849 |\n| 3 | 54.48378 |\n| 4 | 51.84093 |\n| 5 | 59.35543 |\n| 6 | 65.11452 |\n\n",
            "text/latex": "A bn.cpdist: 6 × 1\n\\begin{tabular}{r|l}\n  & V\\\\\n  & <dbl>\\\\\n\\hline\n\t1 & 55.89894\\\\\n\t2 & 59.27849\\\\\n\t3 & 54.48378\\\\\n\t4 & 51.84093\\\\\n\t5 & 59.35543\\\\\n\t6 & 65.11452\\\\\n\\end{tabular}\n",
            "text/plain": [
              "  V       \n",
              "1 55.89894\n",
              "2 59.27849\n",
              "3 54.48378\n",
              "4 51.84093\n",
              "5 59.35543\n",
              "6 65.11452"
            ]
          },
          "metadata": {}
        },
        {
          "output_type": "display_data",
          "data": {
            "text/html": [
              "<style>\n",
              ".list-inline {list-style: none; margin:0; padding: 0}\n",
              ".list-inline>li {display: inline-block}\n",
              ".list-inline>li:not(:last-child)::after {content: \"\\00b7\"; padding: 0 .5ex}\n",
              "</style>\n",
              "<ol class=list-inline><li>100</li><li>1</li></ol>\n"
            ],
            "text/markdown": "1. 100\n2. 1\n\n\n",
            "text/latex": "\\begin{enumerate*}\n\\item 100\n\\item 1\n\\end{enumerate*}\n",
            "text/plain": [
              "[1] 100   1"
            ]
          },
          "metadata": {}
        }
      ]
    },
    {
      "cell_type": "code",
      "source": [
        "# Query the probability of an exact event\n",
        "query3 <- cpquery(gbn.bnlearn, event = c(V > 70), evidence = list(G=10, E=90), method = \"lw\")\n",
        "query3"
      ],
      "metadata": {
        "colab": {
          "base_uri": "https://localhost:8080/",
          "height": 34
        },
        "id": "uTVDJ3KZX6_t",
        "outputId": "1834b436-0429-43d0-daca-ed6df0a9802d"
      },
      "id": "uTVDJ3KZX6_t",
      "execution_count": 111,
      "outputs": [
        {
          "output_type": "display_data",
          "data": {
            "text/html": [
              "0.00522222222222222"
            ],
            "text/markdown": "0.00522222222222222",
            "text/latex": "0.00522222222222222",
            "text/plain": [
              "[1] 0.005222222"
            ]
          },
          "metadata": {}
        }
      ]
    }
  ],
  "metadata": {
    "kernelspec": {
      "display_name": "R",
      "language": "R",
      "name": "ir"
    },
    "language_info": {
      "codemirror_mode": "r",
      "file_extension": ".r",
      "mimetype": "text/x-r-source",
      "name": "R",
      "pygments_lexer": "r",
      "version": "4.2.0"
    },
    "colab": {
      "provenance": []
    }
  },
  "nbformat": 4,
  "nbformat_minor": 5
}