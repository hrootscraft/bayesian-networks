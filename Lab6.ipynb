{
  "cells": [
    {
      "cell_type": "markdown",
      "id": "6b032b67",
      "metadata": {
        "id": "6b032b67"
      },
      "source": [
        "Chapter 2 - Gaussian Bayesian Networks - graphical representation II\n",
        "\n",
        "The crop data <br>\n",
        "G = genetic potential <br>\n",
        "E = environmental potential <br>\n",
        "V = vegatative mass <br>\n",
        "N = number of seeds (@ flowering time) <br>\n",
        "W = average weight (later in plants life) <br>\n",
        "C = crop"
      ]
    },
    {
      "cell_type": "code",
      "source": [
        "install.packages(\n",
        "  \"bnlearn\",\n",
        "  repos = \"https://cloud.r-project.org\",   # CRAN mirror\n",
        "  dependencies = TRUE                      # pulls in igraph, gRain, etc.\n",
        ")\n",
        "library(bnlearn)"
      ],
      "metadata": {
        "id": "QD424TJlxrAU"
      },
      "id": "QD424TJlxrAU",
      "execution_count": null,
      "outputs": []
    },
    {
      "cell_type": "code",
      "execution_count": 7,
      "metadata": {
        "id": "32dab202",
        "outputId": "b7aaeb24-fe62-4cd9-c1e3-4d3d7fa9ac6b",
        "colab": {
          "base_uri": "https://localhost:8080/",
          "height": 680
        }
      },
      "outputs": [
        {
          "output_type": "display_data",
          "data": {
            "text/plain": [
              "\n",
              "  Random/Generated Bayesian network\n",
              "\n",
              "  model:\n",
              "   [E][G][V|E:G][N|V][W|V][C|N:W] \n",
              "  nodes:                                 6 \n",
              "  arcs:                                  6 \n",
              "    undirected arcs:                     0 \n",
              "    directed arcs:                       6 \n",
              "  average markov blanket size:           2.67 \n",
              "  average neighbourhood size:            2.00 \n",
              "  average branching factor:              1.00 \n",
              "\n",
              "  generation algorithm:                  Empty \n"
            ]
          },
          "metadata": {}
        },
        {
          "output_type": "display_data",
          "data": {
            "text/plain": [
              "plot without title"
            ],
            "image/png": "[encoded data removed]"
          },
          "metadata": {
            "image/png": {
              "width": 420,
              "height": 420
            }
          }
        }
      ],
      "source": [
        "# Specify the BN (from formula --> graph)\n",
        "dag.bnlearn <- model2network(\"[G][E][V|G:E][N|V][W|V][C|N:W]\")\n",
        "dag.bnlearn\n",
        "\n",
        "plot(dag.bnlearn)"
      ],
      "id": "32dab202"
    },
    {
      "cell_type": "code",
      "execution_count": 8,
      "metadata": {
        "id": "0736f100",
        "colab": {
          "base_uri": "https://localhost:8080/",
          "height": 69
        },
        "outputId": "2938ec7c-621f-4e03-d787-2275f8d54899"
      },
      "outputs": [
        {
          "output_type": "display_data",
          "data": {
            "text/html": [
              "<style>\n",
              ".list-inline {list-style: none; margin:0; padding: 0}\n",
              ".list-inline>li {display: inline-block}\n",
              ".list-inline>li:not(:last-child)::after {content: \"\\00b7\"; padding: 0 .5ex}\n",
              "</style>\n",
              "<ol class=list-inline><li>'C'</li><li>'E'</li><li>'G'</li><li>'N'</li><li>'V'</li><li>'W'</li></ol>\n"
            ],
            "text/markdown": "1. 'C'\n2. 'E'\n3. 'G'\n4. 'N'\n5. 'V'\n6. 'W'\n\n\n",
            "text/latex": "\\begin{enumerate*}\n\\item 'C'\n\\item 'E'\n\\item 'G'\n\\item 'N'\n\\item 'V'\n\\item 'W'\n\\end{enumerate*}\n",
            "text/plain": [
              "[1] \"C\" \"E\" \"G\" \"N\" \"V\" \"W\""
            ]
          },
          "metadata": {}
        },
        {
          "output_type": "stream",
          "name": "stdout",
          "text": [
            "E and G are independent. \n",
            "G and E are independent. \n"
          ]
        }
      ],
      "source": [
        "# Pull out all of the inpendencies in the graph\n",
        "node_set <- nodes(dag.bnlearn)\n",
        "node_set\n",
        "\n",
        "for (n1 in node_set){\n",
        "    for (n2 in node_set){\n",
        "        test <- dsep(dag.bnlearn, n1, n2)\n",
        "        if (test == TRUE){\n",
        "            cat(n1, \"and\", n2, \"are independent. \\n\")\n",
        "        }\n",
        "    }\n",
        "}"
      ],
      "id": "0736f100"
    },
    {
      "cell_type": "code",
      "source": [
        "# Now we have information about \"V\", we want to see how independencies change given V\n",
        "dsep(dag.bnlearn, \"V\", \"V\")"
      ],
      "metadata": {
        "colab": {
          "base_uri": "https://localhost:8080/",
          "height": 34
        },
        "id": "bWmYCrxjx6So",
        "outputId": "199c9b3b-aff8-48e4-b8d6-00f47fb603a0"
      },
      "id": "bWmYCrxjx6So",
      "execution_count": 9,
      "outputs": [
        {
          "output_type": "display_data",
          "data": {
            "text/html": [
              "FALSE"
            ],
            "text/markdown": "FALSE",
            "text/latex": "FALSE",
            "text/plain": [
              "[1] FALSE"
            ]
          },
          "metadata": {}
        }
      ]
    },
    {
      "cell_type": "markdown",
      "source": [
        "Is V d-separated from itself? FALSE. doesn't make sense to have node 2 as V as argument in dsep. we want V to be the conditioning variable, the third variable and take V out of the node set."
      ],
      "metadata": {
        "id": "Vfnvrxkcx6Aj"
      },
      "id": "Vfnvrxkcx6Aj"
    },
    {
      "cell_type": "code",
      "source": [
        "# Pull out all of the inpendencies in the graph\n",
        "node_set <- nodes(dag.bnlearn)\n",
        "node_set\n",
        "\n",
        "for (n1 in node_set[node_set != \"V\"]){\n",
        "    for (n2 in node_set[node_set != \"V\"]){\n",
        "        test <- dsep(dag.bnlearn, x=n1, y=n2, z=\"V\")\n",
        "        if (test == TRUE){\n",
        "            cat(n1, \"and\", n2, \"are independent given V. \\n\")\n",
        "        }\n",
        "    }\n",
        "}"
      ],
      "metadata": {
        "colab": {
          "base_uri": "https://localhost:8080/",
          "height": 277
        },
        "id": "zFWdf5swyCKq",
        "outputId": "ec5c571f-4598-4688-f7ca-0d62d720b407"
      },
      "id": "zFWdf5swyCKq",
      "execution_count": 10,
      "outputs": [
        {
          "output_type": "display_data",
          "data": {
            "text/html": [
              "<style>\n",
              ".list-inline {list-style: none; margin:0; padding: 0}\n",
              ".list-inline>li {display: inline-block}\n",
              ".list-inline>li:not(:last-child)::after {content: \"\\00b7\"; padding: 0 .5ex}\n",
              "</style>\n",
              "<ol class=list-inline><li>'C'</li><li>'E'</li><li>'G'</li><li>'N'</li><li>'V'</li><li>'W'</li></ol>\n"
            ],
            "text/markdown": "1. 'C'\n2. 'E'\n3. 'G'\n4. 'N'\n5. 'V'\n6. 'W'\n\n\n",
            "text/latex": "\\begin{enumerate*}\n\\item 'C'\n\\item 'E'\n\\item 'G'\n\\item 'N'\n\\item 'V'\n\\item 'W'\n\\end{enumerate*}\n",
            "text/plain": [
              "[1] \"C\" \"E\" \"G\" \"N\" \"V\" \"W\""
            ]
          },
          "metadata": {}
        },
        {
          "output_type": "stream",
          "name": "stdout",
          "text": [
            "C and E are independent given V. \n",
            "C and G are independent given V. \n",
            "E and C are independent given V. \n",
            "E and N are independent given V. \n",
            "E and W are independent given V. \n",
            "G and C are independent given V. \n",
            "G and N are independent given V. \n",
            "G and W are independent given V. \n",
            "N and E are independent given V. \n",
            "N and G are independent given V. \n",
            "N and W are independent given V. \n",
            "W and E are independent given V. \n",
            "W and G are independent given V. \n",
            "W and N are independent given V. \n"
          ]
        }
      ]
    },
    {
      "cell_type": "code",
      "source": [
        "# alternative way to take V out of the node set and construct\n",
        "setdiff(node_set, \"V\")"
      ],
      "metadata": {
        "colab": {
          "base_uri": "https://localhost:8080/",
          "height": 34
        },
        "id": "df0OE2IVyMES",
        "outputId": "a36ea9c8-20d3-4ac0-9a64-0ec92084577d"
      },
      "id": "df0OE2IVyMES",
      "execution_count": 11,
      "outputs": [
        {
          "output_type": "display_data",
          "data": {
            "text/html": [
              "<style>\n",
              ".list-inline {list-style: none; margin:0; padding: 0}\n",
              ".list-inline>li {display: inline-block}\n",
              ".list-inline>li:not(:last-child)::after {content: \"\\00b7\"; padding: 0 .5ex}\n",
              "</style>\n",
              "<ol class=list-inline><li>'C'</li><li>'E'</li><li>'G'</li><li>'N'</li><li>'W'</li></ol>\n"
            ],
            "text/markdown": "1. 'C'\n2. 'E'\n3. 'G'\n4. 'N'\n5. 'W'\n\n\n",
            "text/latex": "\\begin{enumerate*}\n\\item 'C'\n\\item 'E'\n\\item 'G'\n\\item 'N'\n\\item 'W'\n\\end{enumerate*}\n",
            "text/plain": [
              "[1] \"C\" \"E\" \"G\" \"N\" \"W\""
            ]
          },
          "metadata": {}
        }
      ]
    },
    {
      "cell_type": "code",
      "source": [
        "node_set[node_set != \"V\"]"
      ],
      "metadata": {
        "colab": {
          "base_uri": "https://localhost:8080/",
          "height": 34
        },
        "id": "XlyDREx-yejK",
        "outputId": "2a950fa1-2675-4821-8b2a-092edc32f953"
      },
      "id": "XlyDREx-yejK",
      "execution_count": 12,
      "outputs": [
        {
          "output_type": "display_data",
          "data": {
            "text/html": [
              "<style>\n",
              ".list-inline {list-style: none; margin:0; padding: 0}\n",
              ".list-inline>li {display: inline-block}\n",
              ".list-inline>li:not(:last-child)::after {content: \"\\00b7\"; padding: 0 .5ex}\n",
              "</style>\n",
              "<ol class=list-inline><li>'C'</li><li>'E'</li><li>'G'</li><li>'N'</li><li>'W'</li></ol>\n"
            ],
            "text/markdown": "1. 'C'\n2. 'E'\n3. 'G'\n4. 'N'\n5. 'W'\n\n\n",
            "text/latex": "\\begin{enumerate*}\n\\item 'C'\n\\item 'E'\n\\item 'G'\n\\item 'N'\n\\item 'W'\n\\end{enumerate*}\n",
            "text/plain": [
              "[1] \"C\" \"E\" \"G\" \"N\" \"W\""
            ]
          },
          "metadata": {}
        }
      ]
    },
    {
      "cell_type": "code",
      "execution_count": 13,
      "metadata": {
        "id": "2bba2eb7",
        "colab": {
          "base_uri": "https://localhost:8080/",
          "height": 411
        },
        "outputId": "34e2829c-c1d4-4faa-e24e-64e07d151b2e"
      },
      "outputs": [
        {
          "output_type": "display_data",
          "data": {
            "text/html": [
              "<style>\n",
              ".list-inline {list-style: none; margin:0; padding: 0}\n",
              ".list-inline>li {display: inline-block}\n",
              ".list-inline>li:not(:last-child)::after {content: \"\\00b7\"; padding: 0 .5ex}\n",
              "</style>\n",
              "<ol class=list-inline><li>'C'</li><li>'E'</li><li>'G'</li><li>'V'</li></ol>\n"
            ],
            "text/markdown": "1. 'C'\n2. 'E'\n3. 'G'\n4. 'V'\n\n\n",
            "text/latex": "\\begin{enumerate*}\n\\item 'C'\n\\item 'E'\n\\item 'G'\n\\item 'V'\n\\end{enumerate*}\n",
            "text/plain": [
              "[1] \"C\" \"E\" \"G\" \"V\""
            ]
          },
          "metadata": {}
        },
        {
          "output_type": "stream",
          "name": "stdout",
          "text": [
            "C and E are independent given W and N. \n",
            "C and G are independent given W and N. \n",
            "C and V are independent given W and N. \n",
            "E and C are independent given W and N. \n",
            "G and C are independent given W and N. \n",
            "V and C are independent given W and N. \n"
          ]
        },
        {
          "output_type": "display_data",
          "data": {
            "text/html": [
              "<table class=\"dataframe\">\n",
              "<caption>A matrix: 6 × 2 of type chr</caption>\n",
              "<thead>\n",
              "\t<tr><th scope=col>n1</th><th scope=col>n2</th></tr>\n",
              "</thead>\n",
              "<tbody>\n",
              "\t<tr><td>C</td><td>E</td></tr>\n",
              "\t<tr><td>C</td><td>G</td></tr>\n",
              "\t<tr><td>C</td><td>V</td></tr>\n",
              "\t<tr><td>E</td><td>C</td></tr>\n",
              "\t<tr><td>G</td><td>C</td></tr>\n",
              "\t<tr><td>V</td><td>C</td></tr>\n",
              "</tbody>\n",
              "</table>\n"
            ],
            "text/markdown": "\nA matrix: 6 × 2 of type chr\n\n| n1 | n2 |\n|---|---|\n| C | E |\n| C | G |\n| C | V |\n| E | C |\n| G | C |\n| V | C |\n\n",
            "text/latex": "A matrix: 6 × 2 of type chr\n\\begin{tabular}{ll}\n n1 & n2\\\\\n\\hline\n\t C & E\\\\\n\t C & G\\\\\n\t C & V\\\\\n\t E & C\\\\\n\t G & C\\\\\n\t V & C\\\\\n\\end{tabular}\n",
            "text/plain": [
              "     n1 n2\n",
              "[1,] C  E \n",
              "[2,] C  G \n",
              "[3,] C  V \n",
              "[4,] E  C \n",
              "[5,] G  C \n",
              "[6,] V  C "
            ]
          },
          "metadata": {}
        }
      ],
      "source": [
        "# Second way of construction\n",
        "elim <- c(\"W\", \"N\")\n",
        "node_set <- setdiff(node_set, elim) # take out of the set\n",
        "                                    # that we are considering\n",
        "node_set\n",
        "\n",
        "store <- c()\n",
        "for (n1 in node_set){\n",
        "    for (n2 in node_set){\n",
        "        test <- dsep(dag.bnlearn, x = n1, y = n2, z = elim)\n",
        "        if(test == TRUE){\n",
        "           cat(n1, \"and\", n2, \"are independent given W and N. \\n\")\n",
        "           temp <- c(n1, n2)\n",
        "           store <- rbind(store, temp)\n",
        "        }\n",
        "    }\n",
        "}\n",
        "\n",
        "\n",
        "rownames(store) <- NULL\n",
        "colnames(store) <- c(\"n1\", \"n2\")\n",
        "store"
      ],
      "id": "2bba2eb7"
    },
    {
      "cell_type": "markdown",
      "source": [
        "When we say there's independencies we mean info cannot flow from n1 to n2 rather given that \"z\" node we don't need n1 to know about n2."
      ],
      "metadata": {
        "id": "fOKj8ydLypI6"
      },
      "id": "fOKj8ydLypI6"
    },
    {
      "cell_type": "code",
      "source": [],
      "metadata": {
        "id": "zeddnNfzzmpS"
      },
      "id": "zeddnNfzzmpS",
      "execution_count": null,
      "outputs": []
    }
  ],
  "metadata": {
    "kernelspec": {
      "display_name": "R",
      "language": "R",
      "name": "ir"
    },
    "language_info": {
      "codemirror_mode": "r",
      "file_extension": ".r",
      "mimetype": "text/x-r-source",
      "name": "R",
      "pygments_lexer": "r",
      "version": "4.2.0"
    },
    "colab": {
      "provenance": []
    }
  },
  "nbformat": 4,
  "nbformat_minor": 5
}